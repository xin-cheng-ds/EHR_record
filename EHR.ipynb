{
 "cells": [
  {
   "cell_type": "code",
   "execution_count": 32,
   "id": "8a62e09a-b16a-47cf-bc2a-83a764a4f698",
   "metadata": {
    "id": "8a62e09a-b16a-47cf-bc2a-83a764a4f698",
    "tags": []
   },
   "outputs": [],
   "source": [
    "import pandas as pd\n",
    "import numpy as np\n",
    "import sklearn\n",
    "import matplotlib.pyplot as plt\n",
    "import seaborn as sns\n",
    "from sklearn.impute import SimpleImputer\n",
    "from sklearn.pipeline import make_pipeline\n",
    "from sklearn.compose import ColumnTransformer\n",
    "from sklearn.preprocessing import StandardScaler\n",
    "from sklearn.preprocessing import OneHotEncoder\n",
    "from imblearn.over_sampling import SMOTE\n",
    "from imblearn.pipeline import Pipeline  # Import from imblearn instead of sklearn\n",
    "from imblearn.over_sampling import SMOTE\n",
    "from sklearn.base import ClassifierMixin\n",
    "from sklearn.utils.class_weight import compute_sample_weight\n",
    "import wandb\n",
    "from sklearn.linear_model import LogisticRegression\n",
    "from sklearn.ensemble import RandomForestClassifier\n",
    "from sklearn.ensemble import GradientBoostingClassifier\n",
    "from sklearn.model_selection import cross_val_score, cross_validate\n",
    "from sklearn.metrics import classification_report\n",
    "from sklearn.model_selection import train_test_split\n",
    "from sklearn.metrics import confusion_matrix\n",
    "from sklearn.metrics import roc_curve, auc\n",
    "from sklearn.model_selection import GridSearchCV\n",
    "from xgboost import XGBClassifier\n"
   ]
  },
  {
   "cell_type": "code",
   "execution_count": null,
   "id": "G_32CmBHi56R",
   "metadata": {
    "colab": {
     "base_uri": "https://localhost:8080/"
    },
    "id": "G_32CmBHi56R",
    "outputId": "fc2f0c66-a75e-4000-c7cd-bc84acb2123f"
   },
   "outputs": [],
   "source": [
    "from google.colab import drive\n",
    "drive.mount('/content/drive')"
   ]
  },
  {
   "cell_type": "code",
   "execution_count": null,
   "id": "cac9997b-0728-4261-a2b2-32c9fa905cb8",
   "metadata": {},
   "outputs": [],
   "source": [
    "#%pip install wandb imbalanced-learn"
   ]
  },
  {
   "cell_type": "code",
   "execution_count": 33,
   "id": "a6ec386a-7427-4322-847b-2dcf9ed19bef",
   "metadata": {
    "tags": []
   },
   "outputs": [],
   "source": [
    "# Load data\n",
    "def load_data(path):\n",
    "    demographic_train = pd.read_csv(path+'Train/demographics.csv')\n",
    "    labs_train = pd.read_csv(path+'Train/labs.csv')\n",
    "    vitals_train = pd.read_csv(path+'Train/vitals.csv')\n",
    "    demographic_test = pd.read_csv(path+'Test/demographics.csv')\n",
    "    labs_test = pd.read_csv(path+'Test/labs.csv')\n",
    "    vitals_test = pd.read_csv(path+'Test/vitals.csv')\n",
    "    return demographic_train, labs_train, vitals_train, demographic_test, labs_test, vitals_test\n"
   ]
  },
  {
   "cell_type": "code",
   "execution_count": null,
   "id": "6485360d-9900-4a28-af32-03c1fe2bbfca",
   "metadata": {},
   "outputs": [],
   "source": [
    "#for colab reading files\n",
    "path = 'drive/My Drive/Projects/EHR_record/'\n"
   ]
  },
  {
   "cell_type": "code",
   "execution_count": 34,
   "id": "3cc8ad2f-f3b6-4099-bf7c-4c73e08ec5da",
   "metadata": {
    "tags": []
   },
   "outputs": [],
   "source": [
    "# Load data locally\n",
    "path=\"\""
   ]
  },
  {
   "cell_type": "code",
   "execution_count": 35,
   "id": "82d3d46f-875d-43f2-9cab-8d004dc21168",
   "metadata": {
    "tags": []
   },
   "outputs": [],
   "source": [
    "demographic_train, labs_train, vitals_train, demographic_test, labs_test, vitals_test = load_data(path)"
   ]
  },
  {
   "cell_type": "markdown",
   "id": "116c470f-6f60-4181-bb78-caa467b4b29d",
   "metadata": {
    "id": "116c470f-6f60-4181-bb78-caa467b4b29d"
   },
   "source": [
    "## 1. Exloratory analysis"
   ]
  },
  {
   "cell_type": "code",
   "execution_count": 36,
   "id": "cf260a76-3c86-43c6-ae3a-968db11ec24c",
   "metadata": {
    "colab": {
     "base_uri": "https://localhost:8080/"
    },
    "editable": true,
    "id": "cf260a76-3c86-43c6-ae3a-968db11ec24c",
    "outputId": "c0a53c2a-ec1e-454a-8bbc-3129ae91b509",
    "tags": []
   },
   "outputs": [
    {
     "name": "stdout",
     "output_type": "stream",
     "text": [
      "EDA for demographic:\n",
      "          patient_id   hospital_id  hospital_death           age  \\\n",
      "count   64384.000000  64384.000000    64384.000000  61263.000000   \n",
      "mean    65628.023003    104.891153        0.082179     62.475524   \n",
      "std     37789.609303     61.335116        0.274639     16.788310   \n",
      "min         1.000000      2.000000        0.000000     16.000000   \n",
      "25%     32967.750000     51.000000        0.000000     53.000000   \n",
      "50%     65571.500000    116.000000        0.000000     65.000000   \n",
      "75%     98343.750000    158.000000        0.000000     75.000000   \n",
      "max    131051.000000    204.000000        1.000000     89.000000   \n",
      "\n",
      "                bmi  elective_surgery        height        weight  \\\n",
      "count  61554.000000      64384.000000  63477.000000  62004.000000   \n",
      "mean      29.209720          0.185823    169.523406     83.984488   \n",
      "std        8.353251          0.388966     10.780263     25.227411   \n",
      "min       14.844926          0.000000    137.200000     38.600000   \n",
      "25%       23.625053          0.000000    162.500000     66.500000   \n",
      "50%       27.623893          0.000000    170.000000     80.055000   \n",
      "75%       32.966428          0.000000    177.800000     97.100000   \n",
      "max       67.814990          1.000000    195.590000    186.000000   \n",
      "\n",
      "             icu_id  pre_icu_los_days  ...  apache_icu_death_prob  \\\n",
      "count  64384.000000      64384.000000  ...           56718.000000   \n",
      "mean     476.380017          0.791365  ...               0.116627   \n",
      "std      235.456436          2.311556  ...               0.164958   \n",
      "min       82.000000        -24.947222  ...               0.000000   \n",
      "25%      317.000000          0.029861  ...               0.020000   \n",
      "50%      479.000000          0.123611  ...               0.050000   \n",
      "75%      678.000000          0.384028  ...               0.130000   \n",
      "max      926.000000         81.802778  ...               0.990000   \n",
      "\n",
      "         ventilated          aids     cirrhosis  diabetes_mellitus  \\\n",
      "count  63872.000000  63872.000000  63872.000000       63872.000000   \n",
      "mean       0.313768      0.000892      0.016721           0.229694   \n",
      "std        0.464027      0.029860      0.128225           0.420639   \n",
      "min        0.000000      0.000000      0.000000           0.000000   \n",
      "25%        0.000000      0.000000      0.000000           0.000000   \n",
      "50%        0.000000      0.000000      0.000000           0.000000   \n",
      "75%        1.000000      0.000000      0.000000           0.000000   \n",
      "max        1.000000      1.000000      1.000000           1.000000   \n",
      "\n",
      "       hepatic_failure  immunosuppression      leukemia      lymphoma  \\\n",
      "count     63872.000000       63872.000000  63872.000000  63872.000000   \n",
      "mean          0.013057           0.025504      0.006857      0.003930   \n",
      "std           0.113521           0.157652      0.082526      0.062565   \n",
      "min           0.000000           0.000000      0.000000      0.000000   \n",
      "25%           0.000000           0.000000      0.000000      0.000000   \n",
      "50%           0.000000           0.000000      0.000000      0.000000   \n",
      "75%           0.000000           0.000000      0.000000      0.000000   \n",
      "max           1.000000           1.000000      1.000000      1.000000   \n",
      "\n",
      "       solid_tumor_with_metastasis  \n",
      "count                 63872.000000  \n",
      "mean                      0.021120  \n",
      "std                       0.143787  \n",
      "min                       0.000000  \n",
      "25%                       0.000000  \n",
      "50%                       0.000000  \n",
      "75%                       0.000000  \n",
      "max                       1.000000  \n",
      "\n",
      "[8 rows x 22 columns]\n",
      "Size of demographic: (64384, 29)\n",
      "Null values in demographic:\n",
      " patient_id                         0\n",
      "hospital_id                        0\n",
      "hospital_death                     0\n",
      "age                             3121\n",
      "bmi                             2830\n",
      "elective_surgery                   0\n",
      "ethnicity                       1266\n",
      "gender                            15\n",
      "height                           907\n",
      "weight                          2380\n",
      "hospital_admit_source          15953\n",
      "icu_admit_source                  81\n",
      "icu_id                             0\n",
      "icu_stay_type                      0\n",
      "icu_type                           0\n",
      "pre_icu_los_days                   0\n",
      "readmission_status                 0\n",
      "bodysystem_diagnosis_admit      1150\n",
      "diagnosis_admit                  757\n",
      "apache_icu_death_prob           7666\n",
      "ventilated                       512\n",
      "aids                             512\n",
      "cirrhosis                        512\n",
      "diabetes_mellitus                512\n",
      "hepatic_failure                  512\n",
      "immunosuppression                512\n",
      "leukemia                         512\n",
      "lymphoma                         512\n",
      "solid_tumor_with_metastasis      512\n",
      "dtype: int64\n",
      "\n",
      "\n",
      "EDA for labs:\n",
      "          patient_id      Min Value     Max Value\n",
      "count  759653.000000  759653.000000  759653.00000\n",
      "mean    65633.902142      54.742216      61.24596\n",
      "std     37742.813529      73.715720      84.05407\n",
      "min         1.000000       0.300000       0.33000\n",
      "25%     33071.000000       7.900000       8.20000\n",
      "50%     65609.000000      19.000000      21.00000\n",
      "75%     98190.000000      98.000000     118.00000\n",
      "max    131051.000000     670.000000     695.04500\n",
      "Size of labs: (759653, 6)\n",
      "Null values in labs:\n",
      " patient_id                                           0\n",
      "Lab                                                  0\n",
      "Min Value                                            0\n",
      "Max Value                                            0\n",
      "Unit of Measure                                      0\n",
      "Time of Measure (First Day or First Hour of Stay)    0\n",
      "dtype: int64\n",
      "\n",
      "\n",
      "EDA for vitals:\n",
      "         patient_id     Min Value     Max Value\n",
      "count  1.237329e+06  1.237329e+06  1.237329e+06\n",
      "mean   6.563785e+04  6.980666e+01  9.067879e+01\n",
      "std    3.778164e+04  3.299414e+01  4.040548e+01\n",
      "min    1.000000e+00  0.000000e+00  0.000000e+00\n",
      "25%    3.299400e+04  4.500000e+01  6.600000e+01\n",
      "50%    6.562700e+04  7.000000e+01  9.500000e+01\n",
      "75%    9.833000e+04  9.300000e+01  1.130000e+02\n",
      "max    1.310510e+05  1.950000e+02  2.320000e+02\n",
      "Size of vitals: (1237329, 6)\n",
      "Null values in vitals:\n",
      " patient_id                                           0\n",
      "Vital                                                0\n",
      "Min Value                                            0\n",
      "Max Value                                            0\n",
      "Unit of Measure                                      0\n",
      "Time of Measure (First Day or First Hour of Stay)    0\n",
      "dtype: int64\n",
      "\n",
      "\n"
     ]
    }
   ],
   "source": [
    "def perform_eda(dataframes, names):\n",
    "    \"\"\"\n",
    "    Perform exploratory data analysis (EDA) on given dataframes.\n",
    "\n",
    "    Parameters:\n",
    "        dataframes (list of pd.DataFrame): List of DataFrames to analyze.\n",
    "        names (list of str): Names corresponding to each DataFrame in the list.\n",
    "\n",
    "    Returns:\n",
    "        None\n",
    "    \"\"\"\n",
    "    for df, name in zip(dataframes, names):\n",
    "        print(f\"EDA for {name}:\")\n",
    "        print(df.describe())\n",
    "        print(f\"Size of {name}:\", df.shape)\n",
    "        print(f\"Null values in {name}:\\n\", df.isnull().sum())\n",
    "        print(\"\\n\")\n",
    "    \n",
    "# Usage:\n",
    "dataframes = [demographic_train, labs_train, vitals_train]\n",
    "names = [\"demographic\", \"labs\", \"vitals\"]\n",
    "perform_eda(dataframes, names)\n"
   ]
  },
  {
   "cell_type": "code",
   "execution_count": 10,
   "id": "5662696f-fae2-4996-ad80-e33bcbbe3cfa",
   "metadata": {
    "tags": []
   },
   "outputs": [
    {
     "data": {
      "image/png": "[encoded data removed]",
      "text/plain": [
       "<Figure size 800x600 with 1 Axes>"
      ]
     },
     "metadata": {},
     "output_type": "display_data"
    }
   ],
   "source": [
    "# Check target variable distribution\n",
    "\n",
    "def plot_target_distribution(df, target_column):\n",
    "    \"\"\"\n",
    "    Plot the distribution of the target variable.\n",
    "\n",
    "    Parameters:\n",
    "        df (pd.DataFrame): DataFrame containing the data.\n",
    "        target_column (str): Name of the target column.\n",
    "\n",
    "    Returns:\n",
    "        None\n",
    "    \"\"\"\n",
    "    plt.figure(figsize=(8, 6))\n",
    "    sns.countplot(x=target_column, data=df)\n",
    "    plt.title('Distribution of Target Variable')\n",
    "    plt.savefig('img/Distribution of Target Variable.png')\n",
    "    plt.show()\n",
    "\n",
    "# Usage:\n",
    "plot_target_distribution(demographic_train, 'hospital_death')\n"
   ]
  },
  {
   "cell_type": "code",
   "execution_count": 25,
   "id": "3db43bf5-8a4e-42d9-907d-d0f8f0c67c2e",
   "metadata": {
    "tags": []
   },
   "outputs": [
    {
     "data": {
      "text/plain": [
       "<Figure size 5000x6000 with 0 Axes>"
      ]
     },
     "metadata": {},
     "output_type": "display_data"
    },
    {
     "data": {
      "image/png": "[encoded data removed]",
      "text/plain": [
       "<Figure size 613.486x500 with 1 Axes>"
      ]
     },
     "metadata": {},
     "output_type": "display_data"
    }
   ],
   "source": [
    "# Melting the DataFrame to make it suitable for Seaborn plotting\n",
    "import pandas as pd\n",
    "df_melted = pd.melt(demographic_train, id_vars=['hospital_death'], value_vars=[\n",
    " 'apache_icu_death_prob'])\n",
    "\n",
    "plt.figure(figsize=(50, 60))\n",
    "sns.catplot(x='variable', y='value', hue='hospital_death', kind='box', data=df_melted)\n",
    "plt.xticks(fontsize=10)\n",
    "plt.title('Box plot of Features grouped by Hospital Death')\n",
    "plt.savefig('img/apache_score_in_two_targets.png')\n",
    "plt.show()\n"
   ]
  },
  {
   "cell_type": "code",
   "execution_count": 60,
   "id": "b9ae1c32-7fd0-4524-a2f9-87f7967f9add",
   "metadata": {
    "colab": {
     "base_uri": "https://localhost:8080/",
     "height": 928
    },
    "editable": true,
    "id": "b9ae1c32-7fd0-4524-a2f9-87f7967f9add",
    "outputId": "96e72b41-ae9f-4101-93d7-f49b8af8708f",
    "tags": []
   },
   "outputs": [
    {
     "name": "stdout",
     "output_type": "stream",
     "text": [
      "Outlier detection for demographic:\n",
      "Outlier detection for labs:\n",
      "Outlier detection for vitals:\n"
     ]
    },
    {
     "data": {
      "image/png": "[encoded data removed]",
      "text/plain": [
       "<Figure size 1500x500 with 3 Axes>"
      ]
     },
     "metadata": {},
     "output_type": "display_data"
    }
   ],
   "source": [
    "def detect_outliers(dataframes, names):\n",
    "    \"\"\"\n",
    "    Detect outliers in given dataframes using box plots, excluding the 'patient_id' column.\n",
    "    Plots will be arranged in a grid.\n",
    "\n",
    "    Parameters:\n",
    "        dataframes (list of pd.DataFrame): List of DataFrames to analyze.\n",
    "        names (list of str): Names corresponding to each DataFrame in the list.\n",
    "\n",
    "    Returns:\n",
    "        None\n",
    "    \"\"\"\n",
    "    num_dataframes = len(dataframes)\n",
    "    fig, axes = plt.subplots(1, num_dataframes, figsize=(15, 5), sharey=True)\n",
    "\n",
    "    for idx, (df, name) in enumerate(zip(dataframes, names)):\n",
    "        print(f\"Outlier detection for {name}:\")\n",
    "\n",
    "        # Drop the 'patient_id' column if it exists\n",
    "        df_plot = df.drop(columns=['patient_id','diagnosis_admit','icu_id'], errors='ignore')\n",
    "\n",
    "        sns.boxplot(ax=axes[idx], data=df_plot.select_dtypes(include=['float64', 'int64']))\n",
    "        axes[idx].set_title(f'Boxplot of {name}')\n",
    "        axes[idx].tick_params(axis='x', rotation=90)\n",
    "\n",
    "    plt.tight_layout()\n",
    "    plt.savefig('img/outliner_check.png')\n",
    "    plt.show()\n",
    "\n",
    "# Usage:\n",
    "dataframes = [demographic_train, labs_train, vitals_train]\n",
    "names = [\"demographic\", \"labs\", \"vitals\"]\n",
    "detect_outliers(dataframes, names)\n"
   ]
  },
  {
   "cell_type": "code",
   "execution_count": 58,
   "id": "7a750158-97d3-44b6-a7c7-9668b4957b84",
   "metadata": {
    "tags": []
   },
   "outputs": [
    {
     "data": {
      "image/png": "[encoded data removed]",
      "text/plain": [
       "<Figure size 1100x900 with 2 Axes>"
      ]
     },
     "metadata": {},
     "output_type": "display_data"
    }
   ],
   "source": [
    "#Check the linearality of predictors\n",
    "\n",
    "# Compute the correlation matrix\n",
    "corr = demographic_train.drop(['hospital_death','readmission_status'], axis=1).select_dtypes(include=['int64', 'float64']).corr()\n",
    "\n",
    "# Generate a mask for the upper triangle\n",
    "mask = np.triu(np.ones_like(corr, dtype=bool))\n",
    "\n",
    "# Set up the matplotlib figure\n",
    "f, ax = plt.subplots(figsize=(11, 9))\n",
    "\n",
    "# Generate a custom diverging colormap\n",
    "cmap = sns.diverging_palette(230, 20, as_cmap=True)\n",
    "\n",
    "# Draw the heatmap with the mask and correct aspect ratio\n",
    "sns.heatmap(corr, mask=mask, cmap=cmap, vmax=.3, center=0,\n",
    "            square=True, linewidths=.5, cbar_kws={\"shrink\": .5})\n",
    "plt.savefig('img/correlation graph.png')\n",
    "plt.show()"
   ]
  },
  {
   "cell_type": "markdown",
   "id": "3f080cca-7ef3-4fed-96f4-ada457c1b193",
   "metadata": {},
   "source": [
    "## 2. Data cleaning"
   ]
  },
  {
   "cell_type": "code",
   "execution_count": 37,
   "id": "5dd6d3f7-0dfd-4181-a6c1-ff4235598d35",
   "metadata": {
    "editable": true,
    "id": "5dd6d3f7-0dfd-4181-a6c1-ff4235598d35",
    "tags": []
   },
   "outputs": [],
   "source": [
    "\n",
    "def demographic_fill_na(df):\n",
    "    \n",
    "    \"\"\"\n",
    "    Fill missing values in the demographic dataframe.\n",
    "\n",
    "    Parameters:\n",
    "        df (pd.DataFrame): Demographic DataFrame with missing values.\n",
    "\n",
    "    Returns:\n",
    "        pd.DataFrame: DataFrame with missing values filled.\n",
    "    \"\"\"\n",
    "\n",
    "    # Fill the null value in ethnicity column with \"Other/Unknown\"\n",
    "    df['ethnicity'] = df['ethnicity'].fillna('Other/Unknown')\n",
    "\n",
    "    #Fill the null value of gender with equal M and F\n",
    "    # Define the choices and probabilities\n",
    "    choices = ['M', 'F']\n",
    "    probabilities = [0.5, 0.5]\n",
    "\n",
    "    # Use np.random.choice to fill each missing value\n",
    "    df.loc[df['gender'].isnull(), 'gender'] = np.random.choice(choices, size=df['gender'].isnull().sum(), p=probabilities)\n",
    "\n",
    "    # Fill the null value in \"hospital_admit_source\" column with \"Unknown\"\n",
    "    df['hospital_admit_source'] = df['hospital_admit_source'].fillna('Unknown')\n",
    "\n",
    "    # Fill the null value in \"icu_admit_source\" column with \"Floor\"\n",
    "    df['icu_admit_source'] = df['icu_admit_source'].fillna('Floor')\n",
    "\n",
    "    # Fill the null value in \"bodysystem_diagnosis_admit\" column with \"Unknown\"\n",
    "    df['bodysystem_diagnosis_admit'] = df['bodysystem_diagnosis_admit'].fillna('Unknown')\n",
    "    return df\n",
    "    \n",
    "# remove unit of measure in labs and vitals, the unit of measure shouldn't have any predict power\n",
    "def labs_vitals_process(labs, column):\n",
    "    \"\"\"\n",
    "    Process the labs DataFrame by removing unit of measure and pivoting.\n",
    "\n",
    "    Parameters:\n",
    "        labs (pd.DataFrame): Labs DataFrame.\n",
    "\n",
    "    Returns:\n",
    "        pd.DataFrame: Processed labs DataFrame.\n",
    "    \"\"\"\n",
    "    \n",
    "    #remove unit of measure\n",
    "    labs.drop('Unit of Measure', axis=1, inplace=True)\n",
    "    #pivot table to get unique patient_id\n",
    "    labs_pivot = labs.pivot_table(\n",
    "        values=['Min Value', 'Max Value'],\n",
    "        index='patient_id',\n",
    "        columns=[column, 'Time of Measure (First Day or First Hour of Stay)']\n",
    "    )\n",
    "\n",
    "    labs_pivot.reset_index(inplace=True)\n",
    "\n",
    "    labs_pivot.columns = ['patient_id' if col[0] == 'patient_id' else '_'.join(str(col).strip() for col in col) for col in labs_pivot.columns]\n",
    "    return labs_pivot\n",
    "\n",
    "\n"
   ]
  },
  {
   "cell_type": "code",
   "execution_count": 38,
   "id": "fbb745a3-ec65-41ac-9650-9c78b4f6cbc0",
   "metadata": {
    "editable": true,
    "id": "fbb745a3-ec65-41ac-9650-9c78b4f6cbc0",
    "tags": []
   },
   "outputs": [],
   "source": [
    "# Define merge dataset function\n",
    "def merge_datasets(df1, df2, df3, key):\n",
    "    \"\"\"\n",
    "    Merge three dataframes on a given key.\n",
    "\n",
    "    Parameters:\n",
    "        df1, df2, df3 (pd.DataFrame): DataFrames to be merged.\n",
    "        key (str): Column name on which to merge.\n",
    "\n",
    "    Returns:\n",
    "        pd.DataFrame: Merged DataFrame.\n",
    "    \"\"\"\n",
    "    merged_df = pd.merge(df1, df2, on=key, how='inner')\n",
    "    merged_df = pd.merge(merged_df, df3, on=key, how='inner')\n",
    "    return merged_df\n"
   ]
  },
  {
   "cell_type": "code",
   "execution_count": 39,
   "id": "bdbfdbf2-fa2a-4eea-82e4-cd36d56aa26e",
   "metadata": {
    "tags": []
   },
   "outputs": [],
   "source": [
    "# Preprocess three dataframes and then merge together\n",
    "def preprocess(demo, labs, vitals,key):\n",
    "    demo = demographic_fill_na(demo)\n",
    "    labs = labs_vitals_process(labs,'Lab')\n",
    "    vitals = labs_vitals_process(vitals, 'Vital')\n",
    "    #merge\n",
    "    train = merge_datasets(demo,vitals,labs,key)\n",
    "    return train"
   ]
  },
  {
   "cell_type": "code",
   "execution_count": 40,
   "id": "647c3936-7d2a-48aa-82f5-368d0d42059f",
   "metadata": {
    "editable": true,
    "id": "647c3936-7d2a-48aa-82f5-368d0d42059f",
    "tags": []
   },
   "outputs": [],
   "source": [
    "train = preprocess(demographic_train,labs_train,vitals_train, 'patient_id')\n",
    "test = preprocess(demographic_test,labs_test,vitals_test,'patient_id')\n",
    "y_train = train['hospital_death']\n",
    "X_train = train.drop('hospital_death', axis=1)"
   ]
  },
  {
   "cell_type": "code",
   "execution_count": 41,
   "id": "78406951-6013-41d4-beea-8e8099c80ef5",
   "metadata": {
    "editable": true,
    "id": "78406951-6013-41d4-beea-8e8099c80ef5",
    "outputId": "9759c97a-3974-4683-91db-67c3df80f55b",
    "tags": []
   },
   "outputs": [
    {
     "data": {
      "text/plain": [
       "(61598, 112)"
      ]
     },
     "execution_count": 41,
     "metadata": {},
     "output_type": "execute_result"
    }
   ],
   "source": [
    "X_train.shape"
   ]
  },
  {
   "cell_type": "markdown",
   "id": "08cacae8-f3c9-45b8-9261-fc1c07e9255a",
   "metadata": {
    "editable": true,
    "id": "08cacae8-f3c9-45b8-9261-fc1c07e9255a",
    "tags": []
   },
   "source": [
    "### 3. Fit on models"
   ]
  },
  {
   "cell_type": "code",
   "execution_count": 42,
   "id": "c39409ca-1d2f-458d-9329-9c5797368699",
   "metadata": {
    "tags": []
   },
   "outputs": [],
   "source": [
    "def sample_data(df, fraction, target_col='hospital_death', seed=42):\n",
    "    \"\"\"\n",
    "    Sample the data based on the given fraction and target column.\n",
    "\n",
    "    Parameters:\n",
    "    - df (pd.DataFrame): The input dataframe.\n",
    "    - fraction (float): The fraction of data to sample from each group.\n",
    "    - target_col (str, optional): The target column for grouping. Defaults to 'hospital_death'.\n",
    "    - seed (int, optional): The random seed for reproducibility. Defaults to 42.\n",
    "\n",
    "    Returns:\n",
    "    - pd.DataFrame, pd.Series: The sampled features and labels.\n",
    "    \"\"\"\n",
    "    # Group by the target column and sample fraction from each group\n",
    "    sampled_df = df.groupby(target_col).apply(lambda x: x.sample(frac=fraction, random_state=seed)).reset_index(drop=True)\n",
    "    sampled_X = sampled_df.drop(target_col, axis=1)\n",
    "    sampled_y = sampled_df[target_col]\n",
    "    return sampled_X, sampled_y\n"
   ]
  },
  {
   "cell_type": "code",
   "execution_count": 43,
   "id": "0bf84558-89e7-470e-aa80-d4b89ede8e64",
   "metadata": {
    "tags": []
   },
   "outputs": [],
   "source": [
    "# Get numerical features\n",
    "numerical_features = X_train.select_dtypes(include=['int64', 'float64']).columns.tolist()\n",
    "\n",
    "# Get categorical features\n",
    "categorical_features = X_train.select_dtypes(include=['object']).columns.tolist()\n"
   ]
  },
  {
   "cell_type": "code",
   "execution_count": 44,
   "id": "dd65f741-e048-4cd3-8864-c2f8d2c5c483",
   "metadata": {
    "tags": []
   },
   "outputs": [],
   "source": [
    "def define_preprocessing(numerical_features, categorical_features):\n",
    "    # Numerical columns processing pipeline\n",
    "    numerical_transformer = Pipeline(steps=[\n",
    "        ('imputer', SimpleImputer(strategy='mean')),\n",
    "        ('scaler', StandardScaler())\n",
    "    ])\n",
    "    # Categorical columns processing pipeline\n",
    "    categorical_transformer = Pipeline(steps=[\n",
    "        ('imputer', SimpleImputer(strategy='most_frequent')),\n",
    "        ('onehot', OneHotEncoder(handle_unknown='ignore'))\n",
    "    ])\n",
    "    # Combine numerical and categorical preprocessing\n",
    "    preprocessor = ColumnTransformer(\n",
    "        transformers=[\n",
    "            ('num', numerical_transformer, numerical_features),\n",
    "            ('cat', categorical_transformer, categorical_features)\n",
    "        ])\n",
    "    return preprocessor\n",
    "\n",
    "# Call the function to create the preprocessor object\n",
    "preprocessor = define_preprocessing(numerical_features, categorical_features)"
   ]
  },
  {
   "cell_type": "code",
   "execution_count": 45,
   "id": "77762fac-c8ae-472b-8fa6-d87d4d6cd60b",
   "metadata": {
    "tags": []
   },
   "outputs": [],
   "source": [
    "\n",
    "# Logistic Regressy hyperparamerters\n",
    "logistic_params = {\n",
    "    'classifier__max_iter': [1000, 5000, 10000]\n",
    "}\n",
    "\n",
    "\n",
    "# Random Forest hyperparameters\n",
    "rf_params = {\n",
    "    'classifier__n_estimators': [100, 200, 300],\n",
    "    'classifier__max_depth': [10, 20, 30],\n",
    "    'classifier__min_samples_split': [2, 5, 10],\n",
    "    'classifier__min_samples_leaf': [1, 2, 4]\n",
    "}\n",
    "\n",
    "# Xgboost hyperparameters\n",
    "xgb_params = {\n",
    "    'classifier__n_estimators': [100, 200, 300],\n",
    "    'classifier__learning_rate': [0.01, 0.05, 0.1],\n",
    "    'classifier__max_depth': [3, 5, 7],\n",
    "    'classifier__scale_pos_weight': [1, 3, 5]\n",
    "}\n",
    "\n",
    "\n",
    "# Define the fractions to try\n",
    "fractions = [ 0.2]\n",
    "\n",
    "# Define scoring dictionary\n",
    "scoring = {\n",
    "    'precision': 'precision',\n",
    "    'recall': 'recall',\n",
    "    'f1_score': 'f1'\n",
    "}"
   ]
  },
  {
   "cell_type": "code",
   "execution_count": 46,
   "id": "1745e649-d225-436f-a780-949c5f66137b",
   "metadata": {
    "tags": []
   },
   "outputs": [],
   "source": [
    "def make_pipeline_with_classifier(classifier, class_balance=False, use_smote=False, **kwargs):\n",
    "    \"\"\"Create a pipeline with the given classifier.\"\"\"\n",
    "    steps = [('preprocessor', preprocessor)]  # Preprocessor is always included\n",
    "    \n",
    "    if use_smote:\n",
    "        steps.append(('SMOTE', SMOTE()))  # Add SMOTE if use_smote=True\n",
    "    \n",
    "    if class_balance:\n",
    "        if classifier == LogisticRegression:\n",
    "            kwargs['class_weight'] = 'balanced'\n",
    "        elif classifier == RandomForestClassifier:\n",
    "            kwargs['class_weight'] = 'balanced'\n",
    "        elif classifier == XGBClassifier:\n",
    "            # Adjust the scale_pos_weight for class imbalance\n",
    "            neg, pos = np.bincount(y)\n",
    "            kwargs['scale_pos_weight'] = neg / pos\n",
    "    \n",
    "    steps.append(('classifier', classifier(**kwargs)))  # Classifier is always the last step\n",
    "    return Pipeline(steps)\n"
   ]
  },
  {
   "cell_type": "code",
   "execution_count": 47,
   "id": "375193fd-d369-4f5b-b627-df7327ca35e3",
   "metadata": {
    "tags": []
   },
   "outputs": [],
   "source": [
    "# Configuration dictionary for pipelines\n",
    "config = [\n",
    "    {\n",
    "        \"name\": \"Logistic Regression\",\n",
    "        \"pipeline_function\": make_pipeline_with_classifier,\n",
    "        \"classifier\": LogisticRegression,\n",
    "        \"params_grid\": logistic_params  \n",
    "    },\n",
    "    {\n",
    "        \"name\": \"Random Forest\",\n",
    "        \"pipeline_function\": make_pipeline_with_classifier,\n",
    "        \"classifier\": RandomForestClassifier,\n",
    "        \"params_grid\": rf_params  \n",
    "    },\n",
    "    {\n",
    "        \"name\": \"XGBoost\",\n",
    "        \"pipeline_function\": make_pipeline_with_classifier,\n",
    "        \"classifier\": XGBClassifier,\n",
    "        \"params_grid\": xgb_params\n",
    "    }\n",
    "]\n",
    "\n",
    "\n"
   ]
  },
  {
   "cell_type": "code",
   "execution_count": 48,
   "id": "1380fe05-28a1-4edd-925e-29e0c2e88736",
   "metadata": {
    "tags": []
   },
   "outputs": [
    {
     "data": {
      "text/plain": [
       "[{'name': 'Logistic Regression',\n",
       "  'pipeline': Pipeline(steps=[('preprocessor',\n",
       "                   ColumnTransformer(transformers=[('num',\n",
       "                                                    Pipeline(steps=[('imputer',\n",
       "                                                                     SimpleImputer()),\n",
       "                                                                    ('scaler',\n",
       "                                                                     StandardScaler())]),\n",
       "                                                    ['patient_id', 'hospital_id',\n",
       "                                                     'age', 'bmi',\n",
       "                                                     'elective_surgery', 'height',\n",
       "                                                     'weight', 'icu_id',\n",
       "                                                     'pre_icu_los_days',\n",
       "                                                     'readmission_status',\n",
       "                                                     'diagnosis_admit',\n",
       "                                                     'apache_icu_death_prob',\n",
       "                                                     'ventilated', 'aids',\n",
       "                                                     'cirrhosis',\n",
       "                                                     'diab...\n",
       "                                                     'Max Value_mbp_hour',\n",
       "                                                     'Max '\n",
       "                                                     'Value_mbp_noninvasive_day', ...]),\n",
       "                                                   ('cat',\n",
       "                                                    Pipeline(steps=[('imputer',\n",
       "                                                                     SimpleImputer(strategy='most_frequent')),\n",
       "                                                                    ('onehot',\n",
       "                                                                     OneHotEncoder(handle_unknown='ignore'))]),\n",
       "                                                    ['ethnicity', 'gender',\n",
       "                                                     'hospital_admit_source',\n",
       "                                                     'icu_admit_source',\n",
       "                                                     'icu_stay_type', 'icu_type',\n",
       "                                                     'bodysystem_diagnosis_admit'])])),\n",
       "                  ('SMOTE', SMOTE()), ('classifier', LogisticRegression())]),\n",
       "  'params_grid': {'classifier__max_iter': [1000, 5000, 10000]}},\n",
       " {'name': 'Random Forest',\n",
       "  'pipeline': Pipeline(steps=[('preprocessor',\n",
       "                   ColumnTransformer(transformers=[('num',\n",
       "                                                    Pipeline(steps=[('imputer',\n",
       "                                                                     SimpleImputer()),\n",
       "                                                                    ('scaler',\n",
       "                                                                     StandardScaler())]),\n",
       "                                                    ['patient_id', 'hospital_id',\n",
       "                                                     'age', 'bmi',\n",
       "                                                     'elective_surgery', 'height',\n",
       "                                                     'weight', 'icu_id',\n",
       "                                                     'pre_icu_los_days',\n",
       "                                                     'readmission_status',\n",
       "                                                     'diagnosis_admit',\n",
       "                                                     'apache_icu_death_prob',\n",
       "                                                     'ventilated', 'aids',\n",
       "                                                     'cirrhosis',\n",
       "                                                     'diab...\n",
       "                                                     'Max '\n",
       "                                                     'Value_mbp_noninvasive_day', ...]),\n",
       "                                                   ('cat',\n",
       "                                                    Pipeline(steps=[('imputer',\n",
       "                                                                     SimpleImputer(strategy='most_frequent')),\n",
       "                                                                    ('onehot',\n",
       "                                                                     OneHotEncoder(handle_unknown='ignore'))]),\n",
       "                                                    ['ethnicity', 'gender',\n",
       "                                                     'hospital_admit_source',\n",
       "                                                     'icu_admit_source',\n",
       "                                                     'icu_stay_type', 'icu_type',\n",
       "                                                     'bodysystem_diagnosis_admit'])])),\n",
       "                  ('SMOTE', SMOTE()), ('classifier', RandomForestClassifier())]),\n",
       "  'params_grid': {'classifier__n_estimators': [100, 200, 300],\n",
       "   'classifier__max_depth': [10, 20, 30],\n",
       "   'classifier__min_samples_split': [2, 5, 10],\n",
       "   'classifier__min_samples_leaf': [1, 2, 4]}},\n",
       " {'name': 'XGBoost',\n",
       "  'pipeline': Pipeline(steps=[('preprocessor',\n",
       "                   ColumnTransformer(transformers=[('num',\n",
       "                                                    Pipeline(steps=[('imputer',\n",
       "                                                                     SimpleImputer()),\n",
       "                                                                    ('scaler',\n",
       "                                                                     StandardScaler())]),\n",
       "                                                    ['patient_id', 'hospital_id',\n",
       "                                                     'age', 'bmi',\n",
       "                                                     'elective_surgery', 'height',\n",
       "                                                     'weight', 'icu_id',\n",
       "                                                     'pre_icu_los_days',\n",
       "                                                     'readmission_status',\n",
       "                                                     'diagnosis_admit',\n",
       "                                                     'apache_icu_death_prob',\n",
       "                                                     'ventilated', 'aids',\n",
       "                                                     'cirrhosis',\n",
       "                                                     'diab...\n",
       "                                 feature_types=None, gamma=None, gpu_id=None,\n",
       "                                 grow_policy=None, importance_type=None,\n",
       "                                 interaction_constraints=None, learning_rate=None,\n",
       "                                 max_bin=None, max_cat_threshold=None,\n",
       "                                 max_cat_to_onehot=None, max_delta_step=None,\n",
       "                                 max_depth=None, max_leaves=None,\n",
       "                                 min_child_weight=None, missing=nan,\n",
       "                                 monotone_constraints=None, n_estimators=100,\n",
       "                                 n_jobs=None, num_parallel_tree=None,\n",
       "                                 predictor=None, random_state=None, ...))]),\n",
       "  'params_grid': {'classifier__n_estimators': [100, 200, 300],\n",
       "   'classifier__learning_rate': [0.01, 0.05, 0.1],\n",
       "   'classifier__max_depth': [3, 5, 7],\n",
       "   'classifier__scale_pos_weight': [1, 3, 5]}}]"
      ]
     },
     "execution_count": 48,
     "metadata": {},
     "output_type": "execute_result"
    }
   ],
   "source": [
    "# Class balance and SMOTE switches\n",
    "use_class_balance = False\n",
    "use_smote = True\n",
    "\n",
    "# Create pipelines\n",
    "pipelines = [\n",
    "    {\n",
    "        \"name\": cfg[\"name\"],\n",
    "        \"pipeline\": cfg[\"pipeline_function\"](cfg[\"classifier\"], \n",
    "                                             class_balance=cfg.get(\"class_balance\", use_class_balance),\n",
    "                                             use_smote=use_smote),  # Pass the use_smote flag\n",
    "        \"params_grid\": cfg[\"params_grid\"]\n",
    "    }\n",
    "    for cfg in config\n",
    "]\n",
    "pipelines"
   ]
  },
  {
   "cell_type": "code",
   "execution_count": 49,
   "id": "aa98153a-abbd-4be5-b33a-0827f11fa83f",
   "metadata": {
    "editable": true,
    "id": "aa98153a-abbd-4be5-b33a-0827f11fa83f",
    "tags": []
   },
   "outputs": [],
   "source": [
    "\n",
    "# Helper function to fit the model with error handling\n",
    "def fit_model(pipeline_dict, X_train, y_train):\n",
    "    try:\n",
    "        grid_search = GridSearchCV(pipeline_dict['pipeline'], pipeline_dict.get('params_grid', {}),\n",
    "                                   cv=5, scoring=scoring, refit='f1_score')\n",
    "        grid_search.fit(X_train, y_train)\n",
    "        return grid_search\n",
    "    except Exception as e:\n",
    "        error_message = f\"An error occurred while fitting the model {pipeline_dict['name']}: {e}\"\n",
    "        print(error_message)\n",
    "        wandb.log({\"error\": error_message}) # Logging the error to W&B\n",
    "        return None\n",
    "\n",
    "# Helper function to evaluate the model with error handling\n",
    "def evaluate_model(grid_search, X_val, y_val, model_name, fraction):\n",
    "    if grid_search is None:\n",
    "        error_message = f\"Skipping evaluation for {model_name} due to an error during fitting.\"\n",
    "        print(error_message)\n",
    "        wandb.log({\"error\": error_message}) # Logging the error to W&B\n",
    "        return\n",
    "\n",
    "    try:\n",
    "        y_pred = grid_search.predict(X_val)\n",
    "        y_prob = grid_search.predict_proba(X_val)[:, 1]\n",
    "        cm = confusion_matrix(y_val, y_pred)\n",
    "        fpr, tpr, _ = roc_curve(y_val, y_prob)\n",
    "        roc_auc = auc(fpr, tpr)\n",
    "        log_results(grid_search, cm, fpr, tpr, roc_auc, model_name, fraction)\n",
    "    except Exception as e:\n",
    "        error_message = f\"An error occurred while evaluating the model {model_name}: {e}\"\n",
    "        print(error_message)\n",
    "        wandb.log({\"error\": error_message}) # Logging the error to W&B\n",
    "    return grid_search.cv_results_['mean_test_f1_score'].mean()\n",
    "\n",
    "def log_results(grid_search, cm, fpr, tpr, roc_auc, model_name, fraction):\n",
    "    \"\"\"Log results to W&B, including confusion matrix, ROC curve.\"\"\"\n",
    "    # Plot confusion matrix\n",
    "    plt.figure(figsize=(10, 7))\n",
    "    sns.heatmap(cm, annot=True, cmap='Blues')\n",
    "    plt.xlabel('Predicted')\n",
    "    plt.ylabel('Actual')\n",
    "    plt.title(f\"Confusion Matrix for {model_name} with fraction {fraction}\")\n",
    "    confusion_matrix_image = plt.gcf()\n",
    "    plt.close()\n",
    "\n",
    "    # Plot ROC curve\n",
    "    plt.figure(figsize=(10, 7))\n",
    "    plt.plot(fpr, tpr, lw=2, label=f'ROC curve (area = {roc_auc:.2f})')\n",
    "    plt.plot([0, 1], [0, 1], lw=2, linestyle='--')\n",
    "    plt.xlabel('False Positive Rate')\n",
    "    plt.ylabel('True Positive Rate')\n",
    "    plt.title(f'ROC Curve for {model_name} with fraction {fraction}')\n",
    "    plt.legend(loc=\"lower right\")\n",
    "    roc_curve_image = plt.gcf()\n",
    "    plt.close()\n",
    "\n",
    "    # Log the results\n",
    "    wandb.log({\n",
    "        \"model_name\": model_name,\n",
    "        \"best_params\": grid_search.best_params_,\n",
    "        \"best_score\": grid_search.best_score_,\n",
    "        \"confusion_matrix\": wandb.Image(confusion_matrix_image),\n",
    "        \"roc_curve\": wandb.Image(roc_curve_image),\n",
    "        \"precision\": grid_search.cv_results_['mean_test_precision'].mean(),\n",
    "        \"recall\": grid_search.cv_results_['mean_test_recall'].mean(),\n",
    "        \"f1_score\": grid_search.cv_results_['mean_test_f1_score'].mean(),\n",
    "        \"fraction\": fraction\n",
    "    })\n",
    "\n",
    "\n",
    "\n"
   ]
  },
  {
   "cell_type": "code",
   "execution_count": 50,
   "id": "1b0f7aed-ad1f-44b6-894c-031e77753433",
   "metadata": {
    "tags": []
   },
   "outputs": [],
   "source": [
    "def train_and_evaluate(pipelines, fractions, train_data):\n",
    "    results = []  # To store evaluation results\n",
    "\n",
    "    # Initialize W&B\n",
    "    wandb.init(project=\"EHR_record\")\n",
    "    \n",
    "    # Loop over the pipelines and fractions\n",
    "    for pipeline_dict in pipelines:\n",
    "        for fraction in fractions:\n",
    "            print(f\"Training {pipeline_dict['name']} with fraction {fraction}\")\n",
    "            \n",
    "            # Sample and split the data\n",
    "            X_sampled, y_sampled = sample_data(train_data, fraction)\n",
    "            X_train, X_val, y_train, y_val = train_test_split(X_sampled, y_sampled, stratify=y_sampled, test_size=0.2)\n",
    "\n",
    "            # Fit the model\n",
    "            grid_search = fit_model(pipeline_dict, X_train, y_train)\n",
    "\n",
    "            # Evaluate the model\n",
    "            evaluation_result = evaluate_model(grid_search, X_val, y_val, pipeline_dict['name'], fraction)\n",
    "\n",
    "            # Append to results\n",
    "            results.append({\n",
    "                'name': pipeline_dict['name'], \n",
    "                'fraction': fraction, \n",
    "                'mean_f1_score': evaluation_result, \n",
    "                'model': grid_search.best_estimator_\n",
    "            })\n",
    "\n",
    "    # Sort results by the desired metric\n",
    "    results.sort(key=lambda x: x['mean_f1_score'], reverse=True)\n",
    "\n",
    "    # Refit the best model\n",
    "    best_model = results[0]['model']\n",
    "    \n",
    "    return best_model, results\n"
   ]
  },
  {
   "cell_type": "code",
   "execution_count": null,
   "id": "b55882c6-bbdd-4f08-ab64-cbf45e7541e2",
   "metadata": {},
   "outputs": [],
   "source": [
    "# Experiment 1: percentage of sampled data affects on results\n",
    "fractions = [ 0.1, 0.2, 0.3]\n",
    "use_class_balance = False\n",
    "use_smote = False\n",
    "train_and_evaluate(pipelines,fractions, train)"
   ]
  },
  {
   "cell_type": "code",
   "execution_count": null,
   "id": "437e5002-61d4-472a-a6b2-701415842e3c",
   "metadata": {
    "tags": []
   },
   "outputs": [
    {
     "name": "stderr",
     "output_type": "stream",
     "text": [
      "\u001b[34m\u001b[1mwandb\u001b[0m: Currently logged in as: \u001b[33mxin0558\u001b[0m. Use \u001b[1m`wandb login --relogin`\u001b[0m to force relogin\n"
     ]
    },
    {
     "data": {
      "text/html": [
       "wandb version 0.15.10 is available!  To upgrade, please run:\n",
       " $ pip install wandb --upgrade"
      ],
      "text/plain": [
       "<IPython.core.display.HTML object>"
      ]
     },
     "metadata": {},
     "output_type": "display_data"
    },
    {
     "data": {
      "text/html": [
       "Tracking run with wandb version 0.15.8"
      ],
      "text/plain": [
       "<IPython.core.display.HTML object>"
      ]
     },
     "metadata": {},
     "output_type": "display_data"
    },
    {
     "data": {
      "text/html": [
       "Run data is saved locally in <code>/Users/xincheng/Documents/GitHub/EHR record/wandb/run-20230911_122536-pv6wcn35</code>"
      ],
      "text/plain": [
       "<IPython.core.display.HTML object>"
      ]
     },
     "metadata": {},
     "output_type": "display_data"
    },
    {
     "data": {
      "text/html": [
       "Syncing run <strong><a href='https://wandb.ai/xin0558/EHR_record/runs/pv6wcn35' target=\"_blank\">tough-puddle-44</a></strong> to <a href='https://wandb.ai/xin0558/EHR_record' target=\"_blank\">Weights & Biases</a> (<a href='https://wandb.me/run' target=\"_blank\">docs</a>)<br/>"
      ],
      "text/plain": [
       "<IPython.core.display.HTML object>"
      ]
     },
     "metadata": {},
     "output_type": "display_data"
    },
    {
     "data": {
      "text/html": [
       " View project at <a href='https://wandb.ai/xin0558/EHR_record' target=\"_blank\">https://wandb.ai/xin0558/EHR_record</a>"
      ],
      "text/plain": [
       "<IPython.core.display.HTML object>"
      ]
     },
     "metadata": {},
     "output_type": "display_data"
    },
    {
     "data": {
      "text/html": [
       " View run at <a href='https://wandb.ai/xin0558/EHR_record/runs/pv6wcn35' target=\"_blank\">https://wandb.ai/xin0558/EHR_record/runs/pv6wcn35</a>"
      ],
      "text/plain": [
       "<IPython.core.display.HTML object>"
      ]
     },
     "metadata": {},
     "output_type": "display_data"
    },
    {
     "name": "stdout",
     "output_type": "stream",
     "text": [
      "Training Logistic Regression with fraction 0.2\n",
      "Training Random Forest with fraction 0.2\n"
     ]
    }
   ],
   "source": [
    "# Experiment 2: Baseline with no adjustment to class imbalance\n",
    "fractions = [ 0.2]\n",
    "use_class_balance = False\n",
    "use_smote = False\n",
    "train_and_evaluate(pipelines,fractions, train)"
   ]
  },
  {
   "cell_type": "code",
   "execution_count": null,
   "id": "1ce1d1ef-2c8c-4b56-8769-fd63ad4e1e44",
   "metadata": {},
   "outputs": [],
   "source": [
    "# Experiment 3: Use only class weight\n",
    "fractions = [ 0.2]\n",
    "use_class_balance = True\n",
    "use_smote = False\n",
    "train_and_evaluate(pipelines,fractions, train)"
   ]
  },
  {
   "cell_type": "code",
   "execution_count": null,
   "id": "7f6fcb75-2def-41fb-93ef-931e4f479ce4",
   "metadata": {},
   "outputs": [],
   "source": [
    "# Experiment 4: Use only SMOTE\n",
    "fractions = [ 0.2]\n",
    "use_class_balance = False\n",
    "use_smote = True\n",
    "train_and_evaluate(pipelines,fractions, train)"
   ]
  },
  {
   "cell_type": "code",
   "execution_count": 30,
   "id": "39a29810-b128-49ad-a6b3-72382512a721",
   "metadata": {},
   "outputs": [
    {
     "data": {
      "text/html": [
       "Finishing last run (ID:yn4pdz0o) before initializing another..."
      ],
      "text/plain": [
       "<IPython.core.display.HTML object>"
      ]
     },
     "metadata": {},
     "output_type": "display_data"
    },
    {
     "data": {
      "text/html": [
       "Waiting for W&B process to finish... <strong style=\"color:green\">(success).</strong>"
      ],
      "text/plain": [
       "<IPython.core.display.HTML object>"
      ]
     },
     "metadata": {},
     "output_type": "display_data"
    },
    {
     "name": "stderr",
     "output_type": "stream",
     "text": [
      "wandb: WARNING Source type is set to 'repo' but some required information is missing from the environment. A job will not be created from this run. See https://docs.wandb.ai/guides/launch/create-job\n"
     ]
    },
    {
     "data": {
      "text/html": [
       "<style>\n",
       "    table.wandb td:nth-child(1) { padding: 0 10px; text-align: left ; width: auto;} td:nth-child(2) {text-align: left ; width: 100%}\n",
       "    .wandb-row { display: flex; flex-direction: row; flex-wrap: wrap; justify-content: flex-start; width: 100% }\n",
       "    .wandb-col { display: flex; flex-direction: column; flex-basis: 100%; flex: 1; padding: 10px; }\n",
       "    </style>\n",
       "<div class=\"wandb-row\"><div class=\"wandb-col\"><h3>Run history:</h3><br/><table class=\"wandb\"><tr><td>best_score</td><td>▁▆█</td></tr><tr><td>f1_score</td><td>▆▁█</td></tr><tr><td>fraction</td><td>▁▁▁</td></tr><tr><td>precision</td><td>▁█▃</td></tr><tr><td>recall</td><td>█▁▆</td></tr></table><br/></div><div class=\"wandb-col\"><h3>Run summary:</h3><br/><table class=\"wandb\"><tr><td>best_score</td><td>0.45959</td></tr><tr><td>f1_score</td><td>0.42816</td></tr><tr><td>fraction</td><td>0.2</td></tr><tr><td>model_name</td><td>Gradient Boost</td></tr><tr><td>precision</td><td>0.36692</td></tr><tr><td>recall</td><td>0.58997</td></tr></table><br/></div></div>"
      ],
      "text/plain": [
       "<IPython.core.display.HTML object>"
      ]
     },
     "metadata": {},
     "output_type": "display_data"
    },
    {
     "data": {
      "text/html": [
       " View run <strong style=\"color:#cdcd00\">tough-water-39</strong> at: <a href='https://wandb.ai/xin0558/EHR_record/runs/yn4pdz0o' target=\"_blank\">https://wandb.ai/xin0558/EHR_record/runs/yn4pdz0o</a><br/>Synced 6 W&B file(s), 6 media file(s), 0 artifact file(s) and 0 other file(s)"
      ],
      "text/plain": [
       "<IPython.core.display.HTML object>"
      ]
     },
     "metadata": {},
     "output_type": "display_data"
    },
    {
     "data": {
      "text/html": [
       "Find logs at: <code>./wandb/run-20230830_184331-yn4pdz0o/logs</code>"
      ],
      "text/plain": [
       "<IPython.core.display.HTML object>"
      ]
     },
     "metadata": {},
     "output_type": "display_data"
    },
    {
     "data": {
      "text/html": [
       "Successfully finished last run (ID:yn4pdz0o). Initializing new run:<br/>"
      ],
      "text/plain": [
       "<IPython.core.display.HTML object>"
      ]
     },
     "metadata": {},
     "output_type": "display_data"
    },
    {
     "data": {
      "text/html": [
       "wandb version 0.15.9 is available!  To upgrade, please run:\n",
       " $ pip install wandb --upgrade"
      ],
      "text/plain": [
       "<IPython.core.display.HTML object>"
      ]
     },
     "metadata": {},
     "output_type": "display_data"
    },
    {
     "data": {
      "text/html": [
       "Tracking run with wandb version 0.15.8"
      ],
      "text/plain": [
       "<IPython.core.display.HTML object>"
      ]
     },
     "metadata": {},
     "output_type": "display_data"
    },
    {
     "data": {
      "text/html": [
       "Run data is saved locally in <code>/Users/xincheng/Documents/GitHub/EHR record/wandb/run-20230830_224918-ol5yy3n1</code>"
      ],
      "text/plain": [
       "<IPython.core.display.HTML object>"
      ]
     },
     "metadata": {},
     "output_type": "display_data"
    },
    {
     "data": {
      "text/html": [
       "Syncing run <strong><a href='https://wandb.ai/xin0558/EHR_record/runs/ol5yy3n1' target=\"_blank\">misty-wave-40</a></strong> to <a href='https://wandb.ai/xin0558/EHR_record' target=\"_blank\">Weights & Biases</a> (<a href='https://wandb.me/run' target=\"_blank\">docs</a>)<br/>"
      ],
      "text/plain": [
       "<IPython.core.display.HTML object>"
      ]
     },
     "metadata": {},
     "output_type": "display_data"
    },
    {
     "data": {
      "text/html": [
       " View project at <a href='https://wandb.ai/xin0558/EHR_record' target=\"_blank\">https://wandb.ai/xin0558/EHR_record</a>"
      ],
      "text/plain": [
       "<IPython.core.display.HTML object>"
      ]
     },
     "metadata": {},
     "output_type": "display_data"
    },
    {
     "data": {
      "text/html": [
       " View run at <a href='https://wandb.ai/xin0558/EHR_record/runs/ol5yy3n1' target=\"_blank\">https://wandb.ai/xin0558/EHR_record/runs/ol5yy3n1</a>"
      ],
      "text/plain": [
       "<IPython.core.display.HTML object>"
      ]
     },
     "metadata": {},
     "output_type": "display_data"
    },
    {
     "name": "stdout",
     "output_type": "stream",
     "text": [
      "Training Logistic Regression with fraction 1\n",
      "Training Random Forest with fraction 1\n",
      "Training Gradient Boost with fraction 1\n"
     ]
    },
    {
     "name": "stderr",
     "output_type": "stream",
     "text": [
      "wandb: Network error (ReadTimeout), entering retry loop.\n"
     ]
    }
   ],
   "source": [
    "#Experiment 5: Find the best model\n",
    "fractions = [ 1]\n",
    "use_class_balance = True\n",
    "use_smote = False\n",
    "best_model, results = train_and_evaluate(pipelines, fractions, train)"
   ]
  },
  {
   "cell_type": "code",
   "execution_count": 27,
   "id": "ea7b3f54-f376-427a-b1b7-cd8ccfd28e22",
   "metadata": {},
   "outputs": [],
   "source": [
    "#Fit the best model \n",
    "best_model.fit(X_train, y_train)  # X_train_combined and y_train_combined should include both train and validation data\n",
    "\n",
    "# process test data\n",
    "predictions = best_model.predict(test)  # Predict on the test data"
   ]
  },
  {
   "cell_type": "code",
   "execution_count": null,
   "id": "a14b9748-2aaa-4154-b969-94a7e85dd094",
   "metadata": {},
   "outputs": [],
   "source": [
    "#export data\n",
    "api = wandb.Api()\n",
    "run = api.run(\"/xin0558/EHR_record/runs/smqk3dpb\")\n",
    "Show history data:\n",
    "\n",
    "print(run.history())"
   ]
  }
 ],
 "metadata": {
  "colab": {
   "machine_shape": "hm",
   "provenance": []
  },
  "kernelspec": {
   "display_name": "Python 3 (ipykernel)",
   "language": "python",
   "name": "python3"
  },
  "language_info": {
   "codemirror_mode": {
    "name": "ipython",
    "version": 3
   },
   "file_extension": ".py",
   "mimetype": "text/x-python",
   "name": "python",
   "nbconvert_exporter": "python",
   "pygments_lexer": "ipython3",
   "version": "3.10.12"
  },
  "toc-autonumbering": true,
  "widgets": {
   "application/vnd.jupyter.widget-state+json": {
    "223639be58324dc493e1d766987acf07": {
     "model_module": "@jupyter-widgets/controls",
     "model_module_version": "1.5.0",
     "model_name": "DescriptionStyleModel",
     "state": {
      "_model_module": "@jupyter-widgets/controls",
      "_model_module_version": "1.5.0",
      "_model_name": "DescriptionStyleModel",
      "_view_count": null,
      "_view_module": "@jupyter-widgets/base",
      "_view_module_version": "1.2.0",
      "_view_name": "StyleView",
      "description_width": ""
     }
    },
    "2587687098784c1ebfd65e7796bf4558": {
     "model_module": "@jupyter-widgets/base",
     "model_module_version": "1.2.0",
     "model_name": "LayoutModel",
     "state": {
      "_model_module": "@jupyter-widgets/base",
      "_model_module_version": "1.2.0",
      "_model_name": "LayoutModel",
      "_view_count": null,
      "_view_module": "@jupyter-widgets/base",
      "_view_module_version": "1.2.0",
      "_view_name": "LayoutView",
      "align_content": null,
      "align_items": null,
      "align_self": null,
      "border": null,
      "bottom": null,
      "display": null,
      "flex": null,
      "flex_flow": null,
      "grid_area": null,
      "grid_auto_columns": null,
      "grid_auto_flow": null,
      "grid_auto_rows": null,
      "grid_column": null,
      "grid_gap": null,
      "grid_row": null,
      "grid_template_areas": null,
      "grid_template_columns": null,
      "grid_template_rows": null,
      "height": null,
      "justify_content": null,
      "justify_items": null,
      "left": null,
      "margin": null,
      "max_height": null,
      "max_width": null,
      "min_height": null,
      "min_width": null,
      "object_fit": null,
      "object_position": null,
      "order": null,
      "overflow": null,
      "overflow_x": null,
      "overflow_y": null,
      "padding": null,
      "right": null,
      "top": null,
      "visibility": null,
      "width": null
     }
    },
    "2a2b16ecccd8486fafd17de564ffcd5a": {
     "model_module": "@jupyter-widgets/controls",
     "model_module_version": "1.5.0",
     "model_name": "LabelModel",
     "state": {
      "_dom_classes": [],
      "_model_module": "@jupyter-widgets/controls",
      "_model_module_version": "1.5.0",
      "_model_name": "LabelModel",
      "_view_count": null,
      "_view_module": "@jupyter-widgets/controls",
      "_view_module_version": "1.5.0",
      "_view_name": "LabelView",
      "description": "",
      "description_tooltip": null,
      "layout": "IPY_MODEL_2587687098784c1ebfd65e7796bf4558",
      "placeholder": "​",
      "style": "IPY_MODEL_223639be58324dc493e1d766987acf07",
      "value": "0.001 MB of 0.009 MB uploaded (0.000 MB deduped)\r"
     }
    },
    "6058fd9f83104d8d9f2e484e464ae34b": {
     "model_module": "@jupyter-widgets/controls",
     "model_module_version": "1.5.0",
     "model_name": "FloatProgressModel",
     "state": {
      "_dom_classes": [],
      "_model_module": "@jupyter-widgets/controls",
      "_model_module_version": "1.5.0",
      "_model_name": "FloatProgressModel",
      "_view_count": null,
      "_view_module": "@jupyter-widgets/controls",
      "_view_module_version": "1.5.0",
      "_view_name": "ProgressView",
      "bar_style": "",
      "description": "",
      "description_tooltip": null,
      "layout": "IPY_MODEL_f234e0c23ada4e9686b89f9047e70015",
      "max": 1,
      "min": 0,
      "orientation": "horizontal",
      "style": "IPY_MODEL_b18e1b41904f45ebae90448b6b3539a8",
      "value": 0.12404117884537748
     }
    },
    "7deb3e5694fb4990998dcb67c4e179c7": {
     "model_module": "@jupyter-widgets/base",
     "model_module_version": "1.2.0",
     "model_name": "LayoutModel",
     "state": {
      "_model_module": "@jupyter-widgets/base",
      "_model_module_version": "1.2.0",
      "_model_name": "LayoutModel",
      "_view_count": null,
      "_view_module": "@jupyter-widgets/base",
      "_view_module_version": "1.2.0",
      "_view_name": "LayoutView",
      "align_content": null,
      "align_items": null,
      "align_self": null,
      "border": null,
      "bottom": null,
      "display": null,
      "flex": null,
      "flex_flow": null,
      "grid_area": null,
      "grid_auto_columns": null,
      "grid_auto_flow": null,
      "grid_auto_rows": null,
      "grid_column": null,
      "grid_gap": null,
      "grid_row": null,
      "grid_template_areas": null,
      "grid_template_columns": null,
      "grid_template_rows": null,
      "height": null,
      "justify_content": null,
      "justify_items": null,
      "left": null,
      "margin": null,
      "max_height": null,
      "max_width": null,
      "min_height": null,
      "min_width": null,
      "object_fit": null,
      "object_position": null,
      "order": null,
      "overflow": null,
      "overflow_x": null,
      "overflow_y": null,
      "padding": null,
      "right": null,
      "top": null,
      "visibility": null,
      "width": null
     }
    },
    "b18e1b41904f45ebae90448b6b3539a8": {
     "model_module": "@jupyter-widgets/controls",
     "model_module_version": "1.5.0",
     "model_name": "ProgressStyleModel",
     "state": {
      "_model_module": "@jupyter-widgets/controls",
      "_model_module_version": "1.5.0",
      "_model_name": "ProgressStyleModel",
      "_view_count": null,
      "_view_module": "@jupyter-widgets/base",
      "_view_module_version": "1.2.0",
      "_view_name": "StyleView",
      "bar_color": null,
      "description_width": ""
     }
    },
    "d0449730d81d45de8f9e160d0581dcba": {
     "model_module": "@jupyter-widgets/controls",
     "model_module_version": "1.5.0",
     "model_name": "VBoxModel",
     "state": {
      "_dom_classes": [],
      "_model_module": "@jupyter-widgets/controls",
      "_model_module_version": "1.5.0",
      "_model_name": "VBoxModel",
      "_view_count": null,
      "_view_module": "@jupyter-widgets/controls",
      "_view_module_version": "1.5.0",
      "_view_name": "VBoxView",
      "box_style": "",
      "children": [
       "IPY_MODEL_2a2b16ecccd8486fafd17de564ffcd5a",
       "IPY_MODEL_6058fd9f83104d8d9f2e484e464ae34b"
      ],
      "layout": "IPY_MODEL_7deb3e5694fb4990998dcb67c4e179c7"
     }
    },
    "f234e0c23ada4e9686b89f9047e70015": {
     "model_module": "@jupyter-widgets/base",
     "model_module_version": "1.2.0",
     "model_name": "LayoutModel",
     "state": {
      "_model_module": "@jupyter-widgets/base",
      "_model_module_version": "1.2.0",
      "_model_name": "LayoutModel",
      "_view_count": null,
      "_view_module": "@jupyter-widgets/base",
      "_view_module_version": "1.2.0",
      "_view_name": "LayoutView",
      "align_content": null,
      "align_items": null,
      "align_self": null,
      "border": null,
      "bottom": null,
      "display": null,
      "flex": null,
      "flex_flow": null,
      "grid_area": null,
      "grid_auto_columns": null,
      "grid_auto_flow": null,
      "grid_auto_rows": null,
      "grid_column": null,
      "grid_gap": null,
      "grid_row": null,
      "grid_template_areas": null,
      "grid_template_columns": null,
      "grid_template_rows": null,
      "height": null,
      "justify_content": null,
      "justify_items": null,
      "left": null,
      "margin": null,
      "max_height": null,
      "max_width": null,
      "min_height": null,
      "min_width": null,
      "object_fit": null,
      "object_position": null,
      "order": null,
      "overflow": null,
      "overflow_x": null,
      "overflow_y": null,
      "padding": null,
      "right": null,
      "top": null,
      "visibility": null,
      "width": null
     }
    }
   }
  }
 },
 "nbformat": 4,
 "nbformat_minor": 5
}
