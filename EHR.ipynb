{
  "cells": [
    {
      "cell_type": "code",
      "execution_count": 1,
      "id": "8a62e09a-b16a-47cf-bc2a-83a764a4f698",
      "metadata": {
        "id": "8a62e09a-b16a-47cf-bc2a-83a764a4f698",
        "tags": []
      },
      "outputs": [],
      "source": [
        "import pandas as pd\n",
        "import numpy as np\n",
        "import sklearn"
      ]
     },
     "metadata": {},
     "output_type": "display_data"
    }
   ],
   "source": [
    "#Check the linearality of predictors in demographic\n",
    "import seaborn as sns\n",
    "import matplotlib.pyplot as plt\n",
    "\n",
    "# Get numerical features\n",
    "numerical_features = demographic_train.select_dtypes(include=['int64', 'float64']).columns.tolist()\n",
    "\n",
    "# Compute the correlation matrix\n",
    "corr = demographic_train[numerical_features].corr()\n",
    "\n",
    "# Generate a mask for the upper triangle\n",
    "mask = np.triu(np.ones_like(corr, dtype=bool))\n",
    "\n",
    "# Set up the matplotlib figure\n",
    "f, ax = plt.subplots(figsize=(11, 9))\n",
    "\n",
    "# Generate a custom diverging colormap\n",
    "cmap = sns.diverging_palette(230, 20, as_cmap=True)\n",
    "\n",
    "# Draw the heatmap with the mask and correct aspect ratio\n",
    "sns.heatmap(corr, mask=mask, cmap=cmap, vmax=.3, center=0,\n",
    "            square=True, linewidths=.5, cbar_kws={\"shrink\": .5})\n",
    "plt.savefig('correlation graph.png')\n",
    "plt.show()"
   ]
  },
  {
   "cell_type": "markdown",
   "id": "c0b2ea59-ef27-4e93-b896-46a62bb73655",
   "metadata": {
    "editable": true,
    "slideshow": {
     "slide_type": ""
    },
    "tags": []
   },
   "source": [
    "From the graph above, weight is highly corelated with height and BMI, decided to remove weight"
   ]
  },
  {
   "cell_type": "code",
   "execution_count": 93,
   "id": "5dd6d3f7-0dfd-4181-a6c1-ff4235598d35",
   "metadata": {
    "editable": true,
    "slideshow": {
     "slide_type": ""
    },
    "tags": []
   },
   "outputs": [],
   "source": [
    "\n",
    "def demographic_fill_na(df):\n",
    "    # Weight and bmi and height are highly related, remove weight.\n",
    "    df.drop('weight', axis=1, inplace=True)\n",
    "\n",
    "    # Fill the null value in ethnicity column with \"Other/Unknown\"\n",
    "    df['ethnicity'] = df['ethnicity'].fillna('Other/Unknown')\n",
    "\n",
    "    #Fill the null value of gender with equal M and F\n",
    "    # Define the choices and probabilities\n",
    "    choices = ['M', 'F']\n",
    "    probabilities = [0.5, 0.5]\n",
    "\n",
    "    # Use np.random.choice to fill each missing value\n",
    "    df.loc[df['gender'].isnull(), 'gender'] = np.random.choice(choices, size=df['gender'].isnull().sum(), p=probabilities)\n",
    "    \n",
    "    # Fill the null value in \"hospital_admit_source\" column with \"Unknown\"\n",
    "    df['hospital_admit_source'] = df['hospital_admit_source'].fillna('Unknown')\n",
    "    \n",
    "    # Fill the null value in \"icu_admit_source\" column with \"Floor\"\n",
    "    df['icu_admit_source'] = df['icu_admit_source'].fillna('Floor')\n",
    "\n",
    "    # Fill the null value in \"bodysystem_diagnosis_admit\" column with \"Unknown\"\n",
    "    df['bodysystem_diagnosis_admit'] = df['bodysystem_diagnosis_admit'].fillna('Unknown')\n",
    "    return df\n",
    "\n",
    "# remove unit of measure in labs and vitals, the unit of measure shouldn't have any predict power\n",
    "def labs_process(labs):\n",
    "    #remove unit of measure\n",
    "    labs.drop('Unit of Measure', axis=1, inplace=True)\n",
    "    #pivot table to get unique patient_id\n",
    "    labs_pivot = labs.pivot_table(\n",
    "        values=['Min Value', 'Max Value'],\n",
    "        index='patient_id',\n",
    "        columns=['Lab', 'Time of Measure (First Day or First Hour of Stay)']\n",
    "    )\n",
    "    print(labs_pivot.columns)\n",
    "    labs_pivot.reset_index(inplace=True)\n",
    "    print(labs_pivot.columns)\n",
    "    labs_pivot.columns = ['patient_id' if col[0] == 'patient_id' else '_'.join(str(col).strip() for col in col) for col in labs_pivot.columns]\n",
    "    return labs_pivot\n",
    "\n",
    "# It's the very similar function as labs_process\n",
    "def vitals_process(vitals):\n",
    "    #remove unit of measure\n",
    "    vitals.drop('Unit of Measure', axis=1, inplace=True)\n",
    "    #pivot table to get unique patient_id\n",
    "    vitals_pivot = vitals.pivot_table(\n",
    "        values=['Min Value', 'Max Value'],\n",
    "        index='patient_id',\n",
    "        columns=['Vital', 'Time of Measure (First Day or First Hour of Stay)']\n",
    "    )\n",
    "    vitals_pivot.reset_index(inplace=True)\n",
    "    print(vitals_pivot.columns)\n",
    "    vitals_pivot.columns = ['patient_id' if col[0] == 'patient_id' else '_'.join(str(col).strip() for col in col) for col in vitals_pivot.columns]\n",
    "    return vitals_pivot\n"
   ]
  },
  {
   "cell_type": "code",
   "execution_count": 94,
   "id": "fbb745a3-ec65-41ac-9650-9c78b4f6cbc0",
   "metadata": {
    "editable": true,
    "id": "fbb745a3-ec65-41ac-9650-9c78b4f6cbc0",
    "slideshow": {
     "slide_type": ""
    },
    {
      "cell_type": "code",
      "execution_count": 2,
      "id": "TIehMrYcjCwX",
      "metadata": {
        "id": "TIehMrYcjCwX"
      },
      "outputs": [],
      "source": [
        "#for colab reading files\n",
        "path = 'drive/My Drive/Projects/EHR_record/'\n"
      ]
    },
    {
      "cell_type": "code",
      "execution_count": null,
      "id": "vRN8rZYGjsmp",
      "metadata": {
        "id": "vRN8rZYGjsmp",
        "tags": []
      },
      "outputs": [],
      "source": [
        "path=\"\""
      ]
    },
    {
      "cell_type": "code",
      "execution_count": 3,
      "id": "G_32CmBHi56R",
      "metadata": {
        "colab": {
          "base_uri": "https://localhost:8080/"
        },
        "id": "G_32CmBHi56R",
        "outputId": "fc2f0c66-a75e-4000-c7cd-bc84acb2123f"
      },
      "outputs": [
        {
          "output_type": "stream",
          "name": "stdout",
          "text": [
            "Mounted at /content/drive\n"
          ]
        }
      ],
      "source": [
        "from google.colab import drive\n",
        "drive.mount('/content/drive')"
      ]
    },
    {
      "cell_type": "code",
      "execution_count": 4,
      "id": "160c1570-b05e-4bf8-a57c-f75d329e1ea3",
      "metadata": {
        "editable": true,
        "id": "160c1570-b05e-4bf8-a57c-f75d329e1ea3",
        "tags": []
      },
      "outputs": [],
      "source": [
        "demographic_train = pd.read_csv(path+'Train/demographics.csv')\n",
        "labs_train = pd.read_csv(path+'Train/labs.csv')\n",
        "vitals_train = pd.read_csv(path+'Train/vitals.csv')"
      ]
    },
    {
      "cell_type": "code",
      "execution_count": null,
      "id": "e0b1088e-b2aa-40e2-af67-14a4e419d25a",
      "metadata": {
        "editable": true,
        "id": "e0b1088e-b2aa-40e2-af67-14a4e419d25a",
        "tags": []
      },
      "outputs": [],
      "source": [
        "demographic_test = pd.read_csv(path+'Test/demographics.csv')\n",
        "labs_test = pd.read_csv(path+'Test/labs.csv')\n",
        "vitals_test = pd.read_csv(path+'Test/vitals.csv')"
      ]
    },
    {
      "cell_type": "markdown",
      "id": "116c470f-6f60-4181-bb78-caa467b4b29d",
      "metadata": {
        "id": "116c470f-6f60-4181-bb78-caa467b4b29d"
      },
      "source": [
        "## 1. Exloratory analysis"
      ]
    },
    {
      "cell_type": "code",
      "execution_count": 5,
      "id": "cf260a76-3c86-43c6-ae3a-968db11ec24c",
      "metadata": {
        "editable": true,
        "tags": [],
        "colab": {
          "base_uri": "https://localhost:8080/"
        },
        "id": "cf260a76-3c86-43c6-ae3a-968db11ec24c",
        "outputId": "c0a53c2a-ec1e-454a-8bbc-3129ae91b509"
      },
      "outputs": [
        {
          "output_type": "stream",
          "name": "stdout",
          "text": [
            "EDA for demographic:\n",
            "          patient_id   hospital_id  hospital_death           age  \\\n",
            "count   64384.000000  64384.000000    64384.000000  61263.000000   \n",
            "mean    65628.023003    104.891153        0.082179     62.475524   \n",
            "std     37789.609303     61.335116        0.274639     16.788310   \n",
            "min         1.000000      2.000000        0.000000     16.000000   \n",
            "25%     32967.750000     51.000000        0.000000     53.000000   \n",
            "50%     65571.500000    116.000000        0.000000     65.000000   \n",
            "75%     98343.750000    158.000000        0.000000     75.000000   \n",
            "max    131051.000000    204.000000        1.000000     89.000000   \n",
            "\n",
            "                bmi  elective_surgery        height        weight  \\\n",
            "count  61554.000000      64384.000000  63477.000000  62004.000000   \n",
            "mean      29.209720          0.185823    169.523406     83.984488   \n",
            "std        8.353251          0.388966     10.780263     25.227411   \n",
            "min       14.844926          0.000000    137.200000     38.600000   \n",
            "25%       23.625053          0.000000    162.500000     66.500000   \n",
            "50%       27.623893          0.000000    170.000000     80.055000   \n",
            "75%       32.966428          0.000000    177.800000     97.100000   \n",
            "max       67.814990          1.000000    195.590000    186.000000   \n",
            "\n",
            "             icu_id  pre_icu_los_days  ...  apache_icu_death_prob  \\\n",
            "count  64384.000000      64384.000000  ...           56718.000000   \n",
            "mean     476.380017          0.791365  ...               0.116627   \n",
            "std      235.456436          2.311556  ...               0.164958   \n",
            "min       82.000000        -24.947222  ...               0.000000   \n",
            "25%      317.000000          0.029861  ...               0.020000   \n",
            "50%      479.000000          0.123611  ...               0.050000   \n",
            "75%      678.000000          0.384028  ...               0.130000   \n",
            "max      926.000000         81.802778  ...               0.990000   \n",
            "\n",
            "         ventilated          aids     cirrhosis  diabetes_mellitus  \\\n",
            "count  63872.000000  63872.000000  63872.000000       63872.000000   \n",
            "mean       0.313768      0.000892      0.016721           0.229694   \n",
            "std        0.464027      0.029860      0.128225           0.420639   \n",
            "min        0.000000      0.000000      0.000000           0.000000   \n",
            "25%        0.000000      0.000000      0.000000           0.000000   \n",
            "50%        0.000000      0.000000      0.000000           0.000000   \n",
            "75%        1.000000      0.000000      0.000000           0.000000   \n",
            "max        1.000000      1.000000      1.000000           1.000000   \n",
            "\n",
            "       hepatic_failure  immunosuppression      leukemia      lymphoma  \\\n",
            "count     63872.000000       63872.000000  63872.000000  63872.000000   \n",
            "mean          0.013057           0.025504      0.006857      0.003930   \n",
            "std           0.113521           0.157652      0.082526      0.062565   \n",
            "min           0.000000           0.000000      0.000000      0.000000   \n",
            "25%           0.000000           0.000000      0.000000      0.000000   \n",
            "50%           0.000000           0.000000      0.000000      0.000000   \n",
            "75%           0.000000           0.000000      0.000000      0.000000   \n",
            "max           1.000000           1.000000      1.000000      1.000000   \n",
            "\n",
            "       solid_tumor_with_metastasis  \n",
            "count                 63872.000000  \n",
            "mean                      0.021120  \n",
            "std                       0.143787  \n",
            "min                       0.000000  \n",
            "25%                       0.000000  \n",
            "50%                       0.000000  \n",
            "75%                       0.000000  \n",
            "max                       1.000000  \n",
            "\n",
            "[8 rows x 22 columns]\n",
            "Size of demographic: (64384, 29)\n",
            "Null values in demographic:\n",
            " patient_id                         0\n",
            "hospital_id                        0\n",
            "hospital_death                     0\n",
            "age                             3121\n",
            "bmi                             2830\n",
            "elective_surgery                   0\n",
            "ethnicity                       1266\n",
            "gender                            15\n",
            "height                           907\n",
            "weight                          2380\n",
            "hospital_admit_source          15953\n",
            "icu_admit_source                  81\n",
            "icu_id                             0\n",
            "icu_stay_type                      0\n",
            "icu_type                           0\n",
            "pre_icu_los_days                   0\n",
            "readmission_status                 0\n",
            "bodysystem_diagnosis_admit      1150\n",
            "diagnosis_admit                  757\n",
            "apache_icu_death_prob           7666\n",
            "ventilated                       512\n",
            "aids                             512\n",
            "cirrhosis                        512\n",
            "diabetes_mellitus                512\n",
            "hepatic_failure                  512\n",
            "immunosuppression                512\n",
            "leukemia                         512\n",
            "lymphoma                         512\n",
            "solid_tumor_with_metastasis      512\n",
            "dtype: int64\n",
            "\n",
            "\n",
            "EDA for labs:\n",
            "          patient_id      Min Value     Max Value\n",
            "count  759653.000000  759653.000000  759653.00000\n",
            "mean    65633.902142      54.742216      61.24596\n",
            "std     37742.813529      73.715720      84.05407\n",
            "min         1.000000       0.300000       0.33000\n",
            "25%     33071.000000       7.900000       8.20000\n",
            "50%     65609.000000      19.000000      21.00000\n",
            "75%     98190.000000      98.000000     118.00000\n",
            "max    131051.000000     670.000000     695.04500\n",
            "Size of labs: (759653, 6)\n",
            "Null values in labs:\n",
            " patient_id                                           0\n",
            "Lab                                                  0\n",
            "Min Value                                            0\n",
            "Max Value                                            0\n",
            "Unit of Measure                                      0\n",
            "Time of Measure (First Day or First Hour of Stay)    0\n",
            "dtype: int64\n",
            "\n",
            "\n",
            "EDA for vitals:\n",
            "         patient_id     Min Value     Max Value\n",
            "count  1.237329e+06  1.237329e+06  1.237329e+06\n",
            "mean   6.563785e+04  6.980666e+01  9.067879e+01\n",
            "std    3.778164e+04  3.299414e+01  4.040548e+01\n",
            "min    1.000000e+00  0.000000e+00  0.000000e+00\n",
            "25%    3.299400e+04  4.500000e+01  6.600000e+01\n",
            "50%    6.562700e+04  7.000000e+01  9.500000e+01\n",
            "75%    9.833000e+04  9.300000e+01  1.130000e+02\n",
            "max    1.310510e+05  1.950000e+02  2.320000e+02\n",
            "Size of vitals: (1237329, 6)\n",
            "Null values in vitals:\n",
            " patient_id                                           0\n",
            "Vital                                                0\n",
            "Min Value                                            0\n",
            "Max Value                                            0\n",
            "Unit of Measure                                      0\n",
            "Time of Measure (First Day or First Hour of Stay)    0\n",
            "dtype: int64\n",
            "\n",
            "\n"
          ]
        }
      ],
      "source": [
        "def perform_eda(dataframes, names):\n",
        "    for df, name in zip(dataframes, names):\n",
        "        print(f\"EDA for {name}:\")\n",
        "        print(df.describe())\n",
        "        print(f\"Size of {name}:\", df.shape)\n",
        "        print(f\"Null values in {name}:\\n\", df.isnull().sum())\n",
        "        print(\"\\n\")\n",
        "\n",
        "# Usage:\n",
        "dataframes = [demographic_train, labs_train, vitals_train]\n",
        "names = [\"demographic\", \"labs\", \"vitals\"]\n",
        "perform_eda(dataframes, names)\n"
      ]
    },
    {
      "cell_type": "code",
      "execution_count": 6,
      "id": "b9ae1c32-7fd0-4524-a2f9-87f7967f9add",
      "metadata": {
        "editable": true,
        "tags": [],
        "colab": {
          "base_uri": "https://localhost:8080/",
          "height": 928
        },
        "id": "b9ae1c32-7fd0-4524-a2f9-87f7967f9add",
        "outputId": "96e72b41-ae9f-4101-93d7-f49b8af8708f"
      },
      "outputs": [
        {
          "output_type": "display_data",
          "data": {
            "text/plain": [
              "<Figure size 1100x900 with 2 Axes>"
            ],
            "image/png": "iVBORw0KGgoAAAANSUhEUgAAA/cAAAOPCAYAAACO9zFjAAAAOXRFWHRTb2Z0d2FyZQBNYXRwbG90bGliIHZlcnNpb24zLjcuMSwgaHR0cHM6Ly9tYXRwbG90bGliLm9yZy/bCgiHAAAACXBIWXMAAA9hAAAPYQGoP6dpAAEAAElEQVR4nOzdf3zN9f//8fvZsI2zn8zmx5ixMfJjDDE/izeKd6JI3g2hpOXHmh97CxOZvP2miMpUJL2VJJHUvDNixpBpWJj3u/ltGDVs+/7h63w6dsZmm+PM7drldbnsvF7P1/PxeL2GS4/zfL6eL0NOTk6OAAAAAACAzbKzdgIAAAAAAKBwKO4BAAAAALBxFPcAAAAAANg4insAAAAAAGwcxT0AAAAAADaO4h4AAAAAABtHcQ8AAAAAgI2juAcAAAAAwMZR3AMAAAAAYOMo7gEAAAAAsHEU9wAAAAAA2DiKewAAAAAAbBzFPQAAAAAANo7iHgAAAAAAG0dxDwAAAACAjaO4BwAAAADAxlHcAwAAAABg4yjuAQAAAACwcRT3eKC0a9dOI0aMsGoOx44dk8FgUGJiYp5tYmNjZTAYlJ6eft/yAgAAAIC8lLJ2Ang4xcbGqn379rpw4YLc3NxM+7/44guVLl26SGP1799f6enpWrNmTb7a+/j4KC0tTRUqVCjSPAAAAACguFDc44Hi4eFh7RRkb28vb29va6cBAAAAAPnGtHzck3bt2iksLExhYWFydXVVhQoVNH78eOXk5EiSPv74YwUHB8vZ2Vne3t56/vnndfr0aUk3p723b99ekuTu7i6DwaD+/fub+v3rtPzMzExFRESoSpUqKleunJo3b67Y2FjT8ZiYGLm5uWnjxo0KDAyU0WhU586dlZaWJkmKiorSsmXL9NVXX8lgMMhgMJidb4mlafnr169XQECAnJyc1L59ex07dqxQ9w8AAAAAihLFPe7ZsmXLVKpUKe3cuVNz587VrFmz9P7770uSrl+/rsmTJ2vv3r1as2aNjh07ZirgfXx8tHr1aklScnKy0tLSNHfuXIsxwsLCtH37dq1cuVL79u3Ts88+q86dO+vw4cOmNlevXtWMGTP08ccf6z//+Y9SU1MVEREhSYqIiFCvXr1MBX9aWppatmxZoOs8ceKEevTooW7duikxMVGDBg3S2LFjC3q7AAAAAKDYMC0f98zHx0ezZ8+WwWBQ7dq1tX//fs2ePVuDBw/Wiy++aGrn5+enefPmqWnTpsrIyJDRaDRNv69YsaLZM/d/lZqaqqVLlyo1NVWVK1eWdLNY37Bhg5YuXaqpU6dKuvlFwqJFi1SzZk1JN78QePPNNyVJRqNRTk5OyszMvOep9gsXLlTNmjU1c+ZMSTJd69tvv33H8zIzM5WZmWm2z8HBQQ4ODveUBwAAAADkhZF73LNHH31UBoPB9LlFixY6fPiwsrKylJCQoG7duqlatWpydnZW27ZtJd0s2PNr//79ysrKUkBAgIxGo2nbsmWLUlJSTO3Kli1rKuwlqVKlSqZHAIrCwYMH1bx5c7N9LVq0uOt50dHRcnV1Nduio6OLLC8AAAAAuIWRexS5P//8U506dVKnTp20fPlyeXp6KjU1VZ06ddK1a9fy3U9GRobs7e2VkJAge3t7s2NGo9H08+2r6xsMBtOz/9YUGRmp8PBws32M2gMAAAAoDhT3uGc7duww+/zzzz/L399fv/76q86dO6dp06bJx8dHkrRr1y6ztmXKlJEkZWVl5dl/UFCQsrKydPr0abVu3fqe8yxTpswd49xNYGCg1q5da7bv559/vut5TMEHAAAAcL8wLR/3LDU1VeHh4UpOTtann36q+fPna/jw4apWrZrKlCmj+fPn67ffftPatWs1efJks3OrV68ug8GgdevW6cyZM8rIyMjVf0BAgPr27avQ0FB98cUXOnr0qHbu3Kno6Gh98803+c7T19dX+/btU3Jyss6ePavr168X6DqHDBmiw4cPa9SoUUpOTtaKFSsUExNToD4AAAAAoDhR3OOehYaG6o8//lCzZs306quvavjw4XrppZfk6empmJgYff7556pbt66mTZumGTNmmJ1bpUoVTZo0SWPHjpWXl5fCwsIsxli6dKlCQ0P1+uuvq3bt2urevbvi4+NVrVq1fOc5ePBg1a5dW8HBwfL09FRcXFyBrrNatWpavXq11qxZo4YNG2rRokWmxfwAAAAA4EFgyHkQHk6GzWnXrp0aNWqkOXPmWDsVAAAAAHjoMXIPAAAAAICNo7jHQ2fq1Klmr9b769alSxdrpwcAAAAABca0fDx0zp8/r/Pnz1s85uTkpCpVqtznjAAAAACgcCjuAQAAAACwcUzLBwAAAADAxlHcAwAAAABg4yjuAQAAAACwcRT3AAAAAADYOIp7AAAAAABsHMU9AAAAAAA2rpS1EwAeNqfPp1slbkUPN6vEBQAAAFD8GLkHAAAAAMDGUdwDAAAAAGDjKO4BAAAAALBxFPcAAAAAANg4insAAAAAAGwcxT0AAAAAADaO4h4AAAAAABtHcQ8AAAAAgI2juMddtWvXTiNGjLBa/KioKDVq1Oi+9tO/f3917979jm2sfV8AAAAA4JZS1k4AuJuIiAi99tprps/9+/dXenq61qxZU2wx586dq5ycnGLrHwAAAACKEsU9HnhGo1FGo/G+xnR1db2v8QAAAACgMJiWj3zJzs7W6NGj5eHhIW9vb0VFRZmOpaam6qmnnpLRaJSLi4t69eqlU6dOmY7v3btX7du3l7Ozs1xcXNSkSRPt2rVLkhQTEyM3NzetWbNG/v7+cnR0VKdOnXTixAnT+X+dTh8VFaVly5bpq6++ksFgkMFgUGxsrCRpzJgxCggIUNmyZeXn56fx48fr+vXr93S9t0/Lv3LlikJDQ2U0GlWpUiXNnDnznvoFAAAAgOJAcY98WbZsmcqVK6cdO3Zo+vTpevPNN7Vp0yZlZ2frqaee0vnz57VlyxZt2rRJv/32m3r37m06t2/fvqpatari4+OVkJCgsWPHqnTp0qbjV69e1VtvvaWPPvpIcXFxSk9P13PPPWcxj4iICPXq1UudO3dWWlqa0tLS1LJlS0mSs7OzYmJilJSUpLlz52rJkiWaPXt2kVz/qFGjtGXLFn311Vf67rvvFBsbq927dxdJ3wAAAABQWEzLR740aNBAEydOlCT5+/trwYIF2rx5syRp//79Onr0qHx8fCRJH330kerVq6f4+Hg1bdpUqampGjVqlOrUqWM6/6+uX7+uBQsWqHnz5pJufpEQGBionTt3qlmzZmZtjUajnJyclJmZKW9vb7Njb7zxhulnX19fRUREaOXKlRo9enShrj0jI0MffPCBPvnkEz3++OOmHKtWrXrH8zIzM5WZmWm2z8HBoVC5AAAAAIAljNwjXxo0aGD2uVKlSjp9+rQOHjwoHx8fU2EvSXXr1pWbm5sOHjwoSQoPD9egQYPUoUMHTZs2TSkpKWZ9lSpVSk2bNjV9rlOnjtn5+fXZZ58pJCRE3t7eMhqNeuONN5SamlrQS80lJSVF165dM335IEkeHh6qXbv2Hc+Ljo6Wq6ur2RYdHV3ofAAAAADgdhT3yJe/TqOXJIPBoOzs7HydGxUVpQMHDujJJ5/UDz/8oLp16+rLL78s0vy2b9+uvn376oknntC6deu0Z88ejRs3TteuXSvSOAURGRmpixcvmm2RkZFWywcAAABAyUVxj0IJDAzUiRMnzBbAS0pKUnp6uurWrWvaFxAQoJEjR+q7775Tjx49tHTpUtOxGzdumBbYk6Tk5GSlp6crMDDQYswyZcooKyvLbN+2bdtUvXp1jRs3TsHBwfL399fx48eL5Bpr1qyp0qVLa8eOHaZ9Fy5c0KFDh+54noODg1xcXMw2puUDAAAAKA4U9yiUDh06qH79+urbt692796tnTt3KjQ0VG3btlVwcLD++OMPhYWFKTY2VsePH1dcXJzi4+PNCvfSpUvrtdde044dO5SQkKD+/fvr0UcfzfW8/S2+vr7at2+fkpOTdfbsWV2/fl3+/v5KTU3VypUrlZKSonnz5hXZ7ACj0aiBAwdq1KhR+uGHH/TLL7+of//+srPjrw8AAACABwPVCQrFYDDoq6++kru7u9q0aaMOHTrIz89Pn332mSTJ3t5e586dU2hoqAICAtSrVy916dJFkyZNMvVRtmxZjRkzRs8//7xCQkJkNBpN51syePBg1a5dW8HBwfL09FRcXJz+/ve/a+TIkQoLC1OjRo20bds2jR8/vsiu81//+pdat26tbt26qUOHDmrVqpWaNGlSZP0DAAAAQGEYcnJycqydBB5eMTExGjFihNLT062dyn1z+ny6VeJW9HCzSlwAAAAAxY+RewAAAAAAbBzFPR5KRqMxz+2nn36ydnoAAAAAUCBMy8dD6ciRI3keq1KlipycnIotNtPyAQAAABS1UtZOALCGWrVqWTsFAAAAACgyTMsHAAAAAMDGUdwDAAAAAGDjKO4BAAAAALBxFPcAAAAAANg4insAAAAAAGwcr8IDAAAAAMDG8So84D67fOGCVeI6u7vrXPolq8Qu7+ZilbgAAADAw4Jp+QAAAAAA2DiKewAAAAAAbBzFPQAAAAAANo7iHgAAAAAAG0dxDwAAAACAjaO4BwAAAADAxlHcAwAAAABg4yjuAQAAAACwcRT3Nqhdu3YaMWKE1eJHRUWpUaNGVu+nf//+6t69e6HzuJtjx47JYDAoMTGx2GMBAAAAwL2guEeBRUREaPPmzabP96vIvh9K0rUAAAAAeHiUsnYCsD1Go1FGo9HaaQAAAAAA/j9G7m1Udna2Ro8eLQ8PD3l7eysqKsp0LDU1VU899ZSMRqNcXFzUq1cvnTp1ynR87969at++vZydneXi4qImTZpo165dkqSYmBi5ublpzZo18vf3l6Ojozp16qQTJ06Yzv/rdPqoqCgtW7ZMX331lQwGgwwGg2JjYyVJY8aMUUBAgMqWLSs/Pz+NHz9e169fv6frzcrKUnh4uNzc3FS+fHmNHj1aOTk5ue5JdHS0atSoIScnJzVs2FD//ve/zfoYOHCg6Xjt2rU1d+5cs+vK61ok6bffflP79u1VtmxZNWzYUNu3b7+nawEAAACAokZxb6OWLVumcuXKaceOHZo+fbrefPNNbdq0SdnZ2Xrqqad0/vx5bdmyRZs2bdJvv/2m3r17m87t27evqlatqvj4eCUkJGjs2LEqXbq06fjVq1f11ltv6aOPPlJcXJzS09P13HPPWcwjIiJCvXr1UufOnZWWlqa0tDS1bNlSkuTs7KyYmBglJSVp7ty5WrJkiWbPnn1P1ztz5kzFxMToww8/1NatW3X+/Hl9+eWXZm2io6P10UcfadGiRTpw4IBGjhypf/zjH9qyZYukm8V/1apV9fnnnyspKUkTJkzQP//5T61atequ1yJJ48aNU0REhBITExUQEKA+ffroxo0b93Q9AAAAAFCUmJZvoxo0aKCJEydKkvz9/bVgwQLTc/D79+/X0aNH5ePjI0n66KOPVK9ePcXHx6tp06ZKTU3VqFGjVKdOHdP5f3X9+nUtWLBAzZs3l3Tzi4TAwEDt3LlTzZo1M2trNBrl5OSkzMxMeXt7mx174403TD/7+voqIiJCK1eu1OjRowt8vXPmzFFkZKR69OghSVq0aJE2btxoOp6ZmampU6fq+++/V4sWLSRJfn5+2rp1q9577z21bdtWpUuX1qRJk0zn1KhRQ9u3b9eqVavUq1evO16LdLP4f/LJJyVJkyZNUr169XTkyBHTfbxdZmamMjMzzfY5ODgU+NoBAAAA4G4YubdRDRo0MPtcqVIlnT59WgcPHpSPj4+psJekunXrys3NTQcPHpQkhYeHa9CgQerQoYOmTZumlJQUs75KlSqlpk2bmj7XqVPH7Pz8+uyzzxQSEiJvb28ZjUa98cYbSk1NLeil6uLFi0pLSzN92XArx+DgYNPnI0eO6OrVq+rYsaNpTQCj0aiPPvrI7PreeecdNWnSRJ6enjIajVq8eHG+c/rrPa9UqZIk6fTp03m2j46Olqurq9kWHR2d7+sGAAAAgPyiuLdRf51GL0kGg0HZ2dn5OjcqKkoHDhzQk08+qR9++EF169bNNcW9sLZv366+ffvqiSee0Lp167Rnzx6NGzdO165dK9I4t2RkZEiSvvnmGyUmJpq2pKQk03P3K1euVEREhAYOHKjvvvtOiYmJGjBgQL5z+us9NxgMknTHex4ZGamLFy+abZGRkfd6iQAAAACQJ6bllzCBgYE6ceKETpw4YRq9T0pKUnp6uurWrWtqFxAQoICAAI0cOVJ9+vTR0qVL9fTTT0uSbty4oV27dpmm4CcnJys9PV2BgYEWY5YpU0ZZWVlm+7Zt26bq1atr3Lhxpn3Hjx+/p2tydXVVpUqVtGPHDrVp08aUY0JCgho3bizp5uwEBwcHpaamqm3bthb7iYuLU8uWLTV06FDTvttnLVi6lnvl4OBgcRr+tatXi6R/AAAAALiFkfsSpkOHDqpfv7769u2r3bt3a+fOnQoNDVXbtm0VHBysP/74Q2FhYYqNjdXx48cVFxen+Ph4s8K9dOnSeu2117Rjxw4lJCSof//+evTRR3M9b3+Lr6+v9u3bp+TkZJ09e1bXr1+Xv7+/UlNTtXLlSqWkpGjevHmFmh0wfPhwTZs2TWvWrNGvv/6qoUOHKj093XTc2dlZERERGjlypJYtW6aUlBTt3r1b8+fP17JlyyTdXFtg165d2rhxow4dOqTx48crPj7+rtcCAAAAAA86ivsSxmAw6KuvvpK7u7vatGmjDh06yM/PT5999pkkyd7eXufOnVNoaKgCAgLUq1cvdenSxWyhubJly2rMmDF6/vnnFRISIqPRaDrfksGDB6t27doKDg6Wp6en4uLi9Pe//10jR45UWFiYGjVqpG3btmn8+PH3fF2vv/66XnjhBfXr108tWrSQs7OzaabBLZMnT9b48eMVHR2twMBAde7cWd98841q1KghSXr55ZfVo0cP9e7dW82bN9e5c+fMRvHzuhYAAAAAeNAZcm5/WTgeajExMRoxYoTZqDiK1uULF6wS19ndXefSL1kldnk3F6vEBQAAAB4WjNwDAAAAAGDjKO7xQPjr6+tu33766SdrpwcAAAAADzSm5eOBcOTIkTyPValSRU5OTvcxm+LFtHwAAAAARY1X4eGBUKtWLWunAAAAAAA2i2n5AAAAAADYOIp7AAAAAABsHMU9AAAAAAA2juIeAAAAAAAbR3EPAAAAAICN41V4AAAAAADYOF6FB9xnl86fs0pcF4/yVn3PfeqGL6wSu1rnHlaJCwAAANxPTMsHAAAAAMDGUdwDAAAAAGDjKO4BAAAAALBxFPcAAAAAANg4insAAAAAAGwcxT0AAAAAADaO4h4AAAAAABtHcQ8AAAAAgI2juAcAAAAAwMZR3AMAAAAAYOMo7gEAAAAAsHEU93gobNiwQa1atZKbm5vKly+vrl27KiUlxXR827ZtatSokRwdHRUcHKw1a9bIYDAoMTHR1OaXX35Rly5dZDQa5eXlpRdeeEFnz561wtUAAAAAgDmKezwUrly5ovDwcO3atUubN2+WnZ2dnn76aWVnZ+vSpUvq1q2b6tevr927d2vy5MkaM2aM2fnp6el67LHHFBQUpF27dmnDhg06deqUevXqZaUrAgAAAID/U8raCQD3Q8+ePc0+f/jhh/L09FRSUpK2bt0qg8GgJUuWyNHRUXXr1tX//vc/DR482NR+wYIFCgoK0tSpU8368PHx0aFDhxQQEJArZmZmpjIzM832OTg4FPGVAQAAAAAj93hIHD58WH369JGfn59cXFzk6+srSUpNTVVycrIaNGggR0dHU/tmzZqZnb937179+OOPMhqNpq1OnTqSZDa9/6+io6Pl6upqtkVHRxfPBQIAAAB4qDFyj4dCt27dVL16dS1ZskSVK1dWdna2HnnkEV27di1f52dkZKhbt256++23cx2rVKmSxXMiIyMVHh5uts/BwUGZVzIKfgEAAAAAcAcU9yjxzp07p+TkZC1ZskStW7eWJG3dutV0vHbt2vrkk0+UmZlpmjYfHx9v1kfjxo21evVq+fr6qlSp/P21cXBwsDgNn+IeAAAAQFFjWj5KPHd3d5UvX16LFy/WkSNH9MMPP5iNqD///PPKzs7WSy+9pIMHD2rjxo2aMWOGJMlgMEiSXn31VZ0/f159+vRRfHy8UlJStHHjRg0YMEBZWVlWuS4AAAAAuIXiHiWenZ2dVq5cqYSEBD3yyCMaOXKk/vWvf5mOu7i46Ouvv1ZiYqIaNWqkcePGacKECZJkeg6/cuXKiouLU1ZWlv72t7+pfv36GjFihNzc3GRnx18jAAAAANZlyMnJybF2EsCDZvny5RowYIAuXrwoJyenIu370vlzRdpffrl4lNe59EtWiV3ezUWpG76wSuxqnXtYJS4AAABwP/HMPSDpo48+kp+fn6pUqaK9e/dqzJgx6tWrV5EX9gAAAABQHCjuAUknT57UhAkTdPLkSVWqVEnPPvus3nrrLWunBQAAAAD5wrR84D5jWv79xbR8AAAAPAxYCQwAAAAAABtHcQ8AAAAAgI2juAcAAAAAwMZR3AMAAAAAYOMo7gEAAAAAsHEU9wAAAAAA2DhehQcAAAAAgI0rZe0EgIfNhYuXrRLX3dVZl86dtUpsl/IVdDTtjFVi16jkqQ0Jv1olducmdawSFwAAAA8fpuUDAAAAAGDjKO4BAAAAALBxFPcAAAAAANg4insAAAAAAGwcxT0AAAAAADaO4h4AAAAAABtHcQ8AAAAAgI2juAcAAAAAwMZR3KPEa9eunUaMGFGkfcbExMjNza1I+wQAAACAe0VxD9yD3r1769ChQ9ZOAwAAAAAkSaWsnQBgi5ycnOTk5GTtNAAAAABAEiP3eEjcuHFDYWFhcnV1VYUKFTR+/Hjl5ORIknx9fTVlyhSFhobKaDSqevXqWrt2rc6cOaOnnnpKRqNRDRo00K5du0z9MS0fAAAAwIOE4h4PhWXLlqlUqVLauXOn5s6dq1mzZun99983HZ89e7ZCQkK0Z88ePfnkk3rhhRcUGhqqf/zjH9q9e7dq1qyp0NBQ0xcCAAAAAPAgYVo+Hgo+Pj6aPXu2DAaDateurf3792v27NkaPHiwJOmJJ57Qyy+/LEmaMGGCFi5cqKZNm+rZZ5+VJI0ZM0YtWrTQqVOn5O3tna+YmZmZyszMNNvn4OBQhFcFAAAAADcxco+HwqOPPiqDwWD63KJFCx0+fFhZWVmSpAYNGpiOeXl5SZLq16+fa9/p06fzHTM6Olqurq5mW3R0dKGuAwAAAAAsYeQekFS6dGnTz7e+BLC0Lzs7O999RkZGKjw83Gyfg4ODrv55rTCpAgAAAEAuFPd4KOzYscPs888//yx/f3/Z29sXW0wHBweL0/Ap7gEAAAAUNabl46GQmpqq8PBwJScn69NPP9X8+fM1fPhwa6cFAAAAAEWCkXs8FEJDQ/XHH3+oWbNmsre31/Dhw/XSSy9ZOy0AAAAAKBKGHN7tBdxXFy5etkpcd1dnXTp31iqxXcpX0NG0M1aJXaOSpzYk/GqV2J2b1LFKXAAAADx8mJYPAAAAAICNo7gHAAAAAMDGUdwDAAAAAGDjKO4BAAAAALBxFPcAAAAAANg4insAAAAAAGwcxT0AAAAAADaO4h4AAAAAABtHcQ8AAAAAgI0z5OTk5Fg7CQAAAAAAcO9KWTsB4GFz+dIlq8R1dnHR2V/3WyV2hTr1tSHhV6vE7tykjk7uirNKbO/gEF08ddIqsV29vK0SFwAAANbBtHwAAAAAAGwcxT0AAAAAADaO4h4AAAAAABtHcQ8AAAAAgI2juAcAAAAAwMZR3AMAAAAAYOMo7gEAAAAAsHEU9wAAAAAA3MU777wjX19fOTo6qnnz5tq5c2eebb/44gsFBwfLzc1N5cqVU6NGjfTxxx8Xa34U9zYgNjZWBoNB6enpxRqnXbt2GjFiRLHGAAAAAABb89lnnyk8PFwTJ07U7t271bBhQ3Xq1EmnT5+22N7Dw0Pjxo3T9u3btW/fPg0YMEADBgzQxo0biy1HivuHUF5fFnzxxReaPHmydZICAAAAgAfUrFmzNHjwYA0YMEB169bVokWLVLZsWX344YcW27dr105PP/20AgMDVbNmTQ0fPlwNGjTQ1q1biy1HinuYeHh4yNnZ2dpp3JOcnBzduHGjWPrOyspSdnZ2sfQNAAAA4P7LzMzUpUuXzLbMzEyLba9du6aEhAR16NDBtM/Ozk4dOnTQ9u3b7xorJydHmzdvVnJystq0aVNk13A7ivsHRHZ2tqKjo1WjRg05OTmpYcOG+ve//51n+61bt6p169ZycnKSj4+Phg0bpitXrpiOZ2ZmasyYMfLx8ZGDg4Nq1aqlDz74QMeOHVP79u0lSe7u7jIYDOrfv78k82n5//znP9W8efNccRs2bKg333zT9Pn9999XYGCgHB0dVadOHb377rv5ut5r164pLCxMlSpVkqOjo6pXr67o6GhJ0rFjx2QwGJSYmGhqn56eLoPBoNjYWEn/N/vg22+/VZMmTeTg4KCtW7fq8uXL6tu3r8qVK6dKlSpp9uzZuR43yMzMVEREhKpUqaJy5cqpefPmpn4lKSYmRm5ublq7dq3q1q1r6rt06dI6efKk2XWMGDFCrVu3ztc1AwAAACi8rb1CCr1FR0fL1dXVbLtVj9zu7NmzysrKkpeXl9l+Ly+vXPXBX128eFFGo1FlypTRk08+qfnz56tjx45Fei/+qlSx9YwCiY6O1ieffKJFixbJ399f//nPf/SPf/xDnp6eudqmpKSoc+fOmjJlij788EOdOXNGYWFhCgsL09KlSyVJoaGh2r59u+bNm6eGDRvq6NGjOnv2rHx8fLR69Wr17NlTycnJcnFxkZOTU64Yffv2VXR0tFJSUlSzZk1J0oEDB7Rv3z6tXr1akrR8+XJNmDBBCxYsUFBQkPbs2aPBgwerXLly6tev3x2vd968eVq7dq1WrVqlatWq6cSJEzpx4kSB79vYsWM1Y8YM+fn5yd3dXeHh4YqLi9PatWvl5eWlCRMmaPfu3WrUqJHpnLCwMCUlJWnlypWqXLmyvvzyS3Xu3Fn79++Xv7+/JOnq1at6++239f7776t8+fLy8fGRn5+fPv74Y40aNUqSdP36dS1fvlzTp08vcN4AAAAArCcyMlLh4eFm+xwcHIo0hrOzsxITE5WRkaHNmzcrPDxcfn5+ateuXZHGuYXi/gGQmZmpqVOn6vvvv1eLFi0kSX5+ftq6davee+89vfTSS2bto6Oj1bdvX9NotL+/v+bNm6e2bdtq4cKFSk1N1apVq7Rp0ybT1BE/Pz/T+R4eHpKkihUrys3NzWJO9erVU8OGDbVixQqNHz9e0s1ivnnz5qpVq5YkaeLEiZo5c6Z69OghSapRo4aSkpL03nvv3bW4T01Nlb+/v1q1aiWDwaDq1asX4I79nzfffNP07dfly5e1bNkyrVixQo8//rgkaenSpapcubJZ3KVLlyo1NdW0PyIiQhs2bNDSpUs1depUSTcL93fffVcNGzY0nTtw4EAtXbrUVNx//fXX+vPPP9WrVy+LuWVmZuaa2lPU/2AAAAAADx07Q6G7cHBwyPf/m1eoUEH29vY6deqU2f5Tp07J29s7z/Ps7OxMtVOjRo108OBBRUdHF1txz7T8B8CRI0d09epVdezYUUaj0bR99NFHSklJydV+7969iomJMWvbqVMnZWdn6+jRo0pMTJS9vb3atm1bqLz69u2rFStWSLr5nMinn36qvn37SpKuXLmilJQUDRw40CyPKVOmWMz5dv3791diYqJq166tYcOG6bvvvrunHIODg00///bbb7p+/bqaNWtm2ufq6qratWubPu/fv19ZWVkKCAgwy3vLli1meZcpU0YNGjTIlfORI0f0888/S7o5fb9Xr14qV66cxdwKMtUHAAAAwIOpTJkyatKkiTZv3mzal52drc2bN5sGZ/MjOzs7z+f6iwIj9w+AjIwMSdI333yjKlWqmB1zcHDIVSxnZGTo5Zdf1rBhw3L1Va1aNR05cqRI8urTp4/GjBmj3bt3648//tCJEyfUu3dvs5yXLFmS69l8e3v7u/bduHFjHT16VN9++62+//579erVSx06dNC///1v2dnd/M4pJyfH1P769esW+8mrsM5LRkaG7O3tlZCQkCtPo9Fo+tnJyUkGg/k3ghUrVlS3bt20dOlS1ahRQ99++63Zs/q3y2uqz7Vi/AsNAAAAlHiGwo/cF1R4eLj69eun4OBgNWvWTHPmzNGVK1c0YMAASTcfi65SpYppMC86OlrBwcGqWbOmMjMztX79en388cdauHBhseVIcf8AuLVoW2pqqsXR9tuL+8aNGyspKck0xeN29evXV3Z2trZs2WK2ouMtZcqUkXRzFfg7qVq1qtq2bavly5frjz/+UMeOHVWxYkVJNxePqFy5sn777TfTaH5Bubi4qHfv3urdu7eeeeYZde7cWefPnzetM5CWlqagoCBJMltcLy9+fn4qXbq04uPjVa1aNUk3F7E4dOiQaVXKoKAgZWVl6fTp0/e0EN6gQYPUp08fVa1aVTVr1lRISEiebfOa6kNxDwAAANw7g+H+T0Dv3bu3zpw5owkTJujkyZNq1KiRNmzYYFpkLzU11TRIKd2c6Tx06FD997//lZOTk+rUqaNPPvnENFhaHCjuHwDOzs6KiIjQyJEjlZ2drVatWunixYuKi4uTi4tLrufRx4wZo0cffVRhYWEaNGiQypUrp6SkJG3atEkLFiyQr6+v+vXrpxdffNG0oN7x48d1+vRp9erVS9WrV5fBYNC6dev0xBNPyMnJyWzU+q/69u2riRMn6tq1a5o9e7bZsUmTJmnYsGFydXVV586dlZmZqV27dunChQu5RqxvN2vWLFWqVElBQUGys7PT559/Lm9vb7m5ucnOzk6PPvqopk2bpho1auj06dN644038nUf+/Xrp1GjRsnDw0MVK1bUxIkTZWdnZxqFDwgIUN++fRUaGqqZM2cqKChIZ86c0ebNm9WgQQM9+eSTd4zRqVMnubi4aMqUKWZvDQAAAABQst1axNyS22f0TpkyRVOmTLkPWf0fnrl/QEyePFnjx49XdHS0AgMD1blzZ33zzTeqUaNGrrYNGjTQli1bdOjQIbVu3VpBQUGaMGGC2cJxCxcu1DPPPKOhQ4eqTp06Gjx4sOlVeVWqVNGkSZM0duxYeXl55fkHVJKeeeYZnTt3TlevXlX37t3Njg0aNEjvv/++li5dqvr166tt27aKiYmxmPPtnJ2dNX36dAUHB6tp06Y6duyY1q9fb/q268MPP9SNGzfUpEkTjRgxIt9/MWbNmqUWLVqoa9eu6tChg0JCQkyv6rtl6dKlCg0N1euvv67atWure/fuZqP9d2JnZ6f+/fsrKytLoaGh+coJAAAAQBEyGAq/lUCGnL8+2AyUMFeuXFGVKlU0c+ZMDRw4sEj6HDhwoM6cOaO1a9fe0/mXL10qkjwKytnFRWd/3W+V2BXq1NeGhF+tErtzkzo6uSvOKrG9g0N08VTe7z4tTq5eea/cCgAAYMvi+rYrdB8hy2ML3ceDhmn5KFH27NmjX3/9Vc2aNdPFixdNU+efeuqpQvd98eJF7d+/XytWrLjnwh4AAABA4VjjmXtbwF1BsZg6darZq+b+unXp0qVYY8+YMUMNGzZUhw4ddOXKFf3000+qUKFCoft96qmn9Le//U1DhgxRx44diyBTAAAAACgajNyjWAwZMkS9evWyeMzJyanY4gYFBSkhIaFY+r7Ta+8AAAAA3Cd2JfOZ+cKiuEex8PDwkIeHh7XTAAAAAFDSMC3fIop7AAAAAIDNMJTQ1e4Li688AAAAAACwcRT3AAAAAADYOKblAwAAAABsB8/cW0RxDwAAAACwHayWb5EhJycnx9pJAAAAAACQH9sHdil0Hy0++LYIMnmwMHIP3GeXL6ZbJa6zq5sunjppldiuXt46lnbGKrF9K3nq650HrBK7W7N6+uXo/6wS+5EaVZT++wmrxHar7GOVuAAA4OHAavmWUdwDAAAAAGwHz9xbxF0BAAAAAMDGUdwDAAAAAGDjmJYPAAAAALAZPHNvGcU9AAAAAMB28My9RRT3AAAAAADbwXvuLeIrDwAAAAAAbBzFPR5Y7dq104gRI+75/KioKDVq1Oi+xgQAAABQvAwGu0JvJVHJvCpAUkREhDZv3lzk/RoMBq1Zs6bI+wUAAACAe8Uz9yixjEajjEajtdMAAAAAgGLHyD0eaNnZ2Ro9erQ8PDzk7e2tqKgo07H09HQNGjRInp6ecnFx0WOPPaa9e/eajt8+Lf/GjRsaNmyY3NzcVL58eY0ZM0b9+vVT9+7d8x3T19dXkvT000/LYDCYPgMAAAC4TwyGwm8lEMU9HmjLli1TuXLltGPHDk2fPl1vvvmmNm3aJEl69tlndfr0aX377bdKSEhQ48aN9fjjj+v8+fMW+3r77be1fPlyLV26VHFxcbp06ZLF6fV3ihkfHy9JWrp0qdLS0kyfAQAAANwnFPcWMS0fD7QGDRpo4sSJkiR/f38tWLBAmzdvlpOTk3bu3KnTp0/LwcFBkjRjxgytWbNG//73v/XSSy/l6mv+/PmKjIzU008/LUlasGCB1q9fn++YHTt2lKenpyTJzc1N3t7exXLNAAAAAPJmsGOM2hKKezzQGjRoYPa5UqVKOn36tPbu3auMjAyVL1/e7Pgff/yhlJSUXP1cvHhRp06dUrNmzUz77O3t1aRJE2VnZ+crZkFlZmYqMzPTbN+tLyIAAAAAoChR3OOBVrp0abPPBoNB2dnZysjIUKVKlRQbG5vrHDc3t2KJWVDR0dGaNGmS2b6JEyfq9ZEjCpMeAAAA8HArodPqC4viHjapcePGOnnypEqVKpWvRe1cXV3l5eWl+Ph4tWnTRpKUlZWl3bt3my26lx+lS5dWVlbWXdtFRkYqPDzcbJ+Dg4Ou/flHgeIBAAAAwN1Q3MMmdejQQS1atFD37t01ffp0BQQE6Pfff9c333yjp59+WsHBwbnOee211xQdHa1atWqpTp06mj9/vi5cuCBDAb/58/X11ebNmxUSEiIHBwe5u7tbbOfg4GBxGj7FPQAAAHDvDAaeubeEuwKbZDAYtH79erVp00YDBgxQQECAnnvuOR0/flxeXl4WzxkzZoz69Omj0NBQtWjRQkajUZ06dZKjo2OBYs+cOVObNm2Sj4+PgoKCiuJyAAAAAKBQDDk5OTnWTgKwhuzsbAUGBqpXr16aPHnyfYt7+WL6fYv1V86ubrp46qRVYrt6eetY2hmrxPat5Kmvdx6wSuxuzerpl6P/s0rsR2pUUfrvJ6wS262yj1XiAgCAh8Oukc8Xuo/g2SuKIJMHC9Py8dA4fvy4vvvuO7Vt21aZmZlasGCBjh49quefL/w/DgAAAADuE6blW0Rxj4eGnZ2dYmJiFBERoZycHD3yyCP6/vvvFRgYaO3UAAAAAOSTwY7V8i2huMdDw8fHR3FxcdZOAwAAAACKHPMZAAAAAACwcYzcAwAAAABsRwFfZf2woLgHAAAAANgOFtSziLsCAAAAAICNY+QeAAAAAGAzDEzLt4jiHgAAAABgO+yYgG4JdwUAAAAAABvHyD1wnzm7ulkttquXt9Vi+1bytFrsbs3qWS32IzWqWC22W2Ufq8UGAADA/UVxD9xnly5ftkpcF2dnXTx10iqxXb28lXzCOrFr+3jrox8TrBI7tH0Tbe0VYpXYrVbF6cJ/U60S271qNateNwAAKNl45t4yinsAAAAAgO3gVXgWcVcAAAAAALBxjNwDAAAAAGwH0/ItorgHAAAAANgMA9PyLeKuAAAAAABg4yjuAQAAAACwcUzLBwAAAADYDjueubeE4h4AAAAAYDtYUM8ipuWjRPP19dWcOXPy3f7YsWMyGAxKTEwstpwAAAAA3DuDwa7QW0lUMq8K+P/i4+P10ksvFWmfMTExcnNzK9I+AQAAAKAwmJaPEs3T09PaKQAAAAAoSkzLt4iRezxQ1q1bJzc3N2VlZUmSEhMTZTAYNHbsWFObQYMG6R//+IckaevWrWrdurWcnJzk4+OjYcOG6cqVK6a2t0/L//XXX9WqVSs5Ojqqbt26+v7772UwGLRmzRqzPH777Te1b99eZcuWVcOGDbV9+3ZJUmxsrAYMGKCLFy/KYDDIYDAoKiqqeG4GAAAAAOQTxT0eKK1bt9bly5e1Z88eSdKWLVtUoUIFxcbGmtps2bJF7dq1U0pKijp37qyePXtq3759+uyzz7R161aFhYVZ7DsrK0vdu3dX2bJltWPHDi1evFjjxo2z2HbcuHGKiIhQYmKiAgIC1KdPH924cUMtW7bUnDlz5OLiorS0NKWlpSkiIqLI7wMAAAAAy3jm3rKSeVWwWa6urmrUqJGpmI+NjdXIkSO1Z88eZWRk6H//+5+OHDmitm3bKjo6Wn379tWIESPk7++vli1bat68efroo4/0559/5up706ZNSklJ0UcffaSGDRuqVatWeuuttyzmERERoSeffFIBAQGaNGmSjh8/riNHjqhMmTJydXWVwWCQt7e3vL29ZTQaLfaRmZmpS5cumW2ZmZlFdq8AAAAA4BaKezxw2rZtq9jYWOXk5Oinn35Sjx49FBgYqK1bt2rLli2qXLmy/P39tXfvXsXExMhoNJq2Tp06KTs7W0ePHs3Vb3Jysnx8fOTt7W3a16xZM4s5NGjQwPRzpUqVJEmnT58u0HVER0fL1dXVbIuOji5QHwAAAABuY2co/FYCsaAeHjjt2rXThx9+qL1796p06dKqU6eO2rVrp9jYWF24cEFt27aVJGVkZOjll1/WsGHDcvVRrVq1QuVQunRp08+G/79gR3Z2doH6iIyMVHh4uNk+BwcHZV67VqjcAAAAgIdaCZ1WX1gU93jg3Hrufvbs2aZCvl27dpo2bZouXLig119/XZLUuHFjJSUlqVatWvnqt3bt2jpx4oROnTolLy8vSTdflVdQZcqUMS34dycODg5ycHDItZ/iHgAAALh3BlbLt4ivPPDAcXd3V4MGDbR8+XK1a9dOktSmTRvt3r1bhw4dMhX8Y8aM0bZt2xQWFqbExEQdPnxYX331VZ4L6nXs2FE1a9ZUv379tG/fPsXFxemNN96QVLB/IHx9fZWRkaHNmzfr7Nmzunr1auEuGAAAAAAKieIeD6S2bdsqKyvLVNx7eHiobt268vb2Vu3atSXdfC5+y5YtOnTokFq3bq2goCBNmDBBlStXttinvb291qxZo4yMDDVt2lSDBg0yrZbv6OiY79xatmypIUOGqHfv3vL09NT06dMLd7EAAAAAHnjvvPOOfH195ejoqObNm2vnzp15tl2yZIlat24td3d3ubu7q0OHDndsXxSYlo8H0pw5c8zeTy/dfOf97Zo2barvvvsuz36OHTtm9rlOnTraunWr6XNcXJwkmab2+/r6Kicnx+wcNze3XPsWLlyohQsX3u0yAAAAABQ1K0zL/+yzzxQeHq5FixapefPmmjNnjjp16qTk5GRVrFgxV/vY2Fj16dNHLVu2lKOjo95++2397W9/04EDB1SlSpViyZGRezxUvvzyS23atEnHjh3T999/r5deekkhISGqWbOmtVMDAAAAcJ8U9LXVs2bN0uDBgzVgwADVrVtXixYtUtmyZfXhhx9abL98+XINHTpUjRo1Up06dfT+++8rOztbmzdvLq5LorjHw+Xy5ct69dVXVadOHfXv319NmzbVV199Ze20AAAAAOSXnV2ht4K8tvratWtKSEhQhw4d/pKCnTp06KDt27fnK+WrV6/q+vXr8vDwKJJbYAnT8vFQCQ0NVWhoqLXTAAAAAHCPimK1/LxeW23J2bNnlZWVZXrj1i1eXl769ddf8xVvzJgxqly5stkXBEWN4h4AAAAAYDuK4D33eb22ujhMmzZNK1euVGxsbIEW8i4oinsAAAAAAPJQoUIF2dvb69SpU2b7T506JW9v7zueO2PGDE2bNk3ff/+9GjRoUJxp8sw9AAAAAAB5KVOmjJo0aWK2GN6txfFatGiR53nTp0/X5MmTtWHDBgUHBxd7nozcAwAAAABsRlE8c19Q4eHh6tevn4KDg9WsWTPNmTNHV65c0YABAyTdXNurSpUqpkX53n77bU2YMEErVqyQr6+vTp48KUkyGo0yGo3FkiPFPQAAAADAdhTBM/cF1bt3b505c0YTJkzQyZMn1ahRI23YsMG0yF5qaqrs7P4vr4ULF+ratWt65plnzPqZOHGioqKiiiVHinsAAAAAAO4iLCxMYWFhFo/FxsaafT527FjxJ3QbQ05OTs59jwoAAAAAwD04MGdCofuoN+LNIsjkwcLIPXCfXbh42Spx3V2dFXfgN6vEDqnnp0vnz1kltotHef1+5rxVYlf29LDq73v3kRNWid24lo9Vf9+XLlvnnrs4O1slLgAADxtrPHNvC1gtHwAAAAAAG0dxDwAAAACAjWNaPgAAAADAdlhhtXxbQHEPAAAAALAdPHNvEcU9AAAAAMBmGOwYubeEuwIAAAAAgI1j5B4AAAAAYDuYlm8RI/cAAAAAANg4invYlHbt2mnEiBHFHicqKkqNGjW6Y5v+/fure/fuxZ4LAAAAgP9jMNgVeiuJmJYPm/LFF1+odOnSxR4nIiJCr732WrHHAQAAAICiQHEPm+Lh4XFf4hiNRhmNxvsSCwAAAEAB8My9RSVzPgJKrL9Oy8/MzNSYMWPk4+MjBwcH1apVSx988IEkKSYmRm5ubmbnrlmzRoZ8/kNw+7T8rKwshYeHy83NTeXLl9fo0aOVk5NTFJcEAAAAoCAMdoXfSqCSeVV4KISGhurTTz/VvHnzdPDgQb333nvFNto+c+ZMxcTE6MMPP9TWrVt1/vx5ffnll8USCwAAAAAKimn5sEmHDh3SqlWrtGnTJnXo0EGS5OfnV2zx5syZo8jISPXo0UOStGjRIm3cuPGO52RmZiozM9Nsn4ODQ7HlCAAAADwMDHZMy7eEkXvYpMTERNnb26tt27bFHuvixYtKS0tT8+bNTftKlSql4ODgO54XHR0tV1dXsy06Orq40wUAAADwEGLkHjbJycnpjsft7OxyPRN//fr14kwpl8jISIWHh5vtc3Bw0NU/r93XPAAAAIAShQX1LGLkHjapfv36ys7O1pYtWywe9/T01OXLl3XlyhXTvsTExHuK5erqqkqVKmnHjh2mfTdu3FBCQsIdz3NwcJCLi4vZxrR8AAAAAMWB4h42ydfXV/369dOLL76oNWvW6OjRo4qNjdWqVaskSc2bN1fZsmX1z3/+UykpKVqxYoViYmLuOd7w4cM1bdo0rVmzRr/++quGDh2q9PT0orkYAAAAAPnHavkWlcyrwkNh4cKFeuaZZzR06FDVqVNHgwcPNo3Ue3h46JNPPtH69etVv359ffrpp4qKirrnWK+//rpeeOEF9evXTy1atJCzs7OefvrpIroSAAAAAPllMBgKvZVEhhxe1g3cVxcuXrZKXHdXZ8Ud+M0qsUPq+enS+XNWie3iUV6/nzlvldiVPT2s+vvefeSEVWI3ruVj1d/3pcvWuecuzs5WiQsAwMPmUMzcQvcR0H94EWTyYGHkHgAAAAAAG0dxj4dSvXr1ZDQaLW7Lly+3dnoAAAAAUCC8Cg8PpfXr1+f5ajwvL6/7nA0AAACA/Cqpz8wXFsU9HkrVq1e3dgoAAAAA7kUJXe2+sLgrAAAAAADYOEbuAQAAAAC2g2n5FlHcAwAAAABshsGOCeiWcFcAAAAAALBxFPcAAAAAANg4Q05OTo61kwAAAAAAID+OrHiv0H3Uev7lIsjkwcIz98B9dvnSJavEdXZxsWrsU3vjrRLbq2FTnUnaa5XYnnUb6vxF69xzD1cXHftqhVVi+z71vE6fT7dK7IoebjqXbp17Xt7Nxaq/bwAAHha8594yinsAAAAAgO2wo7i3hGfuAQAAAACwcYzcAwAAAABsh4Exaku4KwAAAAAA2DiKewAAAAAAbBzT8gEAAAAANoPV8i2juAcAAAAA2A6eubeI4h4AAAAAYDt4FZ5FfOXxkPH19dWcOXPuS6z+/fure/fu9yXW7Y4dOyaDwaDExESrxAcAAACA+4mR+4dMfHy8ypUrZ+00AAAAAOCeGJiWbxHFvQ25du2aypQpU6g+PD09iygbAAAAAMCDgq88rKhdu3YKCwtTWFiYXF1dVaFCBY0fP145OTmSbk6hnzx5skJDQ+Xi4qKXXnpJkrR161a1bt1aTk5O8vHx0bBhw3TlypV8xbx9Wn56erpefvlleXl5ydHRUY888ojWrVsnSYqKilKjRo3Mzp8zZ458fX3v6XozMzM1bNgwVaxYUY6OjmrVqpXi4+NNxy9cuKC+ffvK09NTTk5O8vf319KlS/PV986dOxUUFCRHR0cFBwdrz549ZsezsrI0cOBA1ahRQ05OTqpdu7bmzp1rOv6f//xHpUuX1smTJ83OGzFihFq3bi1JOn78uLp16yZ3d3eVK1dO9erV0/r16+/pXgAAAAC4RwZD4bcSiOLeypYtW6ZSpUpp586dmjt3rmbNmqX333/fdHzGjBlq2LCh9uzZo/HjxyslJUWdO3dWz549tW/fPn322WfaunWrwsLCChw7OztbXbp0UVxcnD755BMlJSVp2rRpsre3L8pLNBk9erRWr16tZcuWaffu3apVq5Y6deqk8+fPS5LGjx+vpKQkffvttzp48KAWLlyoChUq3LXfjIwMde3aVXXr1lVCQoKioqIUERGR61qrVq2qzz//XElJSZowYYL++c9/atWqVZKkNm3ayM/PTx9//LHpnOvXr2v58uV68cUXJUmvvvqqMjMz9Z///Ef79+/X22+/LaPRWFS3BwAAAADuGdPyrczHx0ezZ8+WwWBQ7dq1tX//fs2ePVuDBw+WJD322GN6/fXXTe0HDRqkvn37asSIEZIkf39/zZs3T23bttXChQvl6OiY79jff/+9du7cqYMHDyogIECS5OfnV3QX9xdXrlzRwoULFRMToy5dukiSlixZok2bNumDDz7QqFGjlJqaqqCgIAUHB0tSvmcIrFixQtnZ2frggw/k6OioevXq6b///a9eeeUVU5vSpUtr0qRJps81atTQ9u3btWrVKvXq1UuSNHDgQC1dulSjRo2SJH399df6888/TcdTU1PVs2dP1a9fX9Ld71VmZqYyMzPN9jk4OOTrmgAAAABYxjP3lnFXrOzRRx+V4S/TQlq0aKHDhw8rKytLkkyF7i179+5VTEyMjEajaevUqZOys7N19OjRAsVOTExU1apVTYV9cUpJSdH169cVEhJi2le6dGk1a9ZMBw8elCS98sorWrlypRo1aqTRo0dr27Zt+er74MGDatCggdkXGy1atMjV7p133lGTJk3k6ekpo9GoxYsXKzU11XS8f//+OnLkiH7++WdJUkxMjHr16mVagHDYsGGaMmWKQkJCNHHiRO3bt++OeUVHR8vV1dVsi46Oztc1AQAAAMgD0/Itorh/wN2+sn1GRoZefvllJSYmmra9e/fq8OHDqlmzZoH6dnJyuuNxOzs70/P/t1y/fr1AMQqiS5cuOn78uEaOHKnff/9djz/+eK7p9fdq5cqVioiI0MCBA/Xdd98pMTFRAwYM0LVr10xtKlasqG7dumnp0qU6deqUvv32W9OUfOnmrInffvtNL7zwgvbv36/g4GDNnz8/z5iRkZG6ePGi2RYZGVkk1wMAAAA8tOwMhd9KIIp7K9uxY4fZ559//ln+/v55PvfeuHFjJSUlqVatWrm2gq6k36BBA/33v//VoUOHLB739PTUyZMnzQr8e31vfM2aNVWmTBnFxcWZ9l2/fl3x8fGqW7euWcx+/frpk08+0Zw5c7R48eK79h0YGKh9+/bpzz//NO27Nfp+S1xcnFq2bKmhQ4cqKChItWrVUkpKSq6+Bg0apM8++0yLFy9WzZo1zWYaSDcfoxgyZIi++OILvf7661qyZEmeeTk4OMjFxcVsY1o+AAAAgOJAcW9lqampCg8PV3Jysj799FPNnz9fw4cPz7P9mDFjtG3bNoWFhSkxMVGHDx/WV199dU8L6rVt21Zt2rRRz549tWnTJh09elTffvutNmzYIOnmav5nzpzR9OnTlZKSonfeeUfffvvtPV1nuXLl9Morr2jUqFHasGGDkpKSNHjwYF29elUDBw6UJE2YMEFfffWVjhw5ogMHDmjdunUKDAy8a9/PP/+8DAaDBg8erKSkJK1fv14zZswwa+Pv769du3Zp48aNOnTokMaPH2+2Uv8tnTp1kouLi6ZMmaIBAwaYHRsxYoQ2btyoo0ePavfu3frxxx/zlR8AAAAAFDeKeysLDQ3VH3/8oWbNmunVV1/V8OHDTa+8s6RBgwbasmWLDh06pNatWysoKEgTJkxQ5cqV7yn+6tWr1bRpU/Xp00d169bV6NGjTc/7BwYG6t1339U777yjhg0baufOnYWaJj9t2jT17NlTL7zwgho3bqwjR45o48aNcnd3lySVKVNGkZGRatCggdq0aSN7e3utXLnyrv0ajUZ9/fXX2r9/v4KCgjRu3Di9/fbbZm1efvll9ejRQ71791bz5s117tw5DR06NFdfdnZ26t+/v7KyshQaGmp2LCsrS6+++qoCAwPVuXNnBQQE6N13373n+wEAAACg4AwGu0JvJZEh5/aHqnHftGvXTo0aNTJ77zysb+DAgTpz5ozWrl1bLP1fvnSpWPq9G2cXF6vGPrU390yJ+8GrYVOdSdprldiedRvq/EXr3HMPVxcd+2qFVWL7PvW8Tp9Pt0rsih5uOpdunXte3s3Fqr9vAAAeFsfXf17oPqo/8WwRZPJg4VV4wP938eJF7d+/XytWrCi2wh4AAAAAikPJnI/wkPrpp5/MXpF3+1bU7hTrp59+KrI4U6dOzTNOly5diizOU089pb/97W8aMmSIOnbsWGT9AgAAAChCBrvCbyUQI/dWFBsbW6T9BQcH3/Nq9vfiTrGqVKlSZHGGDBmiXr16WTx2t9f5FURR/z4AAAAAFD1DCX1PfWFR3JcgTk5OqlWr1n2Ld79ieXh4yMPD477EAgAAAABbVDLnIwAAAAAA8BBh5B4AAAAAYDvsGKO2hOIeAAAAAGAzeObeMr7yAAAAAADAxlHcAwAAAABsh8FQ+O0evPPOO/L19ZWjo6OaN2+unTt35tn2wIED6tmzp3x9fWUwGDRnzpx7vNj8Y1o+cJ85u7g8lLG9Gja1WmzPug2tFtvD1Xr33Pep560Wu6KHm9Vil3ez3j235u8bAICHhhXeU//ZZ58pPDxcixYtUvPmzTVnzhx16tRJycnJqlixYq72V69elZ+fn5599lmNHDnyvuRoyMnJybkvkQAAAAAAKKQTm9cVuo+KrToqMzPTbJ+Dg4McHBwstm/evLmaNm2qBQsWSJKys7Pl4+Oj1157TWPHjr1jLF9fX40YMUIjRowodN53wrR8AAAAAMBDJTo6Wq6urmZbdHS0xbbXrl1TQkKCOnToYNpnZ2enDh06aPv27fcr5btiWj4AAAAAwGYY7Aq/Wn5kZKTCw8PN9uU1an/27FllZWXJy8vLbL+Xl5d+/fXXQudSVCjuAQAAAAC2owieub/TFHxbRXEPAAAAALAd9/k99xUqVJC9vb1OnTpltv/UqVPy9va+r7ncCc/cAwAAAACQhzJlyqhJkybavHmzaV92drY2b96sFi1aWDEzc4zcAwAAAABshsEKr8ILDw9Xv379FBwcrGbNmmnOnDm6cuWKBgwYIEkKDQ1VlSpVTIvyXbt2TUlJSaaf//e//ykxMVFGo1G1atUqlhwp7gEAAAAAuIPevXvrzJkzmjBhgk6ePKlGjRppw4YNpkX2UlNTZWf3f186/P777woKCjJ9njFjhmbMmKG2bdsqNja2WHLkPfcAAAAAAJvxv582FbqPKq07FkEmDxaeuX/AHTt2TAaDQYmJiYXqp127dhoxYkSh8+nfv7+6d+9e6H4AAAAAAEWHafkPiS+++EKlS5cudD9z587VgzLZIyYmRiNGjFB6enqBzouNjVX79u114cIFubm5FUtuAAAAAIpHUbznviSiuC8i165dU5kyZaydRp48PDyKpB9XV9ci6QcAAAAA7okVFtSzBdyVe9SuXTuFhYVpxIgRqlChgjp16qRffvlFXbp0kdFolJeXl1544QWdPXvWdM6GDRvUqlUrubm5qXz58uratatSUlLM+t25c6eCgoLk6Oio4OBg7dmzx+x4bGysDAaDNm7cqKCgIDk5Oemxxx7T6dOn9e233yowMFAuLi56/vnndfXqVbN8/zot/91335W/v78cHR3l5eWlZ555xnTs3//+t+rXry8nJyeVL19eHTp00JUrVyTlnpafmZmpYcOGqWLFinJ0dFSrVq0UHx+fK9/NmzcrODhYZcuWVcuWLZWcnJyv+7x37161b99ezs7OcnFxUZMmTbRr1y7FxsZqwIABunjxogwGgwwGg6KioiRJH3/8sYKDg+Xs7Cxvb289//zzOn36tKSbjzm0b99ekuTu7i6DwaD+/ftLknx9fTVnzhyz+I0aNTL1m5OTo6ioKFWrVk0ODg6qXLmyhg0blq/rAAAAAFBEDIbCbyUQxX0hLFu2TGXKlFFcXJymTZumxx57TEFBQdq1a5c2bNigU6dOqVevXqb2V65cUXh4uHbt2qXNmzfLzs5OTz/9tLKzsyVJGRkZ6tq1q+rWrauEhARFRUUpIiLCYuyoqCgtWLBA27Zt04kTJ9SrVy/NmTNHK1as0DfffKPvvvtO8+fPt3jurl27NGzYML355ptKTk7Whg0b1KZNG0lSWlqa+vTpoxdffFEHDx5UbGysevTokedU/NGjR2v16tVatmyZdu/erVq1aqlTp046f/68Wbtx48Zp5syZ2rVrl0qVKqUXX3wxX/e4b9++qlq1quLj45WQkKCxY8eqdOnSatmypebMmSMXFxelpaUpLS3NdK+uX7+uyZMna+/evVqzZo2OHTtmKuB9fHy0evVqSVJycrLS0tI0d+7cfOWyevVqzZ49W++9954OHz6sNWvWqH79+vk6FwAAAACKE9PyC8Hf31/Tp0+XJE2ZMkVBQUGaOnWq6fiHH34oHx8fHTp0SAEBAerZs6fZ+R9++KE8PT2VlJSkRx55RCtWrFB2drY++OADOTo6ql69evrvf/+rV155JVfsKVOmKCQkRJI0cOBARUZGKiUlRX5+fpKkZ555Rj/++KPGjBmT69zU1FSVK1dOXbt2lbOzs6pXr256TUNaWppu3LihHj16qHr16pKUZwF75coVLVy4UDExMerSpYskacmSJdq0aZM++OADjRo1ytT2rbfeUtu2bSVJY8eO1ZNPPqk///xTjo6Od7zHqampGjVqlOrUqWO657e4urrKYDDI29vb7Jy/fnHg5+enefPmqWnTpsrIyJDRaDQ9olCxYsUCPXOfmpoqb29vdejQQaVLl1a1atXUrFmzPNtnZmYqMzPTbJ+Dg4McHBzyHRMAAAAA8oOR+0Jo0qSJ6ee9e/fqxx9/lNFoNG23CtJbU+8PHz6sPn36yM/PTy4uLvL19ZV0s2iUpIMHD6pBgwZmBW+LFi0sxm7QoIHpZy8vL5UtW9ZU2N/ad2sq+u06duyo6tWry8/PTy+88IKWL19umsLfsGFDPf7446pfv76effZZLVmyRBcuXLDYT0pKiq5fv276kkGSSpcurWbNmungwYN55lupUiVJyjO/vwoPD9egQYPUoUMHTZs2LddjDJYkJCSoW7duqlatmpydnU1fKty6z/fq2Wef1R9//CE/Pz8NHjxYX375pW7cuJFn++joaLm6uppt0dHRhcoBAAAAeNgZDHaF3kqiknlV90m5cuVMP2dkZKhbt25KTEw02w4fPmya8t6tWzedP39eS5Ys0Y4dO7Rjxw5JNxfjK6i/rnxvMBhyrYRvMBhM0/1v5+zsrN27d+vTTz9VpUqVNGHCBDVs2FDp6emyt7fXpk2b9O2336pu3bqaP3++ateuraNHjxY4xzvlKynP/P4qKipKBw4c0JNPPqkffvhBdevW1Zdffpln+ytXrqhTp05ycXHR8uXLFR8fb2p/t/tsZ2eX6/GD69evm3728fFRcnKy3n33XTk5OWno0KFq06aNWZu/ioyM1MWLF822yMjIu14zAAAAgDuwMxR+K4Eo7otI48aNdeDAAfn6+qpWrVpmW7ly5XTu3DklJyfrjTfe0OOPP67AwMBcI+KBgYHat2+f/vzzT9O+n3/+uVjyLVWqlDp06KDp06dr3759OnbsmH744QdJN4vvkJAQTZo0SXv27FGZMmUsFtQ1a9Y0rTlwy/Xr1xUfH6+6desWWa4BAQEaOXKkvvvuO/Xo0UNLly6VJJUpU0ZZWVlmbX/99VedO3dO06ZNU+vWrVWnTp1cMwRuvdXg9nM9PT2VlpZm+nzp0qVcX2o4OTmpW7dumjdvnmJjY7V9+3bt37/fYt4ODg5ycXEx25iSDwAAAKA4UNwXkVdffVXnz59Xnz59FB8fr5SUFG3cuFEDBgxQVlaW3N3dVb58eS1evFhHjhzRDz/8oPDwcLM+nn/+eRkMBg0ePFhJSUlav369ZsyYUeS5rlu3TvPmzVNiYqKOHz+ujz76SNnZ2apdu7Z27NihqVOnateuXUpNTdUXX3yhM2fOKDAwMFc/5cqV0yuvvKJRo0Zpw4YNSkpK0uDBg3X16lUNHDiw0Hn+8ccfCgsLU2xsrI4fP664uDjFx8ebcvH19VVGRoY2b96ss2fP6urVq6pWrZrKlCmj+fPn67ffftPatWs1efJks36rV68ug8GgdevW6cyZM8rIyJAkPfbYY/r444/1008/af/+/erXr5/s7e1N58XExOiDDz7QL7/8ot9++02ffPKJnJycTGsTAAAAALgPDHaF30qgknlVVlC5cmXFxcUpKytLf/vb31S/fn2NGDFCbm5usrOzk52dnVauXKmEhAQ98sgjGjlypP71r3+Z9WE0GvX1119r//79CgoK0rhx4/T2228Xea5ubm764osv9NhjjykwMFCLFi3Sp59+qnr16snFxUX/+c9/9MQTTyggIEBvvPGGZs6caVow73bTpk1Tz5499cILL6hx48Y6cuSINm7cKHd390LnaW9vr3Pnzik0NFQBAQHq1auXunTpokmTJkmSWrZsqSFDhqh3797y9PTU9OnT5enpqZiYGH3++eeqW7eupk2blusLkipVqmjSpEkaO3asvLy8FBYWJunmNPq2bduqa9euevLJJ9W9e3fVrFnT7L4tWbJEISEhatCggb7//nt9/fXXKl++fKGvFQAAAED+3HoVdmG2ksiQk9c7zgAAAAAAeMCc3BV390Z34R0ccvdGNoaRewAAAAAAbBzFPayqXr16Zq8P/Ou2fPlya6cHAAAA4EHDM/cWlbJ2Ani4rV+/Ps9XyXl5ed3nbAAAAAA86ErqM/OFRXEPq2KleQAAAAAoPIp7AAAAAIDtsGPk3hKKewAAAACA7Sihz8wXFncFAAAAAAAbR3EPAAAAAICNY1o+AAAAAMBmsFq+ZRT3AAAAAADbwTP3FlHcA/fZ5YvpVonr7OqmC/9NtUps96rVtGlPslVidwyqrX2//c8qsRv4VdGFi5etEtvd1Vlbe4VYJXarVXG6dPa0VWK7VKioy5cuWSW2s4uLjqadsUrsGpU89Xvc91aJXTmkg1XiAgAeYqyWbxFfeQAAAAAAYOMYuQcAAAAA2AwD0/It4q4AAAAAAGDjGLkHAAAAANgOVsu3iJF7AAAAAABsHCP3AAAAAACbwXvuLaO4BwAAAADYDhbUs4i7AgAAAACAjaO4f8C1a9dOI0aMkCT5+vpqzpw5Vs2noI4dOyaDwaDExESrxI+KilKjRo0K1Ye1rwEAAADAX9gZCr+VQEzLtyHx8fEqV66ctdMoEB8fH6WlpalChQrWTuWe3X4NsbGxat++vS5cuCA3NzfrJgcAAAAAori3KZ6entZOocDs7e3l7e1t7TQKpSRcAwAAAFBSGHjm3iLuygPkypUrCg0NldFoVKVKlTRz5kyz47dPy581a5bq16+vcuXKycfHR0OHDlVGRobZOUuWLJGPj4/Kli2rp59+WrNmzTIbbb41bf3jjz+Wr6+vXF1d9dxzz+ny5cumNpmZmRo2bJgqVqwoR0dHtWrVSvHx8abjFy5cUN++feXp6SknJyf5+/tr6dKlknJPab9T27sZM2aMAgICVLZsWfn5+Wn8+PG6fv26WZtp06bJy8tLzs7OGjhwoP7880+z4/3791f37t01depUeXl5yc3NTW+++aZu3LihUaNGycPDQ1WrVjXL6a/XcOzYMbVv316S5O7uLoPBoP79++crfwAAAAAoLhT3D5BRo0Zpy5Yt+uqrr/Tdd98pNjZWu3fvzrO9nZ2d5s2bpwMHDmjZsmX64YcfNHr0aNPxuLg4DRkyRMOHD1diYqI6duyot956K1c/KSkpWrNmjdatW6d169Zpy5YtmjZtmun46NGjtXr1ai1btky7d+9WrVq11KlTJ50/f16SNH78eCUlJenbb7/VwYMHtXDhwjyn4Rek7e2cnZ0VExOjpKQkzZ07V0uWLNHs2bNNx1etWqWoqChNnTpVu3btUqVKlfTuu+/m6ueHH37Q77//rv/85z+aNWuWJk6cqK5du8rd3V07duzQkCFD9PLLL+u///1vrnN9fHy0evVqSVJycrLS0tI0d+7cfOUPAAAAoAgYDIXfSiCm5T8gMjIy9MEHH+iTTz7R448/LklatmyZqlatmuc5txbak26O6k+ZMkVDhgwxFbTz589Xly5dFBERIUkKCAjQtm3btG7dOrN+srOzFRMTI2dnZ0nSCy+8oM2bN+utt97SlStXtHDhQsXExKhLly6Sbs4G2LRpkz744AONGjVKqampCgoKUnBwsCmXvBSk7e3eeOMNs+uNiIjQypUrTV9ozJkzRwMHDtTAgQMlSVOmTNH333+fa/Tew8ND8+bNk52dnWrXrq3p06fr6tWr+uc//ylJioyM1LRp07R161Y999xzZufa29vLw8NDklSxYsU7PnOfmZmpzMxMs30ODg75vl4AAAAAFjAt3yLuygMiJSVF165dU/PmzU37PDw8VLt27TzP+f777/X444+rSpUqcnZ21gsvvKBz587p6tWrkm6OLDdr1szsnNs/SzcL5VuFvSRVqlRJp0+fNuV1/fp1hYSEmI6XLl1azZo108GDByVJr7zyilauXKlGjRpp9OjR2rZtW545F6Tt7T777DOFhITI29tbRqNRb7zxhlJTU03HDx48aHb/JKlFixa5+qlXr57s7P7vj76Xl5fq169v+mxvb6/y5cub7sG9io6Olqurq9kWHR1dqD4BAACAh53BYCj0VhJR3NuoY8eOqWvXrmrQoIFWr16thIQEvfPOO5Kka9euFaiv0qVLm302GAzKzs7O9/ldunTR8ePHNXLkSP3+++96/PHHTbMFCtP2r7Zv366+ffvqiSee0Lp167Rnzx6NGzeuwNcqWb7ewt4DSyIjI3Xx4kWzLTIyslB9AgAAAIAlFPcPiJo1a6p06dLasWOHad+FCxd06NAhi+0TEhKUnZ2tmTNn6tFHH1VAQIB+//13sza1a9c2W/hOUq7P+cmrTJkyiouLM+27fv264uPjVbduXdM+T09P9evXT5988onmzJmjxYsX59lnQdresm3bNlWvXl3jxo1TcHCw/P39dfz4cbM2gYGBZvdPkn7++ef8Xmq+lSlTRpKUlZV1x3YODg5ycXEx25iWDwAAAKA48Mz9A8JoNGrgwIEaNWqUypcvr4oVK2rcuHFm08f/qlatWrp+/brmz5+vbt26KS4uTosWLTJr89prr6lNmzaaNWuWunXrph9++EHffvttgaahlCtXTq+88oppJflq1aqZnlG/9Wz7hAkT1KRJE9WrV0+ZmZlat26dAgMDLfZXkLZ/5e/vr9TUVK1cuVJNmzbVN998oy+//NKszfDhw9W/f38FBwcrJCREy5cv14EDB+Tn55fv682P6tWry2AwaN26dXriiSfk5OQko9FYpDEAAAAA5CGPGulhx115gPzrX/9S69at1a1bN3Xo0EGtWrVSkyZNLLZt2LChZs2apbfffluPPPKIli9fnut57pCQEC1atEizZs1Sw4YNtWHDBo0cOVKOjo4FymvatGnq2bOnXnjhBTVu3FhHjhzRxo0b5e7uLunmSHZkZKQaNGigNm3ayN7eXitXrrTYV0Ha/tXf//53jRw5UmFhYWrUqJG2bdum8ePHm7Xp3bu3xo8fr9GjR6tJkyY6fvy4XnnllQJda35UqVJFkyZN0tixY+Xl5aWwsLAijwEAAADAMp65t8yQk5OTY+0kcP8MHjxYv/76q3766Sdrp/LQunwx3SpxnV3ddOG/qXdvWAzcq1bTpj3JVondMai29v32P6vEbuBXRRcuXrZKbHdXZ23tFXL3hsWg1ao4XTpbuAUp75VLhYq6fOmSVWI7u7joaNoZq8SuUclTv8d9b5XYlUM6WCUuAODhdSH1aKH7cK9WowgyebAwLb+EmzFjhjp27Khy5crp22+/1bJlyyy++x0AAAAAbEIJHXkvLKbll3A7d+5Ux44dVb9+fS1atEjz5s3ToEGDrJ1WLlOnTpXRaLS4denSxdrpAQAAAHhQGOwKv5VAjNyXcKtWrbJ2CvkyZMgQ9erVy+IxJyen+5wNAAAAANgWins8EDw8POTh4WHtNAAAAADAJlHcAwAAAABshsGOZ+4tobgHAAAAANiOEvrMfGFR3AMAAAAAbAer5VvEVx4AAAAAANg4Ru4BAAAAADbDwLR8iww5OTk51k4CAAAAAID8uHjqZKH7cPXyLoJMHiyM3AP32aXLl60S18XZWafPp1sldkUPN23tFWKV2K1WxSlx/CtWid1o8kIdPJ5mldiB1SspevWPVokd2bO9fjn6P6vEfqRGFSUcTrVK7Cb+1XT++G9Wie1R3U8pny62SuyafV6yStxbZq39ySpxw//e2ipxAQDIC8U9AAAAAMB2sKCeRRT3AAAAAACbwXvuLaO4BwAAAADYDhbUs4i7AgAAAACAjWPkHgAAAABgO3jm3iKKewAAAACAzeA995ZxVwAAAAAAsHEU9wAAAAAA3MU777wjX19fOTo6qnnz5tq5c+cd23/++eeqU6eOHB0dVb9+fa1fv75Y86O4LwIGg0Fr1qwptv7btWunESNGFFv/dxMVFaVGjRrdl1jFfS/vVUxMjNzc3KydBgAAAAA7Q+G3Avrss88UHh6uiRMnavfu3WrYsKE6deqk06dPW2y/bds29enTRwMHDtSePXvUvXt3de/eXb/88kthrz5PFPc24IsvvtDkyZOtnUaRup9fGAAAAAAoQQx2hd8KaNasWRo8eLAGDBigunXratGiRSpbtqw+/PBDi+3nzp2rzp07a9SoUQoMDNTkyZPVuHFjLViwoLBXnyeKexvg4eEhZ2dna6dRImVlZSk7O9vaaQAAAADIpxyDodBbZmamLl26ZLZlZmZajHft2jUlJCSoQ4cOpn12dnbq0KGDtm/fbvGc7du3m7WXpE6dOuXZvijYfHG/YcMGtWrVSm5ubipfvry6du2qlJQUSdKxY8dkMBi0cuVKtWzZUo6OjnrkkUe0ZcsW0/lZWVkaOHCgatSoIScnJ9WuXVtz587NFefDDz9UvXr15ODgoEqVKiksLMzs+NmzZ/X000+rbNmy8vf319q1a82O//LLL+rSpYuMRqO8vLz0wgsv6OzZs/m6xtun5WdmZmrMmDHy8fGRg4ODatWqpQ8++ECS5enja9askaEAr4uYNm2avLy85OzsrIEDB+rPP//M1eb9999XYGCgHB0dVadOHb377rtmx8eMGaOAgACVLVtWfn5+Gj9+vK5fv27KcdKkSdq7d68MBoMMBoNiYmJM597tXuYlNjZWBoNB33zzjRo0aCBHR0c9+uijZlNfbt2ftWvXqm7dunJwcFBqaqouXLig0NBQubu7q2zZsurSpYsOHz6cK8aaNWvk7+8vR0dHderUSSdOnMhXbgAAAAAeHNHR0XJ1dTXboqOjLbY9e/assrKy5OXlZbbfy8tLJ0+etHjOyZMnC9S+KNh8cX/lyhWFh4dr165d2rx5s+zs7PT000+bjcaOGjVKr7/+uvbs2aMWLVqoW7duOnfunCQpOztbVatW1eeff66kpCRNmDBB//znP7Vq1SrT+QsXLtSrr76ql156Sfv379fatWtVq1YtszwmTZqkXr16ad++fXriiSfUt29fnT9/XpKUnp6uxx57TEFBQdq1a5c2bNigU6dOqVevXvd0zaGhofr00081b948HTx4UO+9956MRuM99XW7VatWKSoqSlOnTtWuXbtUqVKlXIX78uXLNWHCBL311ls6ePCgpk6dqvHjx2vZsmWmNs7OzoqJiVFSUpLmzp2rJUuWaPbs2ZKk3r176/XXX1e9evWUlpamtLQ09e7d23Tune5lfowaNUozZ85UfHy8PD091a1bN9MXC5J09epVvf3223r//fd14MABVaxYUf3799euXbu0du1abd++XTk5OXriiSdynffWW2/po48+UlxcnNLT0/Xcc88V+B4DAAAAuHdZ2YXfIiMjdfHiRbMtMjLS2pdWKDb/nvuePXuaff7www/l6emppKQkU8EbFhZmardw4UJt2LBBH3zwgUaPHq3SpUtr0qRJpvNr1Kih7du3a9WqVabie8qUKXr99dc1fPhwU7umTZuaxe3fv7/69OkjSZo6darmzZunnTt3qnPnzlqwYIGCgoI0depUszx9fHx06NAhBQQE5Pt6Dx06pFWrVmnTpk2maR5+fn75Pv9u5syZo4EDB2rgwIGSbl77999/bzZ6P3HiRM2cOVM9evSQdPOeJSUl6b333lO/fv0kSW+88Yapva+vryIiIrRy5UqNHj1aTk5OMhqNKlWqlLy9vXPlcKd7mR8TJ05Ux44dJUnLli1T1apV9eWXX5p+n9evX9e7776rhg0bSpIOHz6stWvXKi4uTi1btpR08wsMHx8frVmzRs8++6zpvAULFqh58+amvgMDA7Vz5041a9YsVx6ZmZm5pvY4ODjk6xoAAAAAFB8HB4d8/795hQoVZG9vr1OnTpntP3XqlMV6RpK8vb0L1L4o2PzI/eHDh9WnTx/5+fnJxcVFvr6+kqTU1FRTmxYtWph+LlWqlIKDg3Xw4EHTvnfeeUdNmjSRp6enjEajFi9ebDr/9OnT+v333/X444/fMY8GDRqYfi5XrpxcXFxMKyfu3btXP/74o4xGo2mrU6eOJJkeIcivxMRE2dvbq23btgU6L78OHjxoKl5v+ev9u3LlilJSUjRw4ECz65kyZYrZtXz22WcKCQmRt7e3jEaj3njjDbPfyZ3c6V7mx1/z9fDwUO3atc1+32XKlDGLcfDgQZUqVcrsusuXL5/rvFKlSpl9qVOnTh25ubmZtfmrgkz1AQAAAJA/OUXwX0GUKVNGTZo00ebNm037srOztXnzZrPa469atGhh1l6SNm3alGf7omDzI/fdunVT9erVtWTJElWuXFnZ2dl65JFHdO3atXydv3LlSkVERGjmzJlq0aKFnJ2d9a9//Us7duyQJDk5OeWrn9KlS5t9NhgMpkcDMjIy1K1bN7399tu5zqtUqVK++r/lbvnY2dkpJ8f8D+tfp5YXVkZGhiRpyZIlub4EsLe3l3Rz8Yi+fftq0qRJ6tSpk1xdXbVy5UrNnDkzXzHudC+LgpOTU4HWILhXkZGRCg8PN9vn4OCgzHz+2QQAAADwYAgPD1e/fv0UHBysZs2aac6cObpy5YoGDBgg6eaj01WqVDEN5g0fPlxt27bVzJkz9eSTT2rlypXatWuXFi9eXGw52nRxf+7cOSUnJ2vJkiVq3bq1JGnr1q252v38889q06aNJOnGjRtKSEgwLYh3ayr20KFDTe3/OgLt7OwsX19fbd68We3bt7+nPBs3bqzVq1fL19dXpUoV7pbXr19f2dnZ2rJlS67VFyXJ09NTly9f1pUrV1SuXDlJN0f78yswMFA7duxQaGioad/PP/9s+tnLy0uVK1fWb7/9pr59+1rsY9u2bapevbrGjRtn2nf8+HGzNmXKlFFWVla+8yqIn3/+WdWqVZMkXbhwQYcOHVJgYGCe7QMDA3Xjxg3t2LHDNC3/1p+tunXrmtrduHFDu3btMk3BT05OVnp6ep595zXVh+IeAAAAuHc5BRt4LxK9e/fWmTNnNGHCBJ08eVKNGjXShg0bTIvmpaamys7u/ybGt2zZUitWrNAbb7yhf/7zn/L399eaNWv0yCOPFFuONl3cu7u7q3z58lq8eLEqVaqk1NRUjR07Nle7d955R/7+/goMDNTs2bN14cIFvfjii5Ikf39/ffTRR9q4caNq1Kihjz/+WPHx8apRo4bp/KioKA0ZMkQVK1ZUly5ddPnyZcXFxem1117LV56vvvqqlixZoj59+mj06NHy8PDQkSNHtHLlSr3//vumEe/88PX1Vb9+/fTiiy9q3rx5atiwoY4fP67Tp0+rV69eat68ucqWLat//vOfGjZsmHbs2GG2Ev3dDB8+XP3791dwcLBCQkK0fPlyHThwwOy5/kmTJmnYsGFydXVV586dlZmZqV27dunChQsKDw+Xv7+/UlNTtXLlSjVt2lTffPONvvzyy1zXcfToUSUmJqpq1apydnYusufR33zzTZUvX15eXl4aN26cKlSooO7du+fZ3t/fX0899ZQGDx6s9957T87Ozho7dqyqVKmip556ytSudOnSeu211zRv3jyVKlVKYWFhevTRRy0+bw8AAACgeGRbo7rXzbXcbn9r2i2xsbG59j377LOm9bvuB5t+5t7Ozk4rV65UQkKCHnnkEY0cOVL/+te/crWbNm2apk2bpoYNG2rr1q1au3atKlSoIEl6+eWX1aNHD/Xu3VvNmzfXuXPnzEbxJalfv36aM2eO3n33XdWrV09du3a1+Jq0vFSuXFlxcXHKysrS3/72N9WvX18jRoyQm5ub2bc7+bVw4UI988wzGjp0qOrUqaPBgwfrypUrkm4+Y/7JJ59o/fr1ql+/vj799FNFRUXlu+/evXtr/PjxGj16tJo0aaLjx4/rlVdeMWszaNAgvf/++1q6dKnq16+vtm3bKiYmxvSFyN///neNHDlSYWFhatSokbZt26bx48eb9dGzZ0917txZ7du3l6enpz799NMC34e8TJs2TcOHD1eTJk108uRJff311ypTpswdz1m6dKmaNGmirl27qkWLFsrJydH69evNHhEoW7asxowZo+eff14hISEyGo367LPPiixvAAAAAHeXk5NT6K0kMuSU1CvTzffc16hRQ3v27FGjRo2snQ6KWWxsrNq3b68LFy7Izc3N2unk6dLly1aJ6+LsrNPn060Su6KHm7b2CrFK7Far4pQ4/pW7NywGjSYv1MHjaVaJHVi9kqJX/2iV2JE92+uXo/+zSuxHalRRwuH8Ld5Z1Jr4V9P5479ZJbZHdT+lfFp8z/DdSc0+L1kl7i2z1v5klbjhf29tlbgAABXJ/9NW9HArdB8PGpseuQcAAAAAABT3Vpeammr2Srnbt/y+Pi6/6tWrl2es5cuXF2msojZkyJA8cx8yZIi10wMAAABwH2Tn5BR6K4lsekG9u/H19X3gn6eoXLnyHVezr1y5cpHGW79+fZ6vxru10uOD6s0331RERITFYy4uLqpYseID//sGAAAAgOJQoot7W1CqVCnVqlXrvsWrXr36fYtV1CpWrKiKFStaOw0AAAAAVsR4nmUU9wAAAAAAm8FsXcso7gEAAAAANqOkPjNfWCyoBwAAAACAjaO4BwAAAADAxjEtHwAAAABgM5iVb5khh9UIAAAAAAA2IvXk2UL3Uc27QhFk8mBh5B64z86lX7JK3PJuLrp4+pRVYrtW9NKeN162SuygKe/pbPIBq8SuULueTu6Ks0ps7+AQpXy62Cqxa/Z5SZcvXLBKbGd3d51M2G6V2N5NWujSucL/z8a9cClfQb9v/9EqsSu3aG+VuLec2LzOKnF9Hu+qrb1CrBK71Srr/LsCAHiwUdwDAAAAAGwGq+VbRnEPAAAAALAZlPaWsVo+AAAAAAA2juIeAAAAAAAbx7R8AAAAAIDN4Jl7yyjuAQAAAAA2g7e5W0ZxDwAAAACwGdT2lvHMPWxGu3btNGLECNNnX19fzZkzxyq5xMTEyM3NzSqxAQAAAOB2FPd44MTGxspgMCg9Pd1s/xdffKHJkyffc78U5AAAAIDty87JKfRWEjEtHzbDw8PD2ikAAAAAwAOJkXsUyOLFi1W5cmVlZ2eb7X/qqaf04osvSpK++uorNW7cWI6OjvLz89OkSZN048YNU1uDwaD3339fTz/9tMqWLSt/f3+tXbtWknTs2DG1b99ekuTu7i6DwaD+/ftLyj0t/3azZs1S/fr1Va5cOfn4+Gjo0KHKyMiQdHM2wIABA3Tx4kUZDAYZDAZFRUVJkjIzMxUREaEqVaqoXLlyat68uWJjY836jomJUbVq1VS2bFk9/fTTOnfu3L3eQgAAAACFkJOTU+itJKK4R4E8++yzOnfunH788UfTvvPnz2vDhg3q27evfvrpJ4WGhmr48OFKSkrSe++9p5iYGL311ltm/UyaNEm9evXSvn379MQTT6hv3746f/68fHx8tHr1aklScnKy0tLSNHfu3HzlZmdnp3nz5unAgQNatmyZfvjhB40ePVqS1LJlS82ZM0cuLi5KS0tTWlqaIiIiJElhYWHavn27Vq5cqX379unZZ59V586ddfjwYUnSjh07NHDgQIWFhSkxMVHt27fXlClTCn0vAQAAAKCoUNyjQNzd3dWlSxetWLHCtO/f//63KlSooPbt22vSpEkaO3as+vXrJz8/P3Xs2FGTJ0/We++9Z9ZP//791adPH9WqVUtTp05VRkaGdu7cKXt7e9P0+4oVK8rb21uurq75ym3EiBFq3769fH199dhjj2nKlClatWqVJKlMmTJydXWVwWCQt7e3vL29ZTQalZqaqqVLl+rzzz9X69atVbNmTUVERKhVq1ZaunSpJGnu3Lnq3LmzRo8erYCAAA0bNkydOnUqitsJAAAAoIBycgq/lUQ8c48C69u3rwYPHqx3331XDg4OWr58uZ577jnZ2dlp7969iouLMxupz8rK0p9//qmrV6+qbNmykqQGDRqYjpcrV04uLi46ffp0ofL6/vvvFR0drV9//VWXLl3SjRs3csW93f79+5WVlaWAgACz/ZmZmSpfvrwk6eDBg3r66afNjrdo0UIbNmy4Yz6ZmZnKzMw02+fg4FDQywIAAADwFyV1QbzCorhHgXXr1k05OTn65ptv1LRpU/3000+aPXu2JCkjI0OTJk1Sjx49cp3n6Oho+rl06dJmxwwGQ67n+Avi2LFj6tq1q1555RW99dZb8vDw0NatWzVw4EBdu3Ytz+I+IyND9vb2SkhIkL29vdkxo9F4z/lIUnR0tCZNmmS2b+LEiXptRHih+gUAAACA21Hco8AcHR3Vo0cPLV++XEeOHFHt2rXVuHFjSVLjxo2VnJysWrVq3XP/ZcqUkXRzxD+/EhISlJ2drZkzZ8rO7ubTJrem5P+139v7DAoKUlZWlk6fPq3WrVtb7DswMFA7duww2/fzzz/fNafIyEiFh5sX8g4ODsr4IzOPMwAAAADcTUldEK+wKO5xT/r27auuXbvqwIED+sc//mHaP2HCBHXt2lXVqlXTM888Y5qq/8svv+R7Ebrq1avLYDBo3bp1euKJJ+Tk5HTXUfRatWrp+vXrmj9/vrp166a4uDgtWrTIrI2vr68yMjK0efNmNWzYUGXLllVAQID69u2r0NBQzZw5U0FBQTpz5ow2b96sBg0a6Mknn9SwYcMUEhKiGTNm6KmnntLGjRvvOiVfulnIW5qGT3EPAAAAoKixoB7uyWOPPSYPDw8lJyfr+eefN+3v1KmT1q1bp++++05NmzbVo48+qtmzZ6t69er57rtKlSqmhfm8vLwUFhZ213MaNmyoWbNm6e2339Yjjzyi5cuXKzo62qxNy5YtNWTIEPXu3Vuenp6aPn26JGnp0qUKDQ3V66+/rtq1a6t79+6Kj49XtWrVJEmPPvqolixZorlz56phw4b67rvv9MYbb+T7egAAAAAUneycwm8lkSGHOQ3AfXUu/ZJV4pZ3c9HF06esEtu1opf2vPGyVWIHTXlPZ5MPWCV2hdr1dHJXnFVieweHKOXTxVaJXbPPS7p84YJVYju7u+tkwnarxPZu0kKXzp21SmyX8hX0+/Yf796wGFRu0d4qcW85sXmdVeL6PN5VW3uFWCV2q1XW+XcFAB4U+377X6H7aOBXpQgyebAwLR8AAAAAYDNyxPi0JRT3AAAAAACbweRzyyjuAQAAAAA2o6Q+M19YLKgHAAAAAICNo7gHAAAAAMDGMS0fAAAAAGAzeObeMop7AAAAAIDNoLi3jGn5AAAAAADYOEbuAQAAAAA2I5uRe4so7gEAAAAANoPa3jJDDg8sAAAAAABsxI5fjxW6j+Z1fAvdx4OGkXvgPrt0+bJV4ro4O+v8xUtWie3h6qLLFy5YJbazu7uOpZ2xSmzfSp767+lzVoldtWJ5q/6+L523znW7eJRX2lnr/FmrVMFdly+mWyW2s6ubLp09bZXYLhUqWiXuLRcuWuffVHdXZ106d9YqsV3KV7Dqv6kAgAcTxT0AAAAAwGbwzL1lFPcAAAAAAJvBk+WWUdwDAAAAAGwGtb1lvOceAAAAAAAbx8g9AAAAAMBm8My9ZYzcAwAAAABg4yjuAQAAAACwcUzLBwAAAADYjBwxLd8SRu7x0Dp27JgMBoMSExPzbBMbGyuDwaD09PT7lhcAAACAvOXkFH4riRi5x0PLx8dHaWlpqlChgrVTAQAAAJBPLKhnGcU9Hlr29vby9va2dhoAAAAAUGhMy0eJtmHDBrVq1Upubm4qX768unbtqpSUFEmWp+WvX79eAQEBcnJyUvv27XXs2DGz/o4fP65u3brJ3d1d5cqVU7169bR+/fr7eEUAAADAwy0nJ6fQW0lEcY8S7cqVKwoPD9euXbu0efNm2dnZ6emnn1Z2dnautidOnFCPHj3UrVs3JSYmatCgQRo7dqxZm1dffVWZmZn6z3/+o/379+vtt9+W0Wi8X5cDAAAAABYxLR8lWs+ePc0+f/jhh/L09FRSUlKuonzhwoWqWbOmZs6cKUmqXbu2qYC/JTU1VT179lT9+vUlSX5+fnnGzszMVGZmptk+BweHQl0PAAAA8LDLLpkD74XGyD1KtMOHD6tPnz7y8/OTi4uLfH19Jd0s0m938OBBNW/e3GxfixYtzD4PGzZMU6ZMUUhIiCZOnKh9+/blGTs6Olqurq5mW3R0dOEvCgAAAABuQ3GPEq1bt246f/68lixZoh07dmjHjh2SpGvXrt1Tf4MGDdJvv/2mF154Qfv371dwcLDmz59vsW1kZKQuXrxotkVGRt7ztQAAAADgmfu8UNyjxDp37pySk5P1xhtv6PHHH1dgYKAuXLiQZ/vAwEDt3LnTbN/PP/+cq52Pj4+GDBmiL774Qq+//rqWLFlisT8HBwe5uLiYbUzLBwAAAAqH4t4yinuUWO7u7ipfvrwWL16sI0eO6IcfflB4eHie7YcMGaLDhw9r1KhRSk5O1ooVKxQTE2PWZsSIEdq4caOOHj2q3bt368cff1RgYGAxXwkAAACAW7JzCr+VRBT3KLHs7Oy0cuVKJSQk6JFHHtHIkSP1r3/9K8/21apV0+rVq7VmzRo1bNhQixYt0tSpU83aZGVl6dVXX1VgYKA6d+6sgIAAvfvuu8V9KQAAAABswPnz59W3b1+5uLjIzc1NAwcOVEZGxh3PWbx4sdq1aycXFxcZDAalp6ffU2xWy0eJ1qFDByUlJZnt++s0nNun5HTt2lVdu3Y12zdgwADTz3k9Xw8AAAAAffv2VVpamjZt2qTr169rwIABeumll7RixYo8z7l69ao6d+6szp07F2qNLop7AAAAAIDNKIpn5vN6bXVh1sg6ePCgNmzYoPj4eAUHB0u6OTj4xBNPaMaMGapcubLF80aMGCFJio2NvefYEtPyAQAAAAA2JDsnp9Bbcby2evv27XJzczMV9tLNmcR2dnamt3YVJ0buAQAAAAAPlcjIyFyLbRf2zVYnT55UxYoVzfaVKlVKHh4eOnnyZKH6zg9G7gEAAAAANiOnCLaCvLZ67NixMhgMd9x+/fXX4r3ofGDkHgAAAABgM+73e+pff/119e/f/45t/Pz85O3trdOnT5vtv3Hjhs6fPy9vb+9izPAminsAAAAAAPLg6ekpT0/Pu7Zr0aKF0tPTlZCQoCZNmkiSfvjhB2VnZ6t58+bFnSbT8gEAAAAAKKzAwEB17txZgwcP1s6dOxUXF6ewsDA999xzppXy//e//6lOnTrauXOn6byTJ08qMTFRR44ckSTt379fiYmJOn/+fIHiU9wDAAAAAGxGUayWX1yWL1+uOnXq6PHHH9cTTzyhVq1aafHixabj169fV3Jysq5evWrat2jRIgUFBWnw4MGSpDZt2igoKEhr164tUGym5QMAAAAAbMZ9fuS+QDw8PLRixYo8j/v6+uZaMyAqKkpRUVGFjm3Iud+rEQAAAAAAcI/W/PxLofvo/ugjRZDJg4WRe+A+u3T5slXiujg76/KlS1aJ7ezionMpyVaJXb5mbR1NO2OV2DUqeerCRev8vt1dna163ZfOnr57w2LgUqGiVf+c//f0OavErlqxvC78N9Uqsd2rVrNK3Ft+P1Ow5xGLSmVPD53aG2+V2F4Nm1r1z7k1/34DgHT/V8u3FRT3AAAAAACbUZzPzNsyFtQDAAAAAMDGUdwDAAAAAGDjmJYPAAAAALAZPHNvGcU9AAAAAMBmZFPbW0RxDwAAAACwGYzcW8Yz9wAAAAAA2DiKe1jVsWPHZDAYlJiYWOBzY2NjZTAYlJ6eXuR53eLr66s5c+YUW/8AAAAACiYnJ6fQW0nEtHxYlY+Pj9LS0lShQgVrp2JRfHy8ypUrZ+00AAAAAOCOKO5hVfb29vL29s7zeE5OjrKyslSqlPkf1WvXrhV3apIkT0/P+xIHAAAAQP5kWzuBBxTT8nFfZGdna/r06apVq5YcHBxUrVo1vfXWW7mm5d+aav/tt9+qSZMmcnBw0NatW9WuXTuFhYVpxIgRqlChgjp16mTqOyEhQcHBwSpbtqxatmyp5ORks9gLFy5UzZo1VaZMGdWuXVsff/yx6VhOTo6ioqJUrVo1OTg4qHLlyho2bJjp+F+n5d+tLQAAAABYCyP3uC8iIyO1ZMkSzZ49W61atVJaWpp+/fXXPNuPHTtWM2bMkJ+fn9zd3SVJy5Yt0yuvvKK4uDhJUlpamiRp3Lhxmjlzpjw9PTVkyBC9+OKLpjZffvmlhg8frjlz5qhDhw5at26dBgwYoKpVq6p9+/ZavXq1Zs+erZUrV6pevXo6efKk9u7dazGngrQFAAAAUDxK6jPzhUVxj2J3+fJlzZ07VwsWLFC/fv0kSTVr1lSrVq107Ngxi+e8+eab6tixo9k+f39/TZ8+3fT5VnH/1ltvqW3btpJufinw5JNP6s8//5Sjo6NmzJih/v37a+jQoZKk8PBw/fzzz5oxY4bat2+v1NRUeXt7q0OHDipdurSqVaumZs2aWcypIG0BAAAAFA+Ke8uYlo9id/DgQWVmZurxxx/P9znBwcG59jVp0sRi2wYNGph+rlSpkiTp9OnTptghISFm7UNCQnTw4EFJ0rPPPqs//vhDfn5+Gjx4sL788kvduHHDYpyCtJWkzMxMXbp0yWzLzMy8w1UDAAAAuJvsnMJvJRHFPYqdk5NTgc+xtEJ9XqvWly5d2vSzwWCQdPMZ//zw8fFRcnKy3n33XTk5OWno0KFq06aNrl+/Xqi2khQdHS1XV1ezLTo6Ol95AQAAAEBBUNyj2Pn7+8vJyUmbN2++77EDAwNNz9/fEhcXp7p165o+Ozk5qVu3bpo3b55iY2O1fft27d+/32J/BWkbGRmpixcvmm2RkZFFd3EAAAAA8P/xzD2KnaOjo8aMGaPRo0erTJkyCgkJ0ZkzZ3TgwIECTdW/F6NGjVKvXr0UFBSkDh066Ouvv9YXX3yh77//XpIUExOjrKwsNW/eXGXLltUnn3wiJycnVa9ePVdfBWkrSQ4ODnJwcMi1P/M+vcYPAAAAKIl45v7/sXfnYTXm///An6do31MJLUpRFFnGNsgyY9/HTpJ1DNkihpAtjC3DGHv4WMc2GHvWsi+loSyRzEx2lezV+/eHX/e3o5Bx7u4yz8d1ncs597nP/bzPcc7pvO77veSOxT3li6CgIBQpUgTjx4/HP//8A1tbWwwYMED23DZt2iA0NBSzZs3CkCFDULp0aaxcuRLe3t4AADMzM0yfPh3Dhw9HRkYGPDw8sHPnTlhaWubY1qesS0RERERElJ9Ugoc9iPJV6tOniuSaGBvjaWqqItnGJiZ4FH9VkWxL57K4lfRAkezStlZ4kqLM/7e5qbGizzv14X1Fsk2KWSv6Pv/r/iNFsktZW+LJX4mKZJuXslckN8s/Dx4rklvCygL3os8qkm1TsZqi73MlP99ERACwMvzzv397NaymgT0pWHjmnoiIiIiIiAoNnp7OHYt7IiIiIiIiKjTY+Dx3HC2fiIiIiIiIqJBjcU9ERERERERUyLFZPhERERERERUamWyWnysW90RERERERFRosLbPHZvlExERERERERVyPHNPREREREREhQab5eeOxT0REREREREVGizuc8dm+URERERERESFnEoIHvYgIiIiIiKiwuGXPSc/exsDm9bUwJ4ULGyWT5TPnqamKpJrbGKCp0+eKJNtbo6kh8pk2xYzx91zkYpkF69aG3GLQhTJLvf9GDxJeapItrmpsaLZ11bMVSTb1W8YnqYkK5JtbGqGlHt3Fck2tSmuSG4WJd9rSn6npj68r0i2STFrPHiSoki2lbmpos+biAoOnp/OHYt7IiIiIiIiKjRY2+eOxT0REREREREVGhxQL3ccUI+IiIiIiIiokOOZeyIiIiIiIio0BHjmPjc8c09ERERERERUyPHMPRERERERERUa7HKfO565JyIiIiIiIirkeOaeiIiIiIiICg2Olp87nrlXkLe3N4YOHQoAcHR0xLx58/L82LCwMJiZmcmyX4XRu6+fSqXC9u3bAQAJCQlQqVSIiopSZN+IiIiIiEhzhBCfffkSsbgvIM6ePYt+/frle272IvhLZWdnh6SkJFSoUAEAcOTIEahUKiQnJyu7Y0RERERERBrCZvkFhJWVldK78MXS1tZG8eLFld4NIiIiIiLSADbLzx3P3OeTZ8+ewcfHB0ZGRrC1tcXs2bPV7n+3WfmcOXPg4eEBQ0ND2NnZYeDAgUhLS8ux3e3bt8PFxQV6enpo3Lgx7ty5o3b/77//jsqVK0NPTw9OTk4IDg5Genq6lAkAbdu2hUqlkm5/7HFCCEycOBH29vbQ1dVFiRIl4O/vn6fXwdHREVOmTJFeCwcHB+zYsQMPHjxA69atYWRkBE9PT5w7d07tcREREahTpw709fVhZ2cHf39/PHv2LE+Z2ZvlJyQkoH79+gAAc3NzqFQq+Pr6Svv2bteISpUqYeLEiZ/9vImIiIiIiOTE4j6fjBw5EkePHsXvv/+O/fv348iRI7hw4cJ719fS0sL8+fNx+fJlrFq1CocOHcKoUaPU1nn+/DmmTp2K1atXIzIyEsnJyejcubN0//Hjx+Hj44MhQ4bgypUrWLx4McLCwjB16lQAb7sCAMDKlSuRlJQk3f7Y47Zs2YK5c+di8eLFuH79OrZv3w4PD488vxZz585F7dq1cfHiRTRv3hw9evSAj48PunfvjgsXLsDZ2Rk+Pj5SX5j4+Hg0adIE7du3x6VLl7Bx40ZERERg0KBBec7MYmdnhy1btgAArl69iqSkJISGhubpsZ/7vImIiIiI6PMJ8fmXLxGb5eeDtLQ0LF++HP/73//QsGFDAMCqVatQqlSp9z4ma6A94P/Odg8YMAC//PKLtPzNmzdYsGABqlevLm3Tzc0NZ86cwVdffYXg4GCMHj0aPXv2BAA4OTlh8uTJGDVqFCZMmCB1BTAzM1Nrtv6xxyUmJqJ48eJo1KgRihYtCnt7e3z11Vd5fj2aNWuG/v37AwDGjx+PRYsWoVq1aujQoQMAIDAwEDVr1sS9e/dQvHhxhISEoFu3btJr4uLigvnz56NevXpYtGgR9PT08pytra0NCwsLAIC1tfUnDUr4qc/71atXePXqldoyXV3dPOcRERERERHlFc/c54P4+Hi8fv1aKsIBwMLCAmXLln3vYw4ePIiGDRuiZMmSMDY2Ro8ePfDo0SM8f/5cWqdIkSKoVq2adLtcuXIwMzNDbGwsACA6OhqTJk2CkZGRdOnbty+SkpLUtvOujz2uQ4cOePHiBZycnNC3b19s27ZNarKfF56entJ1GxsbAFA7A5617P79+9L+hIWFqe1P48aNkZmZiVu3buU593N96vMOCQmBqamp2iUkJCTf9peIiIiI6EvE0fJzxzP3BVBCQgJatGiB77//HlOnToWFhQUiIiLQu3dvvH79GgYGBnnaTlpaGoKDg9GuXbsc933obPfHHmdnZ4erV6/i4MGDOHDgAAYOHIiffvoJR48eRdGiRT+6X9nXUalU712WmZkp7U///v1z7d9ub2//0by80tLSyvFBf/PmjXT9U5/3mDFjMHz4cLVlurq6eP3O2XwiIiIiIso7DqiXOxb3+cDZ2RlFixbF6dOnpWL0yZMnuHbtGurVq5dj/fPnzyMzMxOzZ8+GltbbxhWbNm3KsV56ejrOnTsnNQ2/evUqkpOT4ebmBgCoXLkyrl69ijJlyrx334oWLYqMjAy1ZXl5nL6+Plq2bImWLVvihx9+QLly5RATE4PKlSt/5NX4dJUrV8aVK1c+uD+fQkdHBwByPG8rKyskJSVJt1NTU3O0DPiU562rq5trM3wW90RERERE/96Y9vWV3oUCicV9PjAyMkLv3r0xcuRIWFpawtraGmPHjpUK93eVKVMGb968wc8//4yWLVsiMjISv/76a471ihYtisGDB2P+/PkoUqQIBg0ahBo1akjF/vjx49GiRQvY29vju+++g5aWFqKjo/Hnn39iypQpAN725w8PD0ft2rWhq6sLc3Pzjz4uLCwMGRkZqF69OgwMDPC///0P+vr6cHBwkOX1CwwMRI0aNTBo0CD06dMHhoaGuHLlCg4cOIAFCxZ88vYcHBygUqmwa9cuNGvWDPr6+jAyMkKDBg0QFhaGli1bwszMDOPHj4e2trb0uPx+3kRERERERHnFPvf55KeffkKdOnXQsmVLNGrUCF9//TWqVKmS67oVK1bEnDlzMGPGDFSoUAFr167Nta+2gYEBAgMD0bVrV9SuXRtGRkbYuHGjdH/jxo2xa9cu7N+/H9WqVUONGjUwd+5ctWJ09uzZOHDgAOzs7ODl5ZWnx5mZmWHp0qWoXbs2PD09cfDgQezcuROWlpaafMkknp6eOHr0KK5du4Y6derAy8sL48ePR4kSJf7V9kqWLCkNGmhjYyONuj9mzBjUq1cPLVq0QPPmzdGmTRs4OztLj8vv501ERERERJRXKvGljiZAVEA9TU1VJNfYxARPnzxRJtvcHEkPlcm2LWaOu+ciFckuXrU24hYpM4hiue/H4EnKU0WyzU2NFc2+tmKuItmufsPwNCVZkWxjUzOk3LurSLapTfGPryQjJd9rSn6npj68r0i2STFrPHiSoki2lbmpos+biKig45l7IiIiIiIiokKOxT1pzPHjx9Wmq3v3QkRERERERPLggHqkMVWrVkVUVJTSu0FERERERPSfw+KeNEZfX19j09URERERERFR3rFZPhEREREREVEhx+KeiIiIiIiIqJBjcU9ERERERERUyLG4JyIiIiIiIirkWNwTERERERERFXIqIYRQeieIiIiIiIiI6N/jVHhE+exJylNFcs1NjZH6VJlsE2NjPLoRp0i2ZZly+Ov+I0WyS1lbKvr/fePve4pklylpg9THyrzmJhaWir7P7z56okh2cUtzJN/9R5Fss+IlFMnNkpD0QJFcR1srPIyLUSS7WDkPPE1NVSTb2MQET58o8z43NjdHRMfaimR/vSlS0e81IqK8YLN8IiIiIiIiokKOxT0RERERERFRIcfinoiIiIiIiKiQY3FPREREREREVMixuCciIiIiIiIq5FjcExERERERERVyLO6JiIiIiIiICjkW90RERERERESFHIv7Qsjb2xtDhw5VejdyNXHiRFSqVEkj27p79y6++eYbGBoawszMLE+PCQsLU1tXk/tDRERERERUULG4p39NpVJh+/btassCAgIQHh6uke3PnTsXSUlJiIqKwrVr1/L0mE6dOuV5XSIiIiIioi9FEaV3gL4sRkZGMDIy0si24uPjUaVKFbi4uOT5Mfr6+tDX19dIfpbXr19DR0dHo9skIiIiIiLSJJ65L6QyMzMxatQoWFhYoHjx4pg4caJ0X3JyMvr06QMrKyuYmJigQYMGiI6Olu7Paqq+ePFi2NnZwcDAAB07dkRKSoq0ztmzZ/HNN9+gWLFiMDU1Rb169XDhwgXpfkdHRwBA27ZtoVKppNu5NYNfsWIFypcvD11dXdja2mLQoEEffX6Ojo7YsmULVq9eDZVKBV9fXwDAnDlz4OHhAUNDQ9jZ2WHgwIFIS0uTHvdus/x35daloU2bNtL2s7InT54MHx8fmJiYoF+/fgCAiIgI1KlTB/r6+rCzs4O/vz+ePXv20edCREREREQkNxb3hdSqVatgaGiI06dPY+bMmZg0aRIOHDgAAOjQoQPu37+PPXv24Pz586hcuTIaNmyIx48fS4+/ceMGNm3ahJ07d2Lv3r24ePEiBg4cKN3/9OlT9OzZExERETh16hRcXFzQrFkzPH36FMDb4h8AVq5ciaSkJOn2uxYtWoQffvgB/fr1Q0xMDHbs2IEyZcp89PmdPXsWTZo0QceOHZGUlITQ0FAAgJaWFubPn4/Lly9j1apVOHToEEaNGvXvXsQPmDVrFipWrIiLFy8iKCgI8fHxaNKkCdq3b49Lly5h48aNiIiIyNOBCiIiIiIiIrmxWX4h5enpiQkTJgAAXFxcsGDBAoSHh0NfXx9nzpzB/fv3oaurC+Btobp9+3Zs3rxZOgv98uVLrF69GiVLlgQA/Pzzz2jevDlmz56N4sWLo0GDBmp5S5YsgZmZGY4ePYoWLVrAysoKAGBmZobixYu/dz+nTJmCESNGYMiQIdKyatWqffT5WVlZQVdXF/r6+mrbz37W3dHREVOmTMGAAQPwyy+/fHSbn6JBgwYYMWKEdLtPnz7o1q2blO/i4oL58+ejXr16WLRoEfT09HJs49WrV3j16pXasqz/EyIiIiIiIk3imftCytPTU+22ra0t7t+/j+joaKSlpcHS0lLq/25kZIRbt24hPj5eWt/e3l4q7AGgZs2ayMzMxNWrVwEA9+7dQ9++feHi4gJTU1OYmJggLS0NiYmJed7H+/fv459//kHDhg0/89n+n4MHD6Jhw4YoWbIkjI2N0aNHDzx69AjPnz/XWAYAVK1aVe12dHQ0wsLC1F7Txo0bIzMzE7du3cp1GyEhITA1NVW7hISEaHQ/iYiIiIiIAJ65L7SKFi2qdlulUiEzMxNpaWmwtbXFkSNHcjwmr9PJAUDPnj3x6NEjhIaGwsHBAbq6uqhZsyZev36d521oemC7hIQEtGjRAt9//z2mTp0KCwsLREREoHfv3nj9+jUMDAw+ug0tLS0IIdSWvXnzJsd6hoaGarfT0tLQv39/+Pv751jX3t4+16wxY8Zg+PDhast0dXXx/GXeX0MiIiIiIqK8YHH/halcuTLu3r2LIkWKSIPc5SYxMRH//PMPSpQoAQA4deoUtLS0ULZsWQBAZGQkfvnlFzRr1gwAcOfOHTx8+FBtG0WLFkVGRsZ7M4yNjeHo6Ijw8HDUr1//M58ZcP78eWRmZmL27NnQ0nrb6GTTpk2ftA0rKyskJSVJtzMyMvDnn39+dP8qV66MK1eu5Gm8gCy6urq5NsNncU9ERERERJrGZvlfmEaNGqFmzZpo06YN9u/fj4SEBJw4cQJjx47FuXPnpPX09PTQs2dPREdH4/jx4/D390fHjh2l/u0uLi5Ys2YNYmNjcfr0aXTr1i3Hmfiswv3u3bt48uRJrvszceJEzJ49G/Pnz8f169dx4cIF/Pzzz//quZUpUwZv3rzBzz//jJs3b2LNmjX49ddfP2kbDRo0wB9//IE//vgDcXFx+P7775GcnPzRxwUGBuLEiRMYNGgQoqKicP36dfz+++8cUI+IiIiIiAoEFvdfGJVKhd27d6Nu3bro1asXXF1d0blzZ9y+fRs2NjbSemXKlEG7du3QrFkzfPvtt/D09FQblG758uV48uQJKleujB49esDf3x/W1tZqWbNnz8aBAwdgZ2cHLy+vXPenZ8+emDdvHn755ReUL18eLVq0wPXr1//Vc6tYsSLmzJmDGTNmoEKFCli7du0n92H38/NDz5494ePjg3r16sHJySlPrQo8PT1x9OhRXLt2DXXq1IGXlxfGjx8vtXwgIiIiIiJSkkq82wGZvngTJ07E9u3bERUVpfSu/Cc9SXmqSK65qTFSnyqTbWJsjEc34hTJtixTDn/df6RIdilrS0X/v2/8fU+R7DIlbZD6WJnX3MTCUtH3+d1HubdikltxS3Mk3/1HkWyz4soe5ExIeqBIrqOtFR7GxSiSXaycB56mpiqSbWxigqfvaa0ne7a5OSI61lYk++tNkYp+rxER5QXP3BMREREREREVcizuSRFr165Vm1Yu+6V8+fJK7x4REREREVGhwtHy/4MmTpyIiRMnKroPrVq1QvXq1XO9791p/oiIiIiIiOjDWNyTIoyNjWFsbKz0bhAREREREX0R2CyfiIiIiIiIqJBjcU9ERERERERUyLG4JyIiIiIiIirkWNwTERERERERFXIs7omIiIiIiIgKOZUQQii9E0RERERERET073EqPKJ8lvr0qSK5JsbGimY/vH5FkexiLu5I/ueOItlmJewQ/899RbKdS1jjnwePFckuYWWBJynKvNfMTY0Vfc3jEpMUyS5nb4vHt28qkm3h4KRIbpZHyamK5FqameDBlWhFsq3cKyr6vFPu3VUk29SmuKLfLUq+5k9TkhXJNjY1UySXiP4dNssnIiIiIiIiKuRY3BMREREREREVcizuiYiIiIiIiAo5FvdEREREREREhRyLeyIiIiIiIqJCjsU9ERERERERUSHH4p6IiIiIiIiokGNx/xHe3t4YOnSo0rtBGqZSqbB9+3ald4OIiIiIiEgjiii9AwXd1q1bUbRoUaV3gzQsKSkJ5ubmSu8GERERERGRRrC4/wgLCwuld+E/RwiBjIwMFCki39uzePHism2biIiIiIgov7FZ/kdkb5bv6OiIKVOmwMfHB0ZGRnBwcMCOHTvw4MEDtG7dGkZGRvD09MS5c+ekx4eFhcHMzAy7du1C2bJlYWBggO+++w7Pnz/HqlWr4OjoCHNzc/j7+yMjI0N6XG7Nxs3MzBAWFgYASEhIgEqlwtatW1G/fn0YGBigYsWKOHnypNpjtmzZgvLly0NXVxeOjo6YPXu22v2//PILXFxcoKenBxsbG3z33XfSfY6Ojpg3b57a+pUqVcLEiRPV9nPRokVo2rQp9PX14eTkhM2bN0v3Z+3nhg0bUKtWLejp6aFChQo4evSotM6RI0egUqmwZ88eVKlSBbq6uoiIiEBmZiZCQkJQunRp6Ovro2LFimrbfvLkCbp16wYrKyvo6+vDxcUFK1euBAC8fv0agwYNgq2tLfT09ODg4ICQkJD3vr4xMTFo0KAB9PX1YWlpiX79+iEtLU2639fXF23atMGsWbNga2sLS0tL/PDDD3jz5g2IiIiIiIiUxuL+E82dOxe1a9fGxYsX0bx5c/To0QM+Pj7o3r07Lly4AGdnZ/j4+EAIIT3m+fPnmD9/PjZs2IC9e/fiyJEjaNu2LXbv3o3du3djzZo1WLx4sVrhmldjx45FQEAAoqKi4Orqii5duiA9PR0AcP78eXTs2BGdO3dGTEwMJk6ciKCgIOkAwblz5+Dv749Jkybh6tWr2Lt3L+rWrfvJ+xAUFIT27dsjOjoa3bp1Q+fOnREbG6u2zsiRIzFixAhcvHgRNWvWRMuWLfHo0SO1dUaPHo3p06cjNjYWnp6eCAkJwerVq/Hrr7/i8uXLGDZsGLp37y4dGAgKCsKVK1ewZ88exMbGYtGiRShWrBgAYP78+dixYwc2bdqEq1evYu3atXB0dMx1/589e4bGjRvD3NwcZ8+exW+//YaDBw9i0KBBausdPnwY8fHxOHz4MFatWoWwsDDptSQiIiIiIlISm+V/ombNmqF///4AgPHjx2PRokWoVq0aOnToAAAIDAxEzZo1ce/ePanp95s3b7Bo0SI4OzsDAL777jusWbMG9+7dg5GREdzd3VG/fn0cPnwYnTp1+qT9CQgIQPPmzQEAwcHBKF++PG7cuIFy5cphzpw5aNiwIYKCggAArq6uuHLlCn766Sf4+voiMTERhoaGaNGiBYyNjeHg4AAvL69Pfk06dOiAPn36AAAmT56MAwcO4Oeff8Yvv/wirTNo0CC0b98eALBo0SLs3bsXy5cvx6hRo6R1Jk2ahG+++QYA8OrVK0ybNg0HDx5EzZo1AQBOTk6IiIjA4sWLUa9ePSQmJsLLywtVq1YFALXiPTExES4uLvj666+hUqng4ODw3v1ft24dXr58idWrV8PQ0BAAsGDBArRs2RIzZsyAjY0NAMDc3BwLFiyAtrY2ypUrh+bNmyM8PBx9+/b95NeMiIiIiIhIk3jm/hN5enpK17OKPg8PjxzL7t+/Ly0zMDCQCvusdRwdHWFkZKS2LPtj/s3+2NraqmXHxsaidu3aauvXrl0b169fR0ZGBr755hs4ODjAyckJPXr0wNq1a/H8+fNP3oes4jv77XfP3Gdfp0iRIqhatWqOdbKKdAC4ceMGnj9/jm+++QZGRkbSZfXq1YiPjwcAfP/999iwYQMqVaqEUaNG4cSJE9LjfX19ERUVhbJly8Lf3x/79+9/7/7HxsaiYsWKUmEPvH2dMjMzcfXqVWlZ+fLloa2tLd22tbX94P/Zq1evkJqaqnZ59erVe9cnIiIiIiL6t1jcf6LsI+erVKr3LsvMzMz1MVnr5LYs+2NUKpVa034Aufbv/lj2hxgbG+PChQtYv349bG1tMX78eFSsWBHJyckAAC0trTztg6ZkL66z+rv/8ccfiIqKki5XrlyRui80bdoUt2/fxrBhw/DPP/+gYcOGCAgIAABUrlwZt27dwuTJk/HixQt07NhRbTyBf+Nj/2fvCgkJgampqdole79/IiIiIiIiTWFxX0BZWVkhKSlJun39+vVPPqvu5uaGyMhItWWRkZFwdXWVzkAXKVIEjRo1wsyZM3Hp0iUkJCTg0KFDue5Damoqbt26lSPn1KlTOW67ubm9d5309HScP38+xzrZubu7Q1dXF4mJiShTpozaxc7OTlrPysoKPXv2xP/+9z/MmzcPS5Yske4zMTFBp06dsHTpUmzcuBFbtmzB48ePc32doqOj8ezZM7XXSUtLC2XLln3vPn7MmDFjkJKSonYZM2bMv94eERERERHR+7DPfQHVoEEDLFiwADVr1kRGRgYCAwNznDn+mBEjRqBatWqYPHkyOnXqhJMnT2LBggVSX/hdu3bh5s2bqFu3LszNzbF7925kZmZKBW2DBg0QFhaGli1bwszMDOPHj1drlp7lt99+Q9WqVfH1119j7dq1OHPmDJYvX662zsKFC+Hi4gI3NzfMnTsXT548gZ+f33v33djYGAEBARg2bBgyMzPx9ddfIyUlBZGRkTAxMUHPnj0xfvx4VKlSBeXLl8erV6+wa9cu6YDBnDlzYGtrCy8vL2hpaeG3335D8eLFYWZmliOrW7dumDBhAnr27ImJEyfiwYMHGDx4MHr06CF1s/g3dHV1oaurm2P5q9ev//U2iYiIiIiIcsPivoCaPXs2evXqhTp16qBEiRIIDQ3F+fPnP2kblStXxqZNmzB+/HhMnjwZtra2mDRpEnx9fQG8nVpv69atmDhxIl6+fAkXFxesX78e5cuXB/D2zPOtW7fQokULmJqaYvLkybmeuQ8ODsaGDRswcOBA2NraYv369XB3d1dbZ/r06Zg+fTqioqJQpkwZ7NixQxrZ/n0mT54MKysrhISE4ObNmzAzM0PlypXx448/AgB0dHQwZswYJCQkQF9fH3Xq1MGGDRsAvD04MHPmTFy/fh3a2tqoVq0adu/eDS2tnI1VDAwMsG/fPgwZMgTVqlWDgYEB2rdvjzlz5nzS601ERERERKQUlXi3UzXRJ1CpVNi2bRvatGmT6/0JCQkoXbo0Ll68iEqVKuXrvhVUqU+fKpJrYmysaPbD61cUyS7m4o7kf+4okm1Wwg7x/3z6QJma4FzCGv88yNkNJT+UsLLAkxRl3mvmpsaKvuZxiUkfX1EG5ext8fj2TUWyLRycFMnN8ig5VZFcSzMTPLgSrUi2lXtFRZ93yr27imSb2hRX9LtFydf8aUqyItnGpmaK5BLRv8M+90RERERERESFHIt7IiIiIiIiokKOfe7ps3ysV4ejo+NH1yEiIiIiIqLPwzP3RERERERERIUci3siIiIiIiKiQo7FPREREREREVEhx+KeiIiIiIiIqJBjcU9ERERERERUyLG4JyIiIiIiIirkWNwTERERERERFXIqwUnIiYiIiIiIiAq1IkrvANF/zdPUVEVyjU1M8ChZmWxLMxM8uZOgSLa5nSOe/JWoTHYpe9x/nKxItrWFGZIePlEk27aYuaLvcyVf89SnTxXJNjE2xqMbcYpkW5Ypp0hulscpyrzXLExNcD/mgiLZ1h6VFX3eT1KUeZ+bmxormq3k95qSzzt+/RJFsp279FMkl6gwY7N8IiIiIiIiokKOxT0RERERERFRIcfinoiIiIiIiKiQY3FPREREREREVMixuCciIiIiIiIq5FjcExERERERERVyLO6JiIiIiIiICjkW96RR3t7eGDp0qMa25+vrizZt2mhse3mlUqmwffv2fM8lIiIiIiL6N4oovQNEBVFSUhLMzc2V3g0iIiIiIqI8YXFPlIvixYsrvQtERERERER5xmb5JJtXr14hICAAJUuWhKGhIapXr44jR45I90+cOBGVKlVSe8y8efPg6Oj43m2ePXsWVlZWmDFjBgAgOTkZffr0gZWVFUxMTNCgQQNER0fnyFixYgXs7e1hZGSEgQMHIiMjAzNnzkTx4sVhbW2NqVOnquW82yw/MDAQrq6uMDAwgJOTE4KCgvDmzZt//doQERERERFpEs/ck2wGDRqEK1euYMOGDShRogS2bduGJk2aICYmBi4uLp+8vUOHDqFdu3aYOXMm+vXrBwDo0KED9PX1sWfPHpiammLx4sVo2LAhrl27BgsLCwBAfHw89uzZg7179yI+Ph7fffcdbt68CVdXVxw9ehQnTpyAn58fGjVqhOrVq+eabWxsjLCwMJQoUQIxMTHo27cvjI2NMWrUqH//AhEREREREWkIi3uSRWJiIlauXInExESUKFECABAQEIC9e/di5cqVmDZt2idtb9u2bfDx8cGyZcvQqVMnAEBERATOnDmD+/fvQ1dXFwAwa9YsbN++HZs3b5YOAGRmZmLFihUwNjaGu7s76tevj6tXr2L37t3Q0tJC2bJlMWPGDBw+fPi9xf24ceOk646OjggICMCGDRtY3BMRERERUYHA4p5kERMTg4yMDLi6uqotf/XqFSwtLT9pW6dPn8auXbuwefNmtZHzo6OjkZaWlmN7L168QHx8vHTb0dERxsbG0m0bGxtoa2tDS0tLbdn9+/ffuw8bN27E/PnzER8fj7S0NKSnp8PExOSD+/3q1Su8evVKbVnWQQgiIiIiIiJNYnFPskhLS4O2tjbOnz8PbW1ttfuMjIwAAFpaWhBCqN2XWz92Z2dnWFpaYsWKFWjevDmKFi0qZdja2qr1489iZmYmXc9aP4tKpcp1WWZmZq7P5eTJk+jWrRuCg4PRuHFjmJqaYsOGDZg9e3buT/7/CwkJQXBwsNqyCRMmYMTw4R98HBERERER0adicU+y8PLyQkZGBu7fv486derkuo6VlRXu3r0LIQRUKhUAICoqKsd6xYoVw9atW+Ht7Y2OHTti06ZNKFq0KCpXroy7d++iSJEiHxyE73OdOHECDg4OGDt2rLTs9u3bH33cmDFjMPydQl5XVxev3zmbT0RERERE9Lk4Wj7JwtXVFd26dYOPjw+2bt2KW7du4cyZMwgJCcEff/wBAPD29saDBw8wc+ZMxMfHY+HChdizZ0+u27O2tsahQ4cQFxeHLl26ID09HY0aNULNmjXRpk0b7N+/HwkJCThx4gTGjh2Lc+fOaey5uLi4IDExERs2bEB8fDzmz5+Pbdu2ffRxurq6MDExUbuwWT4REREREcmBxT3JZuXKlfDx8cGIESNQtmxZtGnTBmfPnoW9vT0AwM3NDb/88gsWLlyIihUr4syZMwgICHjv9ooXL45Dhw4hJiYG3bp1Q2ZmJnbv3o26deuiV69ecHV1RefOnXH79m3Y2Nho7Hm0atUKw4YNw6BBg1CpUiWcOHECQUFBGts+ERERERHR51KJdzs9E5GsnqamKpJrbGKCR8nKZFuameDJnQRFss3tHPHkr0RlskvZ4/7jZEWyrS3MkPTwiSLZtsXMFX2fK/mapz59qki2ibExHt2IUyTbskw5RXKzPE5R5r1mYWqC+zEXFMm29qis6PN+kqLM+9zc1FjRbCW/15R83vHrlyiS7dylnyK5RIUZz9wTERERERERFXIs7omIiIiIiIgKORb3RERERERERIUci3siIiIiIiKiQo7FPREREREREVEhx+KeiIiIiIiIqJBjcU9ERERERERUyLG4JyIiIiIiIirkWNwTERERERERFXIs7omIiIiIiIgKOZUQQii9E0RERERERET07xVRegeI/muepiQrkmtsaoanqanKZJuYIOXeXUWyTW2KIznpb0WyzWxL4sGTFEWyrcxNFc1++uSJItnG5uZ4nKLM+9zC1ASpT58qkm1ibIzUh/eVyS5mrUhuFiX/v5P/uaNItlkJOzxJUea9Zm5qrOjzVvLvmJLvNSWf9z8nDimSXaJWA0X/fhMVRmyWT0RERERERFTIsbgnIiIiIiIiKuRY3BMREREREREVcizuiYiIiIiIiAo5FvdEREREREREhRyLeyIiIiIiIqJCjsU9ERERERERUSHH4p7yxNvbG0OHDlV0H44cOQKVSoXk5GRF94OIiIiIiKigYXFPREREREREVMixuCciIiIiIiIq5Fjc0yeZNGkSKlSokGN5pUqVEBQUBADw9fVFmzZtMG3aNNjY2MDMzAyTJk1Ceno6Ro4cCQsLC5QqVQorV66UHp+QkACVSoUNGzagVq1a0NPTQ4UKFXD06NEcWefPn0fVqlVhYGCAWrVq4erVq2r3L1q0CM7OztDR0UHZsmWxZs0atftVKhUWL16MFi1awMDAAG5ubjh58iRu3LgBb29vGBoaolatWoiPj5ceEx8fj9atW8PGxgZGRkaoVq0aDh48+FmvJRERERERkaawuKdP4ufnh9jYWJw9e1ZadvHiRVy6dAm9evWSlh06dAj//PMPjh07hjlz5mDChAlo0aIFzM3Ncfr0aQwYMAD9+/fHX3/9pbb9kSNHYsSIEbh48SJq1qyJli1b4tGjR2rrjB07FrNnz8a5c+dQpEgR+Pn5Sfdt27YNQ4YMwYgRI/Dnn3+if//+6NWrFw4fPqy2jcmTJ8PHxwdRUVEoV64cunbtiv79+2PMmDE4d+4chBAYNGiQtH5aWhqaNWuG8PBwXLx4EU2aNEHLli2RmJiokdeViIiIiIjoc7C4p09SqlQpNG7cWO2s+8qVK1GvXj04OTlJyywsLDB//nyULVsWfn5+KFu2LJ4/f44ff/wRLi4uGDNmDHR0dBAREaG2/UGDBqF9+/Zwc3PDokWLYGpqiuXLl6utM3XqVNSrVw/u7u4YPXo0Tpw4gZcvXwIAZs2aBV9fXwwcOBCurq4YPnw42rVrh1mzZqlto1evXujYsSNcXV0RGBiIhIQEdOvWDY0bN4abmxuGDBmCI0eOSOtXrFgR/fv3R4UKFeDi4oLJkyfD2dkZO3bs0NRLS0RERERE9K+xuKdP1rdvX6xfvx4vX77E69evsW7dOrWz5wBQvnx5aGn939vLxsYGHh4e0m1tbW1YWlri/v37ao+rWbOmdL1IkSKoWrUqYmNj1dbx9PSUrtva2gKAtJ3Y2FjUrl1bbf3atWt/cBs2NjYAoLZ/NjY2ePnyJVJTUwG8PXMfEBAANzc3mJmZwcjICLGxsR88c//q1SukpqaqXV69evXe9YmIiIiIiP4tFvf0yVq2bAldXV1s27YNO3fuxJs3b/Ddd9+prVO0aFG12yqVKtdlmZmZn5yffTsqlQoAPnk7uW3jQ9sNCAjAtm3bMG3aNBw/fhxRUVHw8PDA69ev35sREhICU1NTtUtISMgn7ScREREREVFesLinT1akSBH07NkTK1euxMqVK9G5c2fo6+trZNunTp2Srqenp+P8+fNwc3PL8+Pd3NwQGRmptiwyMhLu7u6ftV+RkZHw9fVF27Zt4eHhgeLFiyMhIeGDjxkzZgxSUlLULmPGjPms/SAiIiIiIspNEaV3gAqnPn36SEX3u8X051i4cCFcXFzg5uaGuXPn4smTJzma/H/IyJEj0bFjR3h5eaFRo0bYuXMntm7d+tkj27u4uGDr1q1o2bIlVCoVgoKCPtpaQFdXF7q6ujmWv3754rP2hYiIiIiI6F0s7ulfcXFxQa1atfD48WNUr15dY9udPn06pk+fjqioKJQpUwY7duxAsWLF8vz4Nm3aIDQ0FLNmzcKQIUNQunRprFy5Et7e3p+1X3PmzIGfnx9q1aqFYsWKITAwUOqPT0REREREpDQW95Qn2UeOBwAhBP755x8MHDgwx7phYWEffTyAXJu1u7m54fTp07nug7e3N4QQassqVaqUY9n333+P77//PtdtZO17do6OjjmWvZvl6OiIQ4cOqa3zww8/vDeDiIiIiIgoP7G4p0/24MEDbNiwAXfv3lWb256IiIiIiIiUweKePpm1tTWKFSuGJUuWwNzcXOndISIiIiIi+s9jcU+f7N0m7JqQW9N4IiIiIiIiyhtOhUdERERERERUyLG4JyIiIiIiIirkWNwTERERERERFXIs7omIiIiIiIgKORb3RERERERERIUci3siIiIiIiKiQo7FPREREREREVEhpxKcXJyIiIiIiIioUCui9A4Q/dekPn2qSK6JsTHuP05WJNvawgwPYi8pkm3l5okndxIUyTa3c0RcYpIi2eXsbZH68L4i2SbFrPEkRZn3ubmpsaKvuZKfsce3biiSbVG6jCK5WVLu3VUk19SmOJLORiiSbVvtayQ9fKJMdjFzRT/fj1NSFcm2MDVR9DV/+kSZbGNzc5z+vo0i2dUXbVf0eSv53UL0b7FZPhEREREREVEhx+KeiIiIiIiIqJBjcU9ERERERERUyLG4JyIiIiIiIirkWNwTERERERERFXIs7omIiIiIiIgKORb3RERERERERIUci3siIiIiIiKiQi7fivuEhASoVCpERUUBAI4cOQKVSoXk5OT3PiYsLAxmZmb5sn+Fzbuv5/t4e3tj6NCh+bJPX6KJEyeiUqVKSu8GERERERHRByl25r5WrVpISkqCqampRrb3XyvC7OzskJSUhAoVKgDI28GSgkSlUmH79u0a3aYcBzICAgIQHh6u0W0SERERERFpWhGlgnV0dFC8eHGl4vOdEAIZGRkoUkQzL7m2tvZ/6vVTipGREYyMjJTeDSIiIiIiog/65DP3mzdvhoeHB/T19WFpaYlGjRrh2bNnyMzMxKRJk1CqVCno6uqiUqVK2Lt373u3k9uZ5rCwMNjb28PAwABt27bFo0eP8rRPYWFhCA4ORnR0NFQqFVQqFcLCwnJtup6cnAyVSoUjR46o7ce+ffvg5eUFfX19NGjQAPfv38eePXvg5uYGExMTdO3aFc+fP5e28+rVK/j7+8Pa2hp6enr4+uuvcfbs2RzPb8+ePahSpQp0dXURERHx3ueQkpICbW1tnDt3DgCQmZkJCwsL1KhRQ1rnf//7H+zs7ACoN8tPSEhA/fr1AQDm5uZQqVTw9fWVHpeZmYlRo0bBwsICxYsXx8SJE/P0ugJvz7AvXrwYLVq0gIGBAdzc3HDy5EncuHED3t7eMDQ0RK1atRAfH6/2uN9//x2VK1eGnp4enJycEBwcjPT0dACAo6MjAKBt27ZQqVTS7fj4eLRu3Ro2NjYwMjJCtWrVcPDgQbXt/vLLL3BxcYGenh5sbGzw3XffAQB8fX1x9OhRhIaGSu+BhIQEZGRkoHfv3ihdujT09fVRtmxZhIaGqm3zyJEj+Oqrr2BoaAgzMzPUrl0bt2/fBpCzRciH1iUiIiIiIlLKJxX3SUlJ6NKlC/z8/BAbG4sjR46gXbt2EEIgNDQUs2fPxqxZs3Dp0iU0btwYrVq1wvXr1/O07dOnT6N3794YNGgQoqKiUL9+fUyZMiVPj+3UqRNGjBiB8uXLIykpCUlJSejUqdOnPDVMnDgRCxYswIkTJ3Dnzh107NgR8+bNw7p16/DHH39g//79+Pnnn6X1R40ahS1btmDVqlW4cOECypQpg8aNG+Px48dq2x09ejSmT5+O2NhYeHp6vjff1NQUlSpVkg46xMTEQKVS4eLFi0hLSwMAHD16FPXq1cvxWDs7O2zZsgUAcPXqVSQlJakVsKtWrYKhoSFOnz6NmTNnYtKkSThw4ECeX5vJkyfDx8cHUVFRKFeuHLp27Yr+/ftjzJgxOHfuHIQQGDRokLT+8ePH4ePjgyFDhuDKlStYvHgxwsLCMHXqVACQDoKsXLkSSUlJ0u20tDQ0a9YM4eHhuHjxIpo0aYKWLVsiMTERAHDu3Dn4+/tj0qRJuHr1Kvbu3Yu6desCAEJDQ1GzZk307dtXeg/Y2dkhMzMTpUqVwm+//YYrV65g/Pjx+PHHH7Fp0yYAQHp6Otq0aYN69erh0qVLOHnyJPr16weVSpXjdfiUdYmIiIiIiPLTJ7URT0pKQnp6Otq1awcHBwcAgIeHBwBg1qxZCAwMROfOnQEAM2bMwOHDhzFv3jwsXLjwo9sODQ1FkyZNMGrUKACAq6srTpw48cGz/1n09fVhZGSEIkWK/Oum6lOmTEHt2rUBAL1798aYMWMQHx8PJycnAMB3332Hw4cPIzAwEM+ePcOiRYsQFhaGpk2bAgCWLl2KAwcOYPny5Rg5cqS03UmTJuGbb77J0z54e3vjyJEjCAgIwJEjR/DNN98gLi4OERERaNKkCY4cOSK9Ptlpa2vDwsICAGBtbZ1jEEJPT09MmDABAODi4oIFCxYgPDw8z/vVq1cvdOzYEQAQGBiImjVrIigoCI0bNwYADBkyBL169ZLWDw4OxujRo9GzZ08AgJOTEyZPnoxRo0ZhwoQJsLKyAgCYmZmp/X9VrFgRFStWlG5PnjwZ27Ztw44dOzBo0CAkJibC0NAQLVq0gLGxMRwcHODl5QXg7cERHR0dGBgYqG1TW1sbwcHB0u3SpUvj5MmT2LRpEzp27IjU1FSkpKSgRYsWcHZ2BgC4ubnl+jp8yrrA29Ydr169Ulumq6v73vWJiIiIiIj+rU86c1+xYkU0bNgQHh4e6NChA5YuXYonT54gNTUV//zzj1QcZ6lduzZiY2PztO3Y2FhUr15dbVnNmjU/Zfc+S/az6jY2NjAwMJAK+6xl9+/fB/C2+fibN2/Unm/RokXx1Vdf5Xi+VatWzfM+1KtXDxEREcjIyMDRo0fh7e0tFfz//POP1BT+c54bANja2krP5VMfb2NjA+D/DupkLXv58iVSU1MBANHR0Zg0aZLUX93IyEg6o569a8O70tLSEBAQADc3N5iZmcHIyAixsbHSmftvvvkGDg4OcHJyQo8ePbB27doPbi/LwoULUaVKFVhZWcHIyAhLliyRtmlhYQFfX180btwYLVu2RGhoKJKSknLdzqesCwAhISEwNTVVu4SEhHx0f4mIiIiIiD7VJxX32traOHDgAPbs2QN3d3f8/PPPKFu2LG7duiXX/n0WLa23T08IIS178+ZNrusWLVpUuq5SqdRuZy3LzMz85H0wNDTM87p169bF06dPceHCBRw7dkytuD969ChKlCgBFxeXT96Hz30u774271uWtc20tDQEBwcjKipKusTExOD69evQ09N7b05AQAC2bduGadOm4fjx44iKioKHhwdev34NADA2NsaFCxewfv162NraYvz48ahYseIHZwjYsGEDAgIC0Lt3b+zfvx9RUVHo1auXtE3gbfeAkydPolatWti4cSNcXV1x6tSpXLf3KeuOGTMGKSkpapcxY8a8d1+JiIiIiIj+rU8eUE+lUqF27doIDg7GxYsXoaOjg/DwcJQoUQKRkZFq60ZGRsLd3T1P23Vzc8Pp06fVlr2vaMqNjo4OMjIy1JZlNf/Ofnb1Y/PC54WzszN0dHTUnu+bN29w9uzZPD/f3JiZmcHT0xMLFixA0aJFUa5cOdStWxcXL17Erl27cu1vn0VHRwcAcrwGSqhcuTKuXr2KMmXK5LhkHXApWrRojn2NjIyEr68v2rZtCw8PDxQvXhwJCQlq6xQpUgSNGjXCzJkzcenSJSQkJODQoUMAcn8PREZGolatWhg4cCC8vLxQpkyZHIP/AYCXlxfGjBmDEydOoEKFCli3bt17n19e19XV1YWJiYnahc3yiYiIiIhIDp/U5/706dMIDw/Ht99+C2tra5w+fRoPHjyAm5sbRo4ciQkTJsDZ2RmVKlXCypUrERUVhbVr1+Zp2/7+/qhduzZmzZqF1q1bY9++fXnqb5/F0dERt27dQlRUFEqVKgVjY2Po6+ujRo0amD59OkqXLo379+9j3Lhxn/KUc2VoaIjvv/8eI0eOhIWFBezt7TFz5kw8f/4cvXv3/qxte3t74+eff5ZGgbewsICbmxs2btz4wbELHBwcoFKpsGvXLjRr1kwah0AJ48ePR4sWLWBvb4/vvvsOWlpaiI6Oxp9//ikNkujo6Ijw8HDUrl0burq6MDc3h4uLC7Zu3YqWLVtCpVIhKChIrYXBrl27cPPmTdStWxfm5ubYvXs3MjMzUbZsWWmbp0+fRkJCAoyMjGBhYQEXFxesXr0a+/btQ+nSpbFmzRqcPXsWpUuXBgDcunULS5YsQatWrVCiRAlcvXoV169fh4+PT47n9SnrEhERERER5adPOnNvYmKCY8eOoVmzZnB1dcW4ceMwe/ZsNG3aFP7+/hg+fDhGjBgBDw8P7N27Fzt27MhzM/IaNWpg6dKlCA0NRcWKFbF///5PKsTbt2+PJk2aoH79+rCyssL69esBACtWrEB6ejqqVKmCoUOH5nkE/o+ZPn062rdvjx49eqBy5cq4ceMG9u3bB3Nz88/abr169ZCRkaHWt97b2zvHsneVLFlSGsjOxsZGbfT6/Na4cWPs2rUL+/fvR7Vq1VCjRg3MnTtXGoQRAGbPno0DBw7Azs5OGhRvzpw5MDc3R61atdCyZUs0btwYlStXlh5jZmaGrVu3okGDBnBzc8Ovv/6K9evXo3z58gDeNuvX1taGu7s7rKyskJiYiP79+6Ndu3bo1KkTqlevjkePHmHgwIHSNg0MDBAXF4f27dvD1dUV/fr1ww8//ID+/fvneF6fsi4REREREVF+UonsHdKJSHapT58qkmtibIz7j5MVyba2MMOD2EuKZFu5eeLJnQRFss3tHBGX+P5BF+VUzt4WqQ/zPnCmJpkUs8aTFGXe5+amxoq+5kp+xh7fuqFItkXpMorkZkm5d1eRXFOb4kg6G6FItm21r5H08Iky2cXMFf18P05JVSTbwtRE0df86RNlso3NzXH6+zaKZFdftF3R563kdwvRv/XJfe6JiIiIiIiIqGApNMV9+fLl1aZWy37Ja79+pRW057B27dr37k9WU3ciIiIiIiIq+D5pQD0l7d69+73T2GXNvV7QFbTn0KpVK1SvXj3X+96dPo+IiIiIiIgKrkJT3GcfjK2wKmjPwdjYGMbGxkrvBhEREREREX2mQtMsn4iIiIiIiIhyx+KeiIiIiIiIqJBjcU9ERERERERUyLG4JyIiIiIiIirkWNwTERERERERFXaCiAq8ly9figkTJoiXL18ym9nMZjazmc1sZjOb2QUmmwoOlRBCKH2AgYg+LDU1FaampkhJSYGJiQmzmc1sZjOb2cxmNrOZXSCyqeBgs3wiIiIiIiKiQo7FPREREREREVEhx+KeiIiIiIiIqJBjcU9UCOjq6mLChAnQ1dVlNrOZzWxmM5vZzGY2swtMNhUcHFCPiIiIiIiIqJDjmXsiIiIiIiKiQo7FPREREREREVEhx+KeiIiIiIiIqJBjcU9ERERERERUyLG4JyIiIiIiIirkWNwTERERERERFXIs7omI3nHjxg3s27cPL168AAB86TOG1qtXD6tXr5ae73/FpEmT8Pz58xzLX7x4gUmTJimwRyQnPz8/PH36NMfyZ8+ewc/PL1/24dy5c1izZg3WrFmDc+fO5Uumkvbu3YuIiAjp9sKFC1GpUiV07doVT548ydd9ycjIQFRUVL7nKp1NX7Y7d+7gr7/+km6fOXMGQ4cOxZIlSxTcK1IS57knKmBSU1PzvK6JiYmMe6KszMxM3LhxA/fv30dmZqbafXXr1pUl89GjR+jUqRMOHToElUqF69evw8nJCX5+fjA3N8fs2bNlyVXa0KFDsW7dOrx69QodO3ZE7969UaNGjXzLd3JywtmzZ2Fpaam2PDk5GZUrV8bNmzdlydXW1kZSUhKsra3Vlj969AjW1tbIyMiQJbcg2Lt3L4yMjPD1118DeFt0LV26FO7u7li4cCHMzc3zbV8yMjIQExMDBwcHWXPf9//98OFDFC9eHOnp6bJl//XXX+jSpQsiIyNhZmYG4O37u1atWtiwYQNKlSql0Txzc3OoVKo8rfv48WONZmfn4eGBGTNmoFmzZoiJiUG1atUwfPhwHD58GOXKlcPKlStlyx46dCg8PDzQu3dvZGRkoF69ejhx4gQMDAywa9cueHt7f5HZ2b1+/Rq3bt2Cs7MzihQpki+ZlL/q1KmDfv36oUePHrh79y7Kli2L8uXL4/r16xg8eDDGjx+v9C5SPuMnnaiAMTMzy/OPMk0XH8OHD8/zunPmzNFodnanTp1C165dcfv27RxnzVUqlWxF17Bhw1CkSBEkJibCzc1NWt6pUycMHz5cluLewsIC165dQ7FixT76g1yuH+Hz5s3DrFmzsGPHDqxatQp169ZFmTJl4Ofnhx49esDGxkaW3CwJCQm5/p++evUKf//9t2y5QohcX+/o6GhYWFjIktmuXbs8r7t161ZZ9gEARo4ciRkzZgAAYmJiMGLECKnoGj58+BdVdKWmpkIIASEEnj59Cj09Pem+jIwM7N69O0fBr2l9+vTBmzdvEBsbi7JlywIArl69il69eqFPnz7Yu3evRvPmzZsnXX/06BGmTJmCxo0bo2bNmgCAkydPYt++fQgKCtJo7rtu3boFd3d3AMCWLVvQokULTJs2DRcuXECzZs1kzd68eTO6d+8OANi5cydu3bqFuLg4rFmzBmPHjkVkZOQXmQ0Az58/x+DBg7Fq1SoAwLVr1+Dk5ITBgwejZMmSGD16tGzZGRkZCAsLQ3h4eK4H5w8dOiRr9ty5c7Fp0yYkJibi9evXavfLeSALeHsQb8eOHblmy/Wb6c8//8RXX30FANi0aRMqVKiAyMhI7N+/HwMGDGBx/x/E4p6ogDl8+LB0PSEhAaNHj4avr6/aj7JVq1YhJCRE49kXL15Uu33hwgWkp6dLP0avXbsGbW1tVKlSRePZ2Q0YMABVq1bFH3/8AVtb2zwf7Phc+/fvx759+3KcRXNxccHt27dlyZw7dy6MjY0BqP8gz29FihRBu3bt0K5dO9y/fx9LlixBUFAQfvzxRzRr1gz+/v5o0KCBRjN37NghXd+3bx9MTU2l2xkZGQgPD4ejo6NGM4H/O6upUqng6uqq9v7KyMhAWloaBgwYoPFcAGrPUQiBbdu2wdTUFFWrVgUAnD9/HsnJyZ90EODf+C8VXVkHTLP+v9+lUqkQHBys0cx3HT16FCdOnJC+SwGgbNmy+Pnnn1GnTh2N5/Xs2VO63r59e0yaNAmDBg2Slvn7+2PBggU4ePAghg0bpvH8LDo6OlLXl4MHD8LHxwfA24Oan9JK7d/IapEBALt370aHDh3g6uoKPz8/hIaGfrHZADBmzBhER0fjyJEjaNKkibS8UaNGmDhxoqzF/ZAhQxAWFobmzZujQoUK+fb3GwCCg4OxbNkyjBgxAuPGjcPYsWORkJCA7du3y17khoeHo1WrVnByckJcXBwqVKiAhIQECCFQuXJl2XLfvHkDXV1dAG8/Y61atQIAlCtXDklJSbLlUgEmiKjAatCggVi3bl2O5WvXrhX16tWTNXv27NmiZcuW4vHjx9Kyx48fi9atW4tZs2bJmm1gYCCuX78ua0ZujIyMxLVr16Tr8fHxQgghzp49KywsLPJ9f5Rw+vRpMWDAAGFmZibs7e3F+PHjRe/evYW+vr4YMWKERrNUKpVQqVRCS0tLup510dHREa6urmLnzp0azRRCiLCwMLFy5UqhUqlEaGioCAsLky7r1q0TJ06c0HhmbkaNGiX69Okj0tPTpWXp6emiX79+IiAgQNZsc3NzcfnyZSGEELVr1xaLFy8WQghx69Ytoa+vL2u2rq6uuHPnjhBCiL59+4ohQ4YIIYS4efOmMDY21njekSNHxOHDh4VKpRJbt24VR44ckS4nTpwQf//9t8Yz3+Xi4iJOnz6dY/np06eFs7OzrNmGhoa5fp9ev35dGBoayprdsmVL0bhxYzFp0iRRtGhR8ddffwkhhNi3b59wcXGRNdve3l7s27dPpKenCzs7O7Fr1y4hhBB//vmnMDMz+2Kzs/JPnjwphFD/W3b9+nVZPmPZWVpaij/++EPWjPdxcnKSXmsjIyNx48YNIYQQoaGhokuXLrJmV6tWTYwfP17Kjo+PF0+fPhWtWrUSv/zyi2y5X331lQgMDBTHjh0Tenp6IioqSgghxMmTJ0XJkiVly6WCi8U9UQGmr68vFZvZXb16VfYf4CVKlBB//vlnjuUxMTHC1tZW1uz69euLPXv2yJqRm6ZNm4px48YJId7+cb5586bIyMgQHTp0EO3bt8+3/bh3756IiYkR0dHRahc582bNmiXKly8vdHR0RPv27cWePXtEZmamtM7x48dlKwQcHR3FgwcPZNn2hxw5ckS8fv0633OzFCtWTMTFxeVYHhcXJ/vBpP9i0ZWQkKD2ns5P27dvF1999ZU4e/astOzs2bOiRo0aYtu2bbJm29vb53pAdtasWcLe3l7W7Nu3b4vmzZsLT09PsWzZMmn50KFDxeDBg2XNnjBhgjA1NRXlypUT9vb24uXLl0IIIZYvXy5q1KjxxWYL8fa3Q1ZBn724j4qKEiYmJrJm29raiqtXr8qa8T4GBgbi9u3bQgghihcvLs6fPy+EECI+Pl725539YIKZmZn0+ykqKko4ODjIlnv48GFhZmYmtLS0RK9evaTlY8aMEW3btpUtlwouNssnKsDs7OywdOlSzJw5U235smXLYGdnJ2t2amoqHjx4kGP5gwcPch1x+nNdunRJuj548GCMGDECd+/ehYeHB4oWLaq2rqenp8bzAWDmzJlo2LAhzp07h9evX2PUqFG4fPkyHj9+LHsfSeBtk+yePXsiNjY2X8caKFWqFJydneHn5wdfX19YWVnlWMfT0xPVqlWTJf/WrVuybPdj6tWrh8zMTFy7di1fB27Mkp6ejri4OLWm2gAQFxeXY180bcGCBRg4cCA2b96MRYsWoWTJkgCAPXv2qDXjlUOvXr3QsWNHqctNo0aNAACnT59GuXLlNJp16dIlVKhQAVpaWkhJSUFMTMx719X098q7Y2g8e/YM1atXlwY2S09PR5EiReDn54c2bdpoNDu74OBg9OnTB0eOHEH16tUBvH2t9+7di6VLl8qWCwD29vbYtWtXjuVz586VNRcAJk6ciAoVKuDOnTvo0KGD1HRZW1tb1mbpSmcDkLq1DR48GACk9+GyZcukLn5yGTFiBEJDQ7FgwYJ8bZIPvP1blpSUBHt7ezg7O2P//v2oXLkyzp49K/0fyMXQ0FDqZ29ra4v4+HiUL18ewNtuGnLx9vbGw4cPkZqaqjYgab9+/WBgYCBbLhVcHC2fqADbvXs32rdvjzJlykg/ys6cOYPr169jy5YtsvaN9fHxwfHjxzF79mxpsJbTp09j5MiRqFOnjjRQj6ZoaWlBpVK9d9q5rPvkLHIBICUlBQsWLEB0dDTS0tJQuXJl/PDDD7C1tZUtM0vFihXh7OyMwMBA2NjY5Phh5ODgoPFMIQQiIiJQtWpV6Ovra3z7eRUeHv7eAZhWrFghS6ZSAzdmGT58OFavXo0ff/xR7TM2ffp09OjRQ9ZBK5W2efNmqfDJGuNi1apVMDMzQ+vWrTWWo6Wlhbt378La2vqD3zFy/H9/yndk9j7ycjh9+jTmz5+P2NhYAICbmxv8/f2lvyuaxBlflBcREYGmTZuie/fuCAsLQ//+/XHlyhWcOHECR48elXXcnLZt2+Lw4cOwsLBA+fLlcxycl3Og0NGjR8PExAQ//vgjNm7ciO7du8PR0RGJiYkYNmwYpk+fLlt2mzZt0Lx5c/Tt2xcBAQH4/fff4evri61bt8Lc3BwHDx6ULZsoOxb3RAXcnTt3sGjRIsTFxQF4+6NswIABsp+5f/78OQICArBixQq8efMGwNtB13r37o2ffvoJhoaGGs37lAHr5ChyCwJjY2NcvHgRZcqUybfMzMxM6Onp4fLly3Bxccm33OyCg4MxadIkVK1aNdcBFLdt2yZLbqVKleDq6org4OBcc7MPfieHzMxMzJo1C6GhodLAR7a2thgyZAhGjBgBbW1t2bLr1auH3r17o0OHDooe1JHb7du3YW9vD5VK9dHvmC/1eyW/ZR1EyQtNH1CZP38++vXrBz09PcyfP/+D6/r7+2s0O7tJkyZ98P78GMH85s2bCAkJUTtQHRgYCA8PD1lze/Xq9cH75ZyJ410nT57EyZMn4eLigpYtW8qadfPmTaSlpcHT0xPPnj3DiBEjcOLECbi4uGDOnDka/X6pXLkywsPDYW5uDi8vrw9+3i5cuKCxXCocWNwT0Qc9e/YM8fHxAABnZ2eNF/W5OXbsGGrVqpVjXt709HScOHFCtubS2bsGZKdSqaCnpwd7e3tZm/a1adMGPXr0QPv27WXLyE358uWxfPnyfJ3bPjtbW1vMnDkTPXr0yNdcQ0NDREdH5+vBlPfJOtuZX2cyhw4dinXr1uHVq1fo2LEjevfunW///wWh8FFCRkYGtm/fLp09L1++PFq1aiXrQZws8fHxWLlyJW7evIl58+bB2toae/bsgb29vdR0WFOOHj0qXf/YjC+abrFQunRpnDt3DpaWlihduvR711OpVLh586ZGs7Pz8vJSu/3mzRvcunULRYoUgbOzs6wF15s3b9C/f38EBQV98DWgwis4OBgjR46EgYHBR2f6mDBhQj7tFRUULO6JCpjsfUTfV2xmkavvudK0tbWRlJSUY+7pR48ewdraWrbm0tnPOGV9NWY/Il60aFF06tQJixcvVpsrW1MePnyInj174quvvkKFChVyNGfMmuJG03bu3ImZM2di0aJFqFChgiwZH2JpaYkzZ87A2dk5X3MbNGiAUaNGyd7HvKBKT0/Hjh07sGrVKuzZswdlypSBn58fevToARsbG9lylSx8/vnnH0REROTa/UPOM7k3btxAs2bN8Pfff6vNc29nZ4c//vhD1vf+0aNH0bRpU9SuXRvHjh1DbGwsnJycMH36dJw7dw6bN2+WLbthw4bo06cPunTporZ83bp1WLJkCY4cOSJbdkGTmpoKX19ftG3bVvYDmaampoiKilK0uH/w4AGuXr0K4O20j7mN5aIJO3bsQNOmTVG0aFG16VVzI9ff0HelpaXl+H5hFxTKLyzuiQoYJfuItmvXDmFhYTAxMfnoPNty9pvT0tLCvXv3cvwYuHbtGqpWrSrb/Mi///47AgMDMXLkSKkP9JkzZzB79mxMmDAB6enpGD16NDp16oRZs2ZpPH/nzp3o0aNHrs9Pzj7g5ubmeP78OdLT06Gjo5Ojmfbjx49lyc0SGBgIIyMjBAUFyZoDqLfOiI+Px7hx4zBy5Mh8G7ixoDanvH//PpYsWYKpU6ciIyMDzZo1g7+/Pxo0aJAv+flR+GT1PdbR0YGlpaXaay/3mdxmzZpBCIG1a9fCwsICwNuDld27d4eWlhb++OMP2bJr1qyJDh06YPjw4TA2NkZ0dDScnJxw5swZtGvXDn/99Zds2QYGBoiOjs7R5efatWuoVKkSnj9/Llv2uzIyMhATEwMHBwe1gcfyU0xMDFq2bImEhARZc3r27IlKlSph2LBhsubk5tmzZxg8eDBWr14tFbja2trw8fHBzz//rPFB3t79zfQ+co+jcuvWLQwaNAhHjhzBy5cvpeVyjxV0584dqFQqaeySM2fOYN26dXB3d0e/fv1kyaSCjaPlExUwt27dkora/B5F3NTUVPrBK3d/49xkHVBQqVTw9fVVawKfkZGBS5cuoVatWrLlT506FaGhoWjcuLG0zMPDA6VKlUJQUBDOnDkDQ0NDjBgxQpbifvDgwejevTuCgoJkPXP6rnnz5uVbVpbhw4dL1zMzM7FkyRIcPHgQnp6eOYpsTQ4sV6lSpRwHzPz8/KTrcg/c2Lp1a+l9LecI6Z/izJkzWLlyJTZs2ABra2v4+vri77//RosWLTBw4EBZ3uvvMjExQXBwMFq2bClbcR8UFITx48djzJgxHywC5HD06FGcOnVKKuyBty1Wpk+fjtq1a8uaHRMTg3Xr1uVYbm1tLeso3oCyM74MHToUHh4e6N27NzIyMlC3bl2cPHkSBgYG2LVrF7y9vWXNz01KSgpSUlJkz3FxccGkSZMQGRmJKlWq5OhOJ2crleHDh+Po0aPYuXOn9N6OiIiAv78/RowYgUWLFmk0L/sZcrlnGfmQ7t27QwiBFStW5Dogrly6du2Kfv36oUePHrh79y4aNWqEChUqYO3atbh79+4X282J3o9n7om+AM2bN8eyZcvyZUT3d0VGRqJq1aoa6YueNRDPqlWr0LFjR7UzyDo6OnB0dETfvn1RrFixz87Kjb6+Pi5evJhjOq64uDh4eXnhxYsXSEhIgLu7uyxnnIyNjREVFZXvzdOVUL9+/Tytp1KpcOjQIY3lFsaBG9evX49WrVppdLyL+/fvY82aNVi5ciWuX7+Oli1bok+fPmjcuLH0ozQiIgJNmjRBWlqaxnI/JCIiAi1btsSTJ09k2b5S3T8AwMLCArt27cpxcDIyMhItW7aUtXVMqVKlsGnTJtSqVUvtzP22bdsQEBAgjakiByVnfClVqhS2b9+OqlWrYvv27fjhhx9w+PBhrFmzBocOHZJ1etN3B/MTQiApKQlr1qxBvXr1cj3YoklKjjdQrFgxbN68OcfBk8OHD6Njx465TrH7JTAyMsL58+dzTG0qN3Nzc5w6dQply5bF/PnzsXHjRkRGRmL//v0YMGCArP/XVDDxzD3RF+DYsWN48eKFItlNmzZFVFQUnJycPntbWaPoOjo6IiAgIF8G78uuXLlymD59OpYsWQIdHR0Ab/sDT58+XSr4//77b9nOqrdr1w6HDx9WpPjIGnArPj4eoaGhsg64Bbz9oaeEglKwf4r+/fujevXqGvmMZSlVqhScnZ3h5+cHX1/fXPvDenp6olq1ahrLzPKhwqdp06Yaz8vSu3dv/Pbbb/kyz/i7WrRogX79+mH58uVq0x4OGDBA9n7AnTt3RmBgIH777TeoVCpkZmYiMjISAQEB8PHxkTW7WbNmuHbtmtqMLy1btsyXGV8ePnyI4sWLA3h7kKFDhw5wdXWFn58fQkNDZc2eO3eu2m0tLS1YWVmhZ8+eGDNmjKzZQP63+svu+fPnuf6NtLa2zpduGGfPnsXhw4dzHVdDzulFq1Wrhjt37uR7cf/mzRvp5MrBgwel75Ny5cpJs7DQfwvP3BN9AbKfjfkvZWvaiRMn0KpVK2hpaUn9rWNiYpCRkYFdu3ahRo0aWLNmDe7evYuRI0dqPH/q1KmYN28emjdvnmsfcLmaUio54JaS3jf4UtbsCGXKlCkQo03L8Rk7fvw46tSpo7HtfYp3X9OswqdBgwYYM2YMjI2NZcnNyMhAixYt8OLFi1w/X3L+8E9OTkbPnj2xc+dOKTc9PR2tWrVCWFiYrN2gXr9+jR9++AFhYWHIyMhAkSJFkJGRga5duyIsLCxfRutXgoODA5YuXYqGDRuidOnSWLRoEZo3b47Lly/j66+/lq2FyH9dw4YNYWlpidWrV0sDz7548QI9e/bE48ePZZ3vfdq0aRg3bhzKli2bo2m8pluBvSs+Ph4DBgxA9+7dcx0QV64BkKtXr4769eujefPm+Pbbb3Hq1ClUrFgRp06dwnfffSfrmBpUMLG4J/oCfInF/ebNm7Fp0yYkJibi9evXavfJOdDY06dPsXbtWly7dg3A21F+u3btKlvBkZ1STSmVHHALANq2bZtr/8TsRXbXrl01fkbkfQNWZu93//XXX2P79u2KDcAFfFkH0JQ0ZcoUjB8/Pt9/+AshcOfOHVhZWeHvv/+WpsJzc3PL12kY79y5g5iYGKSlpcHLyyvHIHeaUlBmfJk4cSLmzZsHW1tbPH/+HNeuXYOuri5WrFiBpUuX4uTJk7JlZ7UOePfvRtZgcytWrJAtOyv/Q+TM//PPP9G4cWO8evUKFStWBABER0dDT08P+/btk6UlWBYbGxvMmDEDvr6+smW8z6lTp9C1a1e1wRLlHsMFAI4cOYK2bdsiNTUVPXv2lP5vf/zxR8TFxck6+DEVTCzuib4AX1pxP3/+fIwdOxa+vr5YsmQJevXqhfj4eJw9exY//PADpk6dqrGs3Fy5ciXXgwr5NY0OkPtUfHIxMjJCTEwMSpcurfb/mZCQgHLlyqmN/CsHX19fbN++HWZmZqhSpQqAtwdwkpOT8e233yI6OhoJCQkIDw/X6OBj4eHhGDt2LKZOnao2O0JQUBDGjRsHU1NTqUn88uXLNZb7qb60A2hKFT7m5uaYO3duvv/wz8zMhJ6eHi5fvixbQf0hkyZNQkBAQI5Ryl+8eIGffvpJ4wNuKTnjy7s2b96MO3fuoEOHDtJo4qtWrYKZmRlat24tW+77pnPN6iqQnp4uWzbw9oBpdm/evMGff/6J5ORkNGjQQPaC7/nz51i7dq3UFcPNzQ3dunXLMROLptna2uLYsWOKfM7c3d3h5uaGUaNG5TqgnpxdwjIyMpCamqp2EDohIQEGBgY53oP0HyCIqNAzMjIS8fHxX0x22bJlxbp163JsPygoSPzwww8azcouPj5eeHp6CpVKJbS0tKR/sy75YdmyZaJ8+fJCR0dH6OjoiPLly4ulS5fKmlmyZEkRGRkphFB/vbdu3SqcnJxkzRZCiMDAQPH999+LjIwMaVlGRoYYNGiQGDNmjMjMzBT9+vUTtWvX1mhu+fLlpeedXUREhHB3dxdCCHHgwAFhZ2en0dxPJcdnLDQ0VBgZGYlBgwYJHR0d0b9/f9GoUSNhamoqfvzxR41mvUtLS0vcu3cvx/IHDx4IbW1t2XJtbGzEtWvXZNv+h7i7u4uTJ08qkv2+1/vhw4eyfK8lJCSIzMxM6fqHLl+alJQUkZycLFQqlbhx44ZISUmRLo8fPxarVq0Stra2iuxbRkaG6Nevn5gxY4Yi+flhxowZYsiQIYpkGxgYiOvXryuSTZQdB9Qjos8ix5nlxMREaVRpfX19PH36FADQo0cP1KhRAwsWLNB4JgAMGTIEpUuXRnh4OEqXLo3Tp0/j8ePHsk19967x48djzpw5GDx4MGrWrAkAOHnyJIYNG4bExERMmjRJllwlB9wCgOXLlyMyMlJtejItLS0MHjwYtWrVwrRp0zBo0CCN9xGPj4+HiYlJjuUmJiZSFwgXFxfZpwtTwi+//IIlS5agS5cuCAsLw6hRo+Dk5ITx48fLNnJ7amoqhBAQQuDp06dSf1zg7Zmn3bt3y3qWaciQIfj5559zDOiXH6ZPn46RI0di0aJFqFChQr5mi//fLPhd0dHRalPzaUr2M5RZ13NrDaVSqWQf4PLo0aOYNWuW1BXC3d0dI0eOlG28CTMzM6hUKqhUKri6uua4X6VSITg4WJbsj9HS0sLw4cPh7e2NUaNGaXTbO3bsQNOmTVG0aNH3jmWSRc4WcAEBAWjevDmcnZ3h7u6eo9+7nC0WGjRogOjo6HztapNFqVZYVDCxuCcqwI4dO4ZatWqhSBH1j2p6ejpOnDiBunXrAnjbt0qOH2l5IWTo2VO8eHE8fvwYDg4OsLe3lwaIuXXrlix5WU6ePIlDhw6hWLFi0NLSgra2Nr7++muEhITA398fFy9elC0bABYtWoSlS5eiS5cu0rJWrVrB09MTgwcPlq24nzZtGn744QfY2dkhIyMD7u7u0oBb48aNkyUzu/T0dMTFxeX4MRwXFyc129XT09P4gaQqVapg5MiRWL16tTRa/IMHDzBq1ChplPjr16/LPqr3xzg4OOT4kfq5lDiApnThc+bMGRw6dAi7du1C+fLl8/WHv4+PD54/f46KFStCR0cnR/NkOQ6omJubq73e2T8/GRkZSEtLw4ABAzSem93NmzfRtm1bxMTEqDXPz9oXOZvl/+9//0OvXr3Qrl07aTDSyMhINGzYEGFhYejatavGMw8fPgwhBBo0aIAtW7ao/V3W0dGBg4MDSpQoofHcvIqPj5elS0CbNm2krhht2rR573pyd8Xw9/fH4cOHUb9+fVhaWubbXPPA21kghg0bhpiYmFwH7JTroEb2boy///57jm6M9N/D4p6oAKtfv36u/fZSUlJQv3596Y9kfkyt8z5ZRYEmNWjQADt27ICXlxd69eqFYcOGYfPmzTh37hzatWun8bwsGRkZUj/gYsWK4Z9//kHZsmXh4OCAq1evypab5c2bN6hatWqO5VWqVJG1j6aOjg6WLl2KoKAg/Pnnn7IPuPWuHj16oHfv3vjxxx+lovrs2bOYNm2a1HLg6NGjGh+Iafny5WjdujVKlSolFfB37tyBk5MTfv/9dwBAWlpavhzg+JA///xT49tU4gCa0oWPmZmZrN8fHzJv3jxFMoUQ8PPzQ3BwsNqI/Do6OnB0dJRaCMlFydZQU6dOxcyZMzFs2DBpmb+/P+bMmYPJkyfLUtzXq1cPwNup6Ozt7fO1uMxu+PDharfF/59u8o8//kDPnj01npd9yrl3p5/LT6tWrcKWLVvQvHnzfM/OOlCW20F4OQ9qKNEKiwo2DqhHVIBpaWnh3r17OeagvnbtGqpWrYrU1FSN5nl5eeX5x4icTb0yMzORmZkptVjYsGEDTpw4ARcXF/Tv31+ag17T6tSpgxEjRqBNmzbo2rUrnjx5gnHjxmHJkiU4f/68LEVWdoMHD0bRokVzTMkVEBCAFy9eYOHChbLmKyUjIwPTp0/HggULcO/ePQBvRz0ePHgwAgMDoa2tjcTERGhpaUmDYmlKZmYm9u/frzY7wjfffKPWRUAuWYONvY+cZ7j69OkDOzs7TJgwAQsXLsTIkSNRu3Zt6QCanAMI3r59G3Z2dvnyGtPbA2O1atXSeOuPvChWrBgOHToET09PmJqa4syZMyhbtiwOHTqEESNGyNoaSldXF5cvX87RTPrGjRuoUKGCxgcKLSizBABvTwxkl326ST8/vxytAeWWnJwMMzMz2XMcHBywb98+lCtXTvasgsLAwACxsbFwcHCAtbU1Dhw4gIoVK+L69euoUaMGHj16pPQuUj7jmXuiAijr7JJKpYKvry90dXWl+zIyMnDp0iWpSa0mfag5XX7S0tJS++HfuXNndO7cWfbccePG4dmzZwDeHn1v0aIF6tSpA0tLS2zcuFGWzOxnWFQqFZYtW4b9+/ejRo0aAIDTp08jMTFR1r7v757lyb4/WVPRtW7dWrauH9ra2hg7dizGjh0rHbB6ty+8vb29LNlaWlpo0qQJmjRpIsv2P2Tbtm1qt9+8eYOLFy9i1apVsvfLXbJkiXSG7YcffoClpSVOnDiBVq1aoX///rJmZ/Wzfv78ea59ROUufJSSkZGBbdu2qfX/bt26teyFVtbZZAB4+fJljtc7t3EnNEXJ1lB2dnYIDw/PUdwfPHhQlq42lSpVkpqmV6pUSdFZAg4fPizr9j9kxowZcHR0RKdOnQAAHTp0wJYtW2Bra4vdu3dL0+PJYeLEiZgwYQJWrlyZY3aIL5VS3Rip4OKZe6ICqFevXgDeNjHr2LGjWv/MrOaUffv2RbFixZTaRdkdP34cixcvRnx8PDZv3oySJUtizZo1KF26NL7++ut824/Hjx9LfVfl8O4ZlveRcx7u+vXr48KFC8jIyJDmkr927Rq0tbVRrlw5XL16FSqVChEREXB3d5dlH/LL/Pnz0a9fP+jp6X10YLWsfrr5bd26ddi4caPUNeBL8+DBA/Tq1Qt79uzJ9X5NFj4FpTXS5cuX0apVK9y9e1ftM2ZlZYWdO3fKOsje8+fPMWrUKGzatCnXs3hyFppKtoZatGgRhg4dCj8/P+lgeGRkJMLCwhAaGqrxg1i3b9+WmuLfvn37g+vKPZCgkkqXLo21a9eiVq1aOHDgADp27IiNGzdKA77t379ftmwvLy/Ex8dDCAFHR8ccrVXkHlwuvwdwBJRthUUFE4t7ogIsODgYAQEBMDQ0VHpX8tWWLVvQo0cPdOvWDWvWrMGVK1fg5OSEBQsWYPfu3di9e7fSu/hFmTdvHo4fP46VK1dKZ/FSUlLQp08ffP311+jbty+6du2KFy9eYN++fRrJrFy5MsLDw2Fubv7RAkyTP8hKly6Nc+fOwdLSEqVLl37veiqVShoxP7/dvHkTnp6eSEtL0+h2P9ZUODs5z55369YNt2/fxrx58+Dt7Y1t27bh3r17mDJlCmbPnq3R/rLZW0C8fPkSv/zyC9zd3aW+5qdOncLly5cxcOBAhISEaCz3XTVr1oSVlRVWrVolzUX95MkT+Pr64sGDBzhx4oRs2T/88AMOHz6MyZMno0ePHli4cCH+/vtvLF68GNOnT0e3bt1ky963bx+ePXuGdu3a4caNG2jRogWuXbsmtYZq0KCBbNnA29Yxs2fPlootNzc3jBw5UtY57pVSUA5k6evr49q1a7Czs8OQIUPw8uVLLF68GNeuXUP16tXx5MkT2bI/1uJpwoQJsmVnH8Cxdu3aAN4eTNq2bZtsAzgCynVjpIKLxT0R5SojIwNz58597/Qqcg7U4uXlhWHDhsHHxwfGxsaIjo6Gk5MTLl68iKZNm+Lu3buyZf8XlSxZEgcOHMhxVv7y5cv49ttv8ffff+PChQv49ttvNTYtXHBwMEaOHAkDAwNFf5AVNC9evMCYMWOwZ88ejTdbzurj/76p0bKT82yura0tfv/9d3z11VcwMTHBuXPn4Orqih07dmDmzJmIiIiQJbdPnz6wtbXF5MmT1ZZPmDABd+7cwYoVK2TJBd4WPOfOncsxKOSff/6JatWq4cWLF7Jl29vbY/Xq1fD29oaJiQkuXLiAMmXKYM2aNVi/fn2+HyyVuzWUUj42BVx2coyc/ildeeT8Ti1RogQ2b96MWrVqoWzZspgyZQo6dOiAq1evolq1ahofK6igcHNzQ79+/dQGcASAOXPmYOnSpdIBJk1LTEyEnZ1djs+TEAJ37tyRrUsbFWDvTnxPRAXH3bt3Rffu3YWtra3Q1tYWWlpaahc5BQUFCVtbWzFr1iyhp6cnJk+eLHr37i0sLS1FaGiorNn6+vri1q1bQgghjIyMRHx8vBBCiPj4eKGrqytr9n+RoaGhOHz4cI7lhw8fFkZGRkKIt6+9sbFxPu9Z/nj16pWIi4sTb968yddcMzMzYW5uLl3MzMyEtra2MDY2Fr///rvG8xISEqTLtm3bhLOzs/j1119FdHS0iI6OFr/++qtwcXER27Zt03h2dsbGxtLn297eXkRERAghhLh586bQ19eXLdfExERcu3Ytx/Jr164JExMT2XKFEMLT01OEh4fnWB4eHi4qVKgga7ahoaG4ffu2EEKIkiVLitOnTwsh3r7ehoaGsmYXBK9evRJ37twRt2/fVrtomkqlytNF7r/dSvvhhx+Eg4ODaNSokbC0tBRPnz4VQgixfv164eXlJXv+kydPxNKlS8Xo0aPFo0ePhBBCnD9/Xvz111+y5uro6Ijr16/nWH79+nVZf7doaWmJe/fu5Vj+8OHDL/69RrnjgHpEBZivry8SExMRFBQEW1vbfD3TsXbtWixduhTNmzfHxIkT0aVLFzg7O8PT0xOnTp2StT9y8eLFcePGDTg6Oqotj4iIgJOTk2y5/1WtW7eGn58fZs+erTYVXUBAgDTI4pkzZ3Kdm1xTkpOTsXnzZsTHx2PkyJGwsLDAhQsXYGNjg5IlS8qS+fz5cwwePBirVq0C8LYPtJOTEwYPHoySJUti9OjRsuRmmTt3rtpnOmtE6+rVq0tNtzUpez/fDh06YP78+WjWrJm0zNPTE3Z2dggKCpJ1cM2yZcvi6tWrcHR0RMWKFbF48WI4Ojri119/ha2trWy5+vr6iIyMzDHFY2RkJPT09GTLBYCQkBD4+/tj4sSJ0mCZp06dwqRJkzBjxgy1s5maHuDOyclJmpqtXLly2LRpE7766ivs3LkzX0YwV8r169fh5+eXo8uD+P8tVzTdOkXJKeAKkrlz58LR0RF37tzBzJkzYWRkBABISkrCwIEDZc2+dOkSGjVqBFNTUyQkJKBv376wsLDA1q1bkZiYiNWrV8uWnd8DOGYR72mJlZaWJvv3GhVQSh9dIKL3MzIyEhcvXlQk28DAQDq7Ubx4cXH+/HkhxNszuHKf5Zo2bZpwd3cXp06dEsbGxuL48ePif//7n7CyshLz58+XNfu/6OnTp6JPnz5CR0dHahWio6Mj+vbtK9LS0oQQQly8eFG292J0dLSwsrISZcqUEUWKFJFaaowdO1b06NFDlkwhhPD39xdVqlQRx48fF4aGhlLu9u3bRaVKlWTLLQj09PTElStXciy/cuWK0NPTkzV7zZo1YuXKlUIIIc6dOyeKFSsmtLS0hJ6entiwYYNsuSEhIUJPT08MHjxYrFmzRqxZs0YMGjRIGBgYiJCQENlyhRA5ztxqaWnleluOM21z5syRWlsdOHBA6OnpCV1dXaGlpSXmzZun8byColatWqJu3bpi9+7d4uLFiyIqKkrt8qUxNzcXDx48EELkbBX07uVL1bBhQzFy5EghhHqrv8jISOHg4CBr9i+//CJ0dHTEgAEDxOrVq8Xq1atF//79ha6urvj11181njds2DAxbNgwoaWlJfr37y/dHjZsmPD39xfVq1cXtWrV0nguFXw8c09UgNnZ2Sk2lUmpUqWQlJQEe3t7ODs7Y//+/ahcuTLOnj2rNjWfHEaPHo3MzEw0bNgQz58/R926daGrq4uAgAAMHjxY1uz/moyMDFy4cAEzZ87E3LlzpUHknJycpDMuwNtpnuQyfPhw+Pr6YubMmdK0WQDQrFkz2QYhAoDt27dj48aNqFGjhtqZj/LlyyM+Pl623CwrV66EkZEROnTooLb8t99+w/Pnz9GzZ0/Zst3c3BASEoJly5ZJAy69fv0aISEhcHNzky0XALp37y5dr1KlCm7fvo24uDjY29vLOgPI6NGj4eTkhNDQUPzvf/8D8PZ1WLlyJTp27ChbLqDs1GTZ+wA3atQIcXFxOH/+PMqUKfPFTjsIAFFRUTh//ny+zXn+sdk3spOj5dvcuXOl78958+ZpfPt5tWrVKhQrVkwaGHPUqFFYsmQJ3N3dsX79ellnCjh79iwWL16cY3nJkiVlH6vn+++/R/HixTF79mxs2rQJwNvvl40bN8oygOPFixcBvD1zHxMTozZwno6ODipWrIiAgACN51IhoPTRBSJ6v3379olvv/1W6p+anwIDA8XUqVOFEEJs2LBBFClSRJQpU0bo6OiIwMDAfNmHV69eicuXL4vTp09L/fZI83R1dcXNmzcVyzcxMRE3btwQQqifbUlISJC1r6K+vr6UlT03KipK9tYpQgjh4uIiDh06lGP5kSNHhKurq6zZp0+fFtbW1sLKyko0bNhQNGzYUFhZWQlra2upT7ZcgoODxbNnz3Isf/78uQgODpY1u6D7/vvvpbOv9HmqVq0qjh8/nm95jo6OebqULl063/ZJCa6urtL4EidOnBAGBgZi8eLFomXLlqJt27ayZltZWYkLFy4IIdS/0/fv3y9KlSola7ZSfH19RUpKitK7QQUIR8snKsDMzc3x/PlzpKenw8DAIMecrXKOWP+uU6dOSdOrtGzZMt9ySX5Vq1bFjBkz0LBhQ0Xyra2tsW/fPnh5eanNjnDgwAH4+fnhzp07suTWrVsXHTp0wODBg2FsbIxLly6hdOnSGDx4MK5fv469e/fKkptFT08PcXFxOcaWSEhIgJubm6wjqAPAs2fPsHbtWsTFxQF4e5apa9eusk+9qa2tjaSkJFhbW6stf/ToEaytrWUdqb+gMzExQVRU1GePLaL0WWSlZB+74Ny5cxg3bhymTZsGDw+PHH8/NT22QUH18uXLHLPdyPncDQwMpJY4gYGBSEpKwurVq3H58mV4e3vjwYMHsmX36dMHjx49wqZNm2BhYYFLly5BW1sbbdq0Qd26dfOlRcPr169x//79HGMw5Neo9ampqTh06BDKlSuXb61WqGBhs3yiAkzJpnXHjh1DrVq1pLlTa9SogRo1aiA9PR3Hjh1D3bp1NZrXrl27PK+7detWjWb/102ZMgUBAQGYPHkyqlSpkqO4k/tHcKtWrTBp0iSpKaNKpUJiYiICAwPRvn172XKnTZuGpk2b4sqVK0hPT0doaCiuXLmCEydO4OjRo7LlZrG2tsalS5dyFPfR0dGwtLSUPd/Q0BD9+vX74DrNmzfHsmXLNDrQnXjPAFDR0dGwsLDQWM67lJzeM680db5l7ty5eVpPpVJ9UcW9mZmZ2ntLCJHjoKWQaUC93Lx+/Rq3bt2Cs7Oz9Lc0Pzx79gyBgYHYtGkTHj16lON+OZ+7kZERHj16BHt7e+zfvx/Dhw8H8PZgptwHLGfPno3vvvsO1tbWePHiBerVq4e7d++iZs2amDp1qqzZ+T2AY5aOHTuibt26GDRoEF68eIGqVasiISEBQghs2LBB1r+hVDCxuCcqwOTsc/sx9evXz/XsWkpKCurXr6/xP1SmpqbSdSEEtm3bBlNTU1StWhUAcP78eSQnJ3/SQQDKm6wR01u1apXjh3F+/Ah+3w+yGjVqyPqD7Ouvv0Z0dDRCQkLg4eEhjStx8uRJeHh4yJabpUuXLvD394exsbF0sOzo0aMYMmQIOnfuLHt+Xhw7dkxjP8iz5jZXqVRwdXVVe69lZGQgLS0NAwYM0EhWboKDg7Fs2TKMGDEC48aNw9ixY5GQkIDt27dj/PjxsuUq4datW0rvgiKUHNsgO6Vn4hg1ahQOHz6MRYsWoUePHli4cCH+/vtvLF68GNOnT5c1+5tvvkGfPn3g5eWFa9euSX9fLl++nONApqaZmpriwIEDiIyMRHR0NNLS0lC5cmU0atRI9vGLfH19UaRIEezatStfZzc6duwYxo4dCwDYtm0bhBBITk7GqlWrMGXKFBb3/0Fslk9UwMXHx2PlypWIj49HaGgorK2tsWfPHtjb26N8+fKy5WppaeHevXuwsrJSW37t2jVUrVpVrfmjpgUGBuLx48f49ddfoa2tDeDtj/+BAwfCxMQEP/30k2zZ/0UfO0tdr169fNmP3H6QycnHxwf169dH3bp14ezsLGtWbl6/fo0ePXrgt99+k87qZWRkoGfPnli0aJHsA1fmRfZuEp9r1apVEELAz88P8+bNUzugp6OjA0dHR9SsWfOzc97H2dkZ8+fPR/PmzWFsbIyoqChp2alTp7Bu3TrZsvNKk6/3f9mbN2/QpEkT/PrrrzmmPswPQ4YMQWRkJObNm4cmTZrg0qVLcHJywu+//46JEydKg6HJxd7eHqtXr4a3tzdMTExw4cIFlClTBmvWrMH69euxe/du2bKTk5Mxbtw43LlzB99//z2aNGkCAJgwYQJ0dHSkQlQOP/30E0aOHJljeUZGBrp3747169fLlm1oaJivAzhm0dfXx7Vr12BnZwcfHx+UKFEC06dPR2JiItzd3ZGWlpav+0PK45l7ogLs6NGjaNq0KWrXro1jx45h6tSpsLa2RnR0NJYvX47NmzdrPDPrzLhKpYKvr69agZGRkYFLly6hVq1aGs/NbsWKFYiIiJAKe+BtP93hw4ejVq1aLO41LL+K9w8JDw9HeHi41FcxLi5OKrZWrFghS6aOjg5CQkLQp08flChRAvXq1YO3tzfq1auXLwWBjo4ONm7ciClTpiAqKgr6+vrw8PCQdTRpJWW1RCpdujRq166dr82UAeDu3btSiwwjIyOkpKQAAFq0aIGgoKB83Re5DR8+HJMnT4ahoaHULPp95syZk097lX+KFi2KS5cuKZav9Ewcjx8/lg4QmZiYSF1Ovv76a3z//feyZpuZmWHBggU5lgcHB8uaC7wt7i0sLNC7d29pWUZGBjp37ow///xT1mx3d3c8fPhQ1ozc2NnZ4eTJk7CwsMDevXuxYcMGAMCTJ084z/1/FIt7ogJs9OjRmDJlCoYPH642RViDBg1y/eOpCVln04QQMDY2hr6+vnSfjo4OatSogb59+8qSnSU9PR1xcXEoW7as2vK4uLgcg9TQ5zt27NgH79f0+ArvCg4OxqRJk1C1atV8bc64bNkyAMDff/+NY8eO4ejRo5g9ezb69+8PW1tb/PXXXxrP/FjRdejQIen6l1h0AW/PTsfGxkqF9u+//46VK1fC3d0dEydOVJvSSZOUnN4zv128eBFv3ryRrv8Xde/eHcuXL5e9GXpuHjx4kKNLG/C2L3x+fL85OTnh1q1bsLe3R7ly5bBp0yZ89dVX2LlzJ8zMzGTPP378OBYvXoybN2/it99+Q8mSJbFmzRqULl0aX3/9tWy5f/zxB7799luYmpriu+++Q3p6Ojp27Ii4uDhZumxkb8E4Y8YMjBo1Kt8HcBw6dCi6desGIyMjODg4wNvbG8Dbv+v50b2MCh4W90QFWExMTK5NRa2trWU7Qrxy5UoAgKOjIwICAmQfOTs3vXr1Qu/evREfH4+vvvoKAHD69GlMnz4dvXr1yvf9+dJl/RjI7t3+0HL69ddfERYWhh49esia8z7m5uawtLSEubk5zMzMUKRIkRzdUTQlr0VXfh3gUEL//v0xevRoeHh44ObNm+jUqRPatWuH3377Dc+fP5dtING2bdsiPDwc1atXx+DBg6XiLzExUW0ueCV1795dI0VA9kKmoPRDz2/p6elYsWIFDh48mOtAoXIePKtatSr++OMPDB48GMD/fZ6XLVsma9eTLL169UJ0dDTq1auH0aNHo2XLlliwYAHevHkj+0HDLVu2oEePHujWrRsuXLiAV69eAXg7Xs+0adNk7RJQrVo1bNmyBW3atIGOjg6WL1+OGzdu4PDhw7CxsdF4XkEYwHHgwIGoXr06EhMT8c0330BLSwvA2wM8U6ZMkSWTCjb2uScqwEqVKoVNmzahVq1aan0xt23bhoCAgHxp3qeEzMxMzJo1C6GhoUhKSgIA2NraYsiQIRgxYoRac336fFnNk7O8efMGFy9eRFBQEKZOnSr7FHmWlpY4c+ZMvvd7//HHH3HkyBFcvHgRbm5uUrP8unXrwtzcPF/3paCSow+4qakpLly4AGdnZ8yYMQOHDh3Cvn37EBkZic6dO8s29eG78nt6z+TkZJw5cybXabJ8fHxky/Xz80NoaKha6y/g7VnkwYMHy9btRWn169d/730qlUqtlYymRUREoGnTpujevTvCwsLQv39/tZk4qlSpIlt2bm7fvo3z58+jTJky8PT0lDXLy8sLw4YNg4+Pj9r3x8WLF9G0aVPcvXtX1nzgbbeIDh06wM3NDYcOHUKxYsVkyfmUWVUKQvc3+m9gcU9UgAUEBOD06dP47bff4OrqigsXLuDevXvw8fGBj48PJkyYoNG8ypUrIzw8HObm5vDy8vrg2cMLFy5oNPt9spq95XY2KzIyElWrVv3imtQWFEePHsXw4cNx/vx5WXMCAwNhZGSU7/2etbS0YGVlhWHDhqFdu3ZwdXXN1/zCICQkBN9//71Gm/KamJjg/PnzcHFxwTfffIMWLVpgyJAhSExMRNmyZWWfLutj5Jj+b+fOnejWrRvS0tJgYmKi9t2qUqlknYZPW1s715lPHj58iOLFiyM9PV22bKVkZGQgMjISHh4eih2oi4+Px/Tp09UGCQ0MDJStqbSFhQWuXbuGYsWKvfeATn4wMDDAlStX4OjoqFbc37x5E+7u7nj58qVG8943g86pU6dQpkwZtcL+S51G96+//sKOHTtyneLzS+3eRe/HZvlEBdi0adPwww8/wM7ODhkZGXB3d0dGRga6du2KcePGaTyvdevWUqHcpk0bjW//3/hQE9WmTZsiKiqKI0vLxMbGBlevXpVl29n7m2dmZmLJkiU4ePAgPD09c/RVlOvHycWLF3H06FEcOXIEs2fPho6OjnT23tvb+4su9letWoVixYqhefPmAN5OnbVkyRK4u7tj/fr10qB+Y8aM0Xh21apVMWXKFDRq1AhHjx7FokWLALydvk2OprOfSpPT/2UZMWIE/Pz8MG3aNBgYGGh02++TmpoKIQSEEHj69Kna4FoZGRnYvXt3rv3CvwTa2tr49ttvERsbq1hx7+zsjKVLl+Zb3uvXr5GamopixYph1apVmDFjhiLFffHixXHjxo0c095FRETI8rc6+6wb2TVu3FjjWR/z5MkTLF++HLGxsQDeDrLXq1cvWFhYyJYZHh6OVq1awcnJCXFxcahQoYI0z33lypVly6WCi2fuiQqBxMRE/Pnnn0hLS4OXl5ciU/sURJw2SjPeHVVaCIGkpCRMnz4d6enpiIiI0Hjmh5rMZid389nsoqOjMXfuXKxduxaZmZmyjzWgpLJly2LRokVo0KABTp48iUaNGmHu3LnYtWsXihQpIusZrkuXLqFbt25ITEzE8OHDpRZIgwcPxqNHjxSfkk6O7xVDQ0PExMTk63eVlpbWB1tfqVQqBAcHyzo1mZKqVq2KGTNmyN6t6EPu37+fazcMOZrGf/PNN7h37x6qVKmCVatWoVOnTmoD4mYnZ1eMkJAQ/O9//8OKFSvwzTffYPfu3bh9+zaGDRuGoKAgaRyCL82xY8fQsmVLmJqaomrVqgCA8+fPIzk5GTt37pRtYNqvvvoKTZs2RXBwsPTdZW1tjW7duqFJkyayz45ABQ+LeyL6oHPnzqkdhc7vvoIfwuJeM7KKgHf/HNSoUQMrVqzI93l784sQAhcvXsSRI0dw5MgRREREIDU1FZ6enqhXrx7mzp2r9C7KxsDAAHFxcbC3t0dgYCCSkpKwevVqXL58Gd7e3njw4EG+79PLly+hra0ttdxYv349WrVqle+DesrxvdKuXTt07twZHTt21Ng2P+bo0aMQQqBBgwbYsmWL2tlDHR0dODg4oESJEvm2P/lt7969GDNmDCZPnpzrgHpyjV4OvC3qevbsidjY2Bzfq3INrnbv3j3MnTsX8fHx2Lp1Kxo3bvzeLmvbtm3TeH4WIQSmTZuGkJAQPH/+HACgq6uLgIAATJ48WbZcpXl4eKBmzZpYtGiRNC5QRkYGBg4ciBMnTiAmJkaWXGNjY0RFRcHZ2Rnm5uaIiIhA+fLlER0djdatWyMhIUGWXCq4WNwTFTAFZX7iv/76C126dEFkZKTU3zY5ORm1atXChg0bUKpUKdmy84rFvWbcvn1b7XZWX/QvfY5cc3NzpKWloWLFilJz/Dp16uTLVFFKs7a2xr59++Dl5QUvLy8MHz4cPXr0QHx8PCpWrIi0tDSldxEmJiaKdLvR1PfKjh07pOsPHjzApEmT0KtXr1ynyWrVqtVnZX3I7du3YWdnJ42i/V+R/fm+O6K5nKOXA0DFihXh7OyMwMBA2NjY5GhBkdXtRS6lS5fGuXPnYGlpKWvOu7LGOvD09ISBgQFu3LiBtLQ0uLu7w8jISPb80qVLf7C1ys2bN2XL1tfXR1RUVI4pfK9evYpKlSrJNpZI8eLFcfjwYbi5ucHd3R3Tp09Hq1atEB0djdq1axeI73LKX+xzT1TAFJT5ifv06YM3b94gNjZW+mN19epV9OrVC3369MHevXsV2zfSrNx+aCYnJ3/xxf3//vc/1KlTR9YzeAXVN998gz59+sDLywvXrl1Ds2bNAACXL1/O0VdWKYX93ENu45ZMmjQpxzK5C00HBwfFRupXkpJTAN68eRNbtmxBmTJlFMm/detWntbz8PDA7t27YWdnp5Hc7GMdmJmZwd3dXSPbzauhQ4eq3c6a+WXv3r0YOXKkrNmVK1dW+72UJTY2FhUrVpQtt0aNGoiIiICbmxuaNWuGESNGICYmBlu3bkWNGjVky6WCi8U9UQFTUOYnPnr0KE6cOKH2h6ps2bL4+eefUadOHcX2K7sveS7w/DRjxgw4OjqiU6dOAICOHTti8+bNsLW1xe7du2X9YaKkrMHk/osWLlyIcePG4c6dO9iyZYt0hu/8+fPo0qWLwnv3ZXi3iFbKx0bq/1KLeyWnHmvYsCGio6MVK+7zKiEhQTqZoCkVKlTAzZs3Ubp0aY1uNy+GDBmS6/KFCxfi3Llzsmb7+/tjyJAhuHHjhlRUnzp1CgsXLsT06dPVxrbR5JgLc+bMkc7OBwcHIy0tDRs3boSLiwtHyv+PYrN8ogJMyfmJXV1d8b///Q9fffWV2vIzZ86ga9euuHHjhmzZecVm+ZpRunRprF27FrVq1cKBAwfQsWNHbNy4EZs2bUJiYiL279+v9C7Sf5BSn285pv9bvXo1OnXqlKMP9OvXr7FhwwZZC2xXV1c0a9YsX0fqV8qlS5dQoUIFaGlp5Rgo9F1yzvf+8OFD9OzZE1999RUqVKiQr90wPoUcnzElxzp4n5s3b6JSpUrS1Lpy+Fi3l6xxbeRuqUPE4p6oAFNyfuLff/8d06ZNw8KFC6WRX8+dO4fBgwcjMDCwwEyVR59PX18f165dg52dHYYMGYKXL19i8eLFuHbtGqpXr44nT54ovYskg+TkZLVpm8qXLw8/P7/3Ti2V3zRdeOR1+j85vO+7/NGjR7C2tpb1x74SI/UrRUtLC3fv3oW1tfV7BwoF5O8KsXPnTvTo0SPXYrIgFXdyFPdKjnXwPjNnzsQvv/wi6+By745d8yGa/K5xcnLC2bNnc4yvkJycjMqVK8s6zgAVTGyWT1QAFYT5iX19ffH8+XNUr14dRYq8/apIT09HkSJF4OfnBz8/P2ndx48ff3ael5dXnpvZX7hw4bPz6P+Ym5vjzp07sLOzw969ezFlyhQAb3+MFZQfoaRZ586dQ+PGjaGvry+1zpkzZw6mTp2K/fv3f5HzI0+bNg2LFi0CAJw8eRILFy6Upv8bNmyYrNP/ZRU27/rrr79kP5jSuHFjnDt37j9R3N+6dQtWVlbSdaUMHjwY3bt3R1BQEGxsbBTbDyUo2Z3w3d8RQgjcvXsXDx48wC+//CJrttyDJL5PQkJCrn+nX716hb///luBPSKlsbgnKoDMzMygUqmgUqng6uqa4/6s+YnlNG/ePFm3/y62BFBOu3bt0LVrV7i4uODRo0do2rQpgLcDOhb0PqP07wwbNgytWrXC0qVL1Q7e9enTB0OHDsWxY8cU3sO3P5bfbc78Oe7cuSO9n7dv34727dujX79+qF27Nry9vTWWk11WsaFSqdCwYUPptQbeHqi9desWmjRpIkt2lubNm2PkyJG4cuVKvo/Un9+yF1jr1q2DjY2N2oFo4O0c7w8ePEBgYKBs+/Ho0SMMGzbsP1fYA8qOdfDu74ismV+8vb3zZUrXf/75BxEREbkOXOnv76/RrOyzcezbt0/tIGFGRgbCw8MLzOColL/YLJ+oAPqvz09M+evNmzcIDQ3FnTt34OvrCy8vLwDA3LlzYWxsjD59+ii8h6Rp+vr6uHjxYo4fvFeuXEHVqlWl+anl9Pr161x/BNvb28uSp8T0f1kHYYODgzFixAi16cB0dHTg6OiI9u3bQ0dHR+PZWT7UF7ggNRHXNEdHR6xbtw61atVSW3769Gl07txZ1jP7PXv2RJ06dQr8d6dc41o8efJErcuPu7s7evXqpfZb5ksTFhaG/v37Q0dHB5aWljkGrtR08/isz3VuXU+KFi0KR0dHzJ49Gy1atNBoLhV8LO6JCjAl5ye+cOECihYtCg8PDwBv++CvXLkS7u7umDhxoqw/Rqlgat68OZYtWwZbW1uld4U+k42NDdasWYNvv/1Wbfm+ffvg4+ODe/fuyZZ9/fp1+Pn54cSJE2rL5e6T261bN8TFxcHLywvr169HYmIiLC0tsWPHDvz444/4888/ZckF3vb379Sp0xc/vWRBoqenh9jY2Byjtt+8eRPu7u54+fKlbNlTp07FvHnz0Lx581xbS2j6LO6/tW7dOrRu3TrHoHef49ixY2jZsiVMTU2l8XrOnz+P5ORk7Ny5E3Xr1tVYVm7i4+OxcuVKxMfHIzQ0FNbW1tizZw/s7e1Rvnx52XLt7OwwYMAAjBkzJl9/s5UuXRpnz55FsWLF8i2TCjYW90SFwPPnz5GYmIjXr1+rLZdztN9q1aph9OjRaN++vfRjqF27djh79iyaN28ua7P9jIwMzJ07Vxqt/d3nrYk+/vTpODvBl8Pf3x/btm3DrFmzpDObkZGRGDlyJNq3by/r57t27dooUqQIRo8eDVtb2xx90eWaejE5OVma/u/777+XmsNPmDABOjo6GDt2rCy5BcnLly//MwcYXFxcMGHCBHTv3l1t+Zo1azBhwgRZBxr70DRwcpzFfZe/vz/KlCmT4yDCggUL5cw1lgAAQ0FJREFUcOPGDVk/3x4eHqhZsyYWLVoEbW1tAG//pg8cOBAnTpxATEyMbNlHjx5F06ZNUbt2bRw7dgyxsbFwcnLC9OnTce7cOWzevFm2bEtLS5w5cwbOzs6yZXzMf+nzTR8giKjAun//vmjevLnQ0tLK9SInExMTcePGDSGEENOnTxfffvutEEKIiIgIUapUKVmzg4KChK2trZg1a5bQ09MTkydPFr179xaWlpYiNDRU1mx6PyMjIxEfH6/0bpAGvHr1Svj7+wsdHR3p+0RXV1cMHTpUvHz5UtZsAwMDERsbK2tGQZOeni5++uknUa1aNWFjYyPMzc3VLnJnT5o0SZQoUUJoa2tLn+Fx48aJZcuWyZqtpBkzZghLS0uxYsUKkZCQIBISEsTy5cuFpaWlmDZtmtK7J6sSJUqIc+fO5Vh+/vx5UbJkSVmz9fT0RFxcXI7lcXFxQk9PT9bsGjVqiNmzZwsh1P9enT59WvbnPXLkSBESEiJrRm4yMjL+k59vej8OqEdUgA0dOhTJyck4ffo0vL29sW3bNty7dw9TpkzB7NmzZc0WQkh9YQ8ePCj127Kzs8PDhw9lzV67di2WLl2K5s2bY+LEiejSpQucnZ3h6emJU6dOFZgmjUSFlY6ODkJDQxESEoL4+HgAgLOzc77Mg+7u7i77d0iWgjLveXBwMJYtW4YRI0Zg3LhxGDt2LBISErB9+3aMHz9etlzgbRPxVatWYebMmejbt6+0vEKFCpg3bx569+4ta75SRo4ciUePHmHgwIFS6y89PT0EBgZizJgxCu/dWyYmJoiKitJ4a6hHjx7lOguDiYmJ7J+9ypUrIzY2FmXLllVbHhsbK1urnCwxMTFYt25djuXW1tayP++QkBC0aNECe/fuzbUrxpw5c2TJnTJlyn/y800foPTRBSJ6v+LFi4vTp08LIYQwNjYWV69eFUII8fvvv4vatWvLml2/fn3h4+MjVq9eLYoWLSquX78uhBDiyJEjwsHBQdZsAwMDcfv2bSHE29fg/PnzQggh4uPjhYmJiazZ9H48c0+aEB4eLmrWrCkOHz4sHj58KFJSUtQumqRSqcS9e/ek61paWkKlUkmXrNtyt4RycnISu3btEkK8/RxltYoKDQ0VXbp0kTXb2dlZHDx4UMrO+gzHxsYKMzMzWbMLgqdPn4ozZ86ImJgY2VulfCq5vlPLly8vfv755xzL58+fL9zc3DSel92GDRuEvb29+Omnn8Tx48fF8ePHxU8//SQcHR3Fhg0bRHR0tHTRtJIlS4rIyEghhPpru3XrVuHk5KTxvOwmT54sVCqVKFeunKhXr57w9vaWLvXr15ct97/++aaceOaeqAB79uyZNJ+9ubk5Hjx4AFdXV3h4eMg+1/u8efPQrVs3bN++HWPHjpWmkNq8eXOO0Yc1rVSpUkhKSoK9vT2cnZ2lebfPnj0LXV1dWbOJvlTt2rXL87pyzvneqFEjAEDDhg3VlgsZBtQrKPOe3717Vxqc1MjICCkpKQCAFi1aICgoSNbsv//+O9cpLTMzM/HmzRtZswsCIyMjVKtWTendyFfDhw/HoEGD8ODBAzRo0AAAEB4ejtmzZ8s+zW2XLl0AAKNGjcr1vqzR3eUYPLNz584IDAzEb7/9BpVKhczMTERGRiIgIAA+Pj4azXrX7NmzsWLFCvj6+sqa867/+uebcmJxT1SAlS1bFlevXoWjoyMqVqyIxYsXw9HREb/++qvsI5Z7enrmOvDNTz/9JA2SI5e2bdvi/7V373E53///wB9XEZ1L5DQ6oqKQPk6bYxtmk9PGiJLTZlYpzPb1KcrxY6KFOWdlcwwjo0wlpKGDnA8pcsiihIrpcP3+6Nb1c7ka+3x2va9313U97rfbbre8ruu253OH6nq+X6/X85mQkIBu3brB19cX48aNw+bNm5GXl4eAgABBYxNpqtqO6YohKSlJZbFenXv+6teqJuYDSycnJ5w4cULhnz8mJkY29pI0y8SJE/Hnn39i0aJFWLBgAYDq0YBr164VvMgV8yHa4sWLMX36dLRq1QqVlZVwcnJCRUUFPD098e9//1vQ2A0aNMC7774raIza8PubXsdu+UR12E8//YSKigpMmDAB6enpGDRoEAoLC6GnpycbrSS09PR0uVm1rq6ugsd83e+//45Tp06hTZs2GDJkiMrjU7UlS5Zg2rRpMDMzEzsVUpGUlBS4ublpxImZqKgoNG7cGB999BGA6p3FDRs2wMnJCdu3bxe0+P/mm29gYmKC//u//8POnTsxbtw4WFtbyx5YLl26VLDY+/fvh7e3N7799luEhoYiJCQE165dQ3R0NA4ePIgPPvhAsNj0ZqqYQPLw4UPo6+vDyMhIsBh1zZ07d3DhwgWUlJSgc+fOaNOmjeAxlyxZgvz8fERERAge61X8/qbXsbgnUhNSqRTPnz/H1atX0bp1a8FnmhYUFGD06NFITk6WFXPFxcXo168fduzYITvqKoTjx4+jZ8+eqFdP/nBRRUUFTp06JficXG20detWrFu3Drm5uUhNTYWVlRXCw8NhY2ODoUOHip0eiUSohl/FxcXYvHmz7MFh+/btMXHiREFPF7Rr1w5r165F//79kZqaCnd3d4SHh+PgwYOoV6+eoFcRXpeamorU1FSVPbA8ceIEQkNDkZWVhZKSEri6uiI4OBgDBgwQPDb9NaG+v8R27do1rFq1Svb97ejoCF9fX4Ume8oQGBj4t98rVFM7oPrEYWJiIiwsLNC+fXuFhnpC/nzh9ze9isU9UR23efNmrFy5Ejdu3ABQPbt3xowZmDx5sqBxR48ejZycHERHR8PR0REAcPnyZXh7e8Pe3h7bt28XLLauri7y8/Nl/QZqFBYWwtLSUun39LTd2rVrERwcjBkzZmDRokW4ePEibG1t8eOPPyIqKkqlx6ipbhFiZzEtLQ0DBw6Evr4+unbtCgA4e/Ysnj9/LjuuLgQDAwPZw9E5c+YgPz8f0dHRuHTpEvr27YuHDx8KEldskydPxrhx49C3b1+xU6HXKPP7y9XVFQkJCTA3N0fnzp0hkUj+8r1C9uzZs2cPPvvsM7i5uaFHjx4Aqk/fnT17Fjt27MDIkSOVGq9fv35/630SiQSJiYlKjf0qHx+fN76+ZcsWwWITvYp37onqsODgYKxYsQK+vr6yX5KpqakICAhAXl4eQkNDBYsdFxeHo0ePygp7oPpY/po1awR/GlzTbOd1hYWFMDQ0FDS2Nlq1ahU2btyIYcOGyR0PdnNzw6xZs0TMjDRRQEAAPDw8sHHjRtnpnIqKCkyePBkzZszA8ePHBYlrZGSEwsJCtG7dGkeOHJHt+DVs2BDPnz8XJOarxDod8/DhQwwaNAhNmjTBmDFj4OnpKfhIMpJXWVmJCxcuwMrKCubm5rL1w4cPo2XLlkqJMXToUNn1maFDh76xuBfS119/LTsi/qp58+bh66+/VnpxX1cePteF4r2kpEQ2wriGiYmJSNmQaMRq009Eb9e4cWPptm3bFNa3bdsmtbCwEDS2kZGRNDMzU2E9IyNDamxsLEjM4cOHS4cPHy7V0dGRDh48WPbn4cOHSz08PKTW1tbSgQMHChJbmzVs2FB669YtqVQqP0rn+vXr0oYNG4qZGolMiFFdDRs2lF65ckVh/dKlS1J9fX2lxnrV2LFjpa6urtJJkyZJDQwMpI8ePZJKpdWjRdu3by9YXKlUKv3hhx+kjRs3li5cuFCqr68v+3e6ZcsWad++fQWNLZVKpUVFRdL169dL+/TpI9XR0ZE6OTlJFy1aJM3NzRU8tjby9/eXbtq0SSqVSqUVFRXSd999VyqRSKSGhobSpKQkcZMTmL6+vmx07quuX78u6Pe32IKDg2W/R1UpJydHOnjwYKmBgYFUR0dH9pcqRnxS3aQj9sMFIvpr5eXlcHNzU1jv0qULKioqBI3dv39/+Pv74/79+7K1e/fuISAgQGGElbKYmprC1NQUUqkUxsbGsj+bmpqiWbNmmDp1Kn766SdBYmszGxsbnDt3TmE9Li5O7uQGkTKYmJggLy9PYf3OnTswNjYWLO6aNWvQo0cPPHz4EHv27IGFhQWA6qahNeO7hFJzOmbu3Lly00bc3NxqnUqibObm5pg6dSqOHTuG27dvY8KECdi6dWutI7Ton4uJiZGdjoiNjUVubi6uXr2KgIAAzJ07V/D4tra2KCwsVFgvLi4W/H5/3759ceLECYX1kydPolevXoLGFtP+/fthZ2cHd3d3bNu2DX/++adK4o4bNw6PHz9GZGQkEhISkJiYiMTERCQlJQl6DYHqLh7LJ6rDxo8fj7Vr1yo0gdmwYQM8PT0Fjb169Wp4eHjA2toarVq1AgDk5eXB2dlZsAK75libtbU1Zs2axSP4KhIYGIjp06fjxYsXkEqlOHPmDLZv344lS5Zg06ZNYqdHIhLiaO/o0aMxadIkLF++HD179gRQ3ZV/9uzZghbZZmZmWL16tcJ6SEiIYDFr5Obm1jqWqkGDBigtLRU8fo3y8nKkpaXh9OnTuHXrFpo2baqy2Nrk0aNHaNasGQDg0KFD+PTTT9G2bVtMnDgR33//veDxb926VWtvmj///BN3794VNLaHhwfmzJmD9PR0dO/eHUD1nfvdu3cjJCQEBw4ckHuvpjh37hwyMzOxZcsW+Pv7Y/r06fjss88wceJE/Otf/xIsblZWFtLT0wVpVkjqicU9UR23efNmHDlyRPZL8vTp08jLy4OXl5dcl1hld4Ft1aoVMjIykJCQINfx9v3331dqnNrMmzdP8Bj0/02ePBn6+vr497//jbKyMowdOxYtWrTA999/j88++0zs9EhEUgF67i5fvhwSiQReXl6yE0j169fHtGnTBB0JB4jTpR/4/6djXh+3p6rTMUlJSdi2bRv27NmDqqoqjBgxAgcPHkT//v0Fj62NmjZtisuXL6N58+aIi4vD2rVrAQBlZWVyJzeU7dXCOT4+Xu7/68rKSiQkJMDGxkaw+ADw5ZdfAgB++OEH/PDDD7W+BlQ/ONS05ridO3dG586dERYWhtjYWGzZsgXvvvsuHBwcMGnSJEyYMEHpP2v+9a9/4c6dOyzuSYbd8onqMLG7wCYkJCAhIQEFBQUKTVoiIyOVGquudPrVdmVlZSgpKVGYVECkbGVlZbh58yYAwM7ODgYGBoLGE6tLPwBs2rQJ8+fPR1hYGCZNmoRNmzbh5s2bstMxQj5Ea9myJYqKijBo0CB4enpiyJAhssZrJIz58+cjPDwczZs3R1lZGa5fv44GDRogMjISGzduRGpqqiBxdXSqb9tKJBKFB3P169eHtbU1wsLC8PHHHwsSn6q9fPkS+/btQ2RkJBITE9GzZ0/cv38ff/zxBzZu3IjRo0crLdbNmzfxxRdfYNy4cejQoYPCCD4XFxelxSL1wOKeiGoVEhKC0NBQuLm5oXnz5grF9r59+5Qeb/bs2TAwMHjrMVnu7CvXwoUL4enpKfiODtUdNjY2b3yAlpOTo8JsVKNXr16wt7evtUt/Tk6OYF36a/z888+YP3++7IFGixYtEBISgkmTJgkad+PGjfj0009hZmYmaBySFxMTgzt37uDTTz/FO++8AwCIioqCmZmZoNMRgOrv77Nnz6Jx48aCxiF56enp2LJlC7Zv344GDRrAy8sLkydPlvW2WLVqFRYuXIg//vhDaTF///13jB07Frdu3ZKt1Tzc0cTTEfR2LO6JqFbNmzfHsmXLMH78eLFTIYF17NgRFy9eRLdu3TBu3DiMGjWKHwo13Ov3fsvLy5GZmYm4uDjMnj0b33zzjVLjjRgxAj/++CNMTEwwYsSIN7537969So1dQ19fH5mZmXBwcJBbv3z5Mtzc3FBWViZI3NfxdIx2efHiBRo2bCh2GirzthG9wcHBKspEtZydnXHlyhUMHDgQU6ZMwZAhQxSuYDx69AiWlpYKJyH/CScnJzg6OuLrr79G06ZNFR7avn4ViDQf79wTUa1evnwpa3YllrS0NNndWCcnJ3Tp0kXUfDRVVlYWLl26hJ9//hnLly/HjBkz8MEHH8DT0xPDhg0T/Lg0qZ6/v3+t62vWrEFaWprS45mamso+dAp9v/2v1HTpf724F7pL/+sMDAz4PaXhKisrsXjxYqxbtw5//PEHrl+/DltbWwQFBcHa2lrw0xoAUFpaiuTkZOTl5eHly5dyr/n5+QkW9/VTfeXl5cjNzUW9evVgZ2enscX9qFGjMHHiRLRs2fIv39O4cWOlFvYAcPv2bRw4cICTL0iGO/dEVKs5c+bAyMgIQUFBKo999+5djBkzBikpKbKjpMXFxejZsyd27NghO+JIwkhJScG2bduwe/duvHjxAk+fPhU7JVKRnJwcdOrUSSP/m/v5+WHfvn21dukfOXIkwsPDlRrvbb1DXsU+IpolNDQUUVFRCA0NxZQpU3Dx4kXY2tpi586dCA8PF+zOfY3MzEwMHjwYZWVlKC0tRaNGjfDo0SMYGBjA0tJS5ddunj59igkTJmD48OEadRrw1abGb6Pspsc1hgwZggkTJmDkyJGC/P1J/XDnnohkXv1FVVVVhQ0bNuDo0aNwcXFRaNIi1C8qoLp7e3l5Oa5cuSLrAHvt2jX4+Phg8uTJiIuLEyw2AYaGhtDX14eenh6ePXsmdjqkQjExMWjUqJGgMZ4/fw6pVCrbvb59+zb27dsHJycnDBgwQLC4qu7SP2zYMNnXL168wA8//AAnJyf06NEDQPVd2UuXLsl1ECfNEB0djQ0bNsDd3R1ffPGFbL1jx464evWq4PEDAgIwZMgQrFu3Dqampvj9999Rv359jBs37i9P7QjJxMQEISEhGDJkiEYV95mZmX/rfUKMFK0xZMgQBAQE4MKFC3B2dlb4rKZJ4wbp7+HOPRHJiN2dv4a+vj5OnTqlMBc6PT0dvXr1UtndWG2Sm5uLbdu2Ydu2bbh27Rr69OmDsWPH4pNPPhHtGDUJ5/VdZalUigcPHuDhw4f44YcfMHXqVMFiDxgwACNGjMAXX3yB4uJitGvXDnp6enj06BFWrFiBadOmCRYbUH2XfqD6gWXz5s2xYMECufV58+bhzp07Sp8+QuLS19fH1atXYWVlBWNjY2RlZcHW1haXL19G165dUVJSImh8MzMznD59Gu3atYOZmRlSU1Ph6OiI06dPw9vbWyUPGF538uRJDBkyBI8fP1Z5bE1WMyGhNmyop524c09EMklJSWKnAABo1aoVysvLFdYrKyvRokULETLSbN27d8fZs2fh4uICHx8fjBkz5o33Bkn9vbqrDFR/QGzSpAn69u2rcCdd2TIyMrBy5UoA1ScFmjVrhszMTOzZswfBwcGCF/cGBgZwdnYWNMbrdu/eXWsvg3HjxsHNzY3FvYZxcnLCiRMnFJqZxcTEKDy0FkL9+vVlRZ+lpSXy8vLg6OgIU1NT3LlzR9DYERERcn+WSqXIz8/H1q1b8eGHHwoaWxsp+w4/qT8W90RU53z33Xfw9fXFmjVr4ObmBqC6uZ6/vz+WL18ucnaax93dHZGRkXBychI7FVIRMcdJlpWVyRrYHTlyBCNGjICOjg66d++O27dvCxa3tLQUS5cuRUJCAgoKChQ+FAt5D1lfXx8pKSlo06aN3HpKSopWdVLXFsHBwfD29sa9e/dQVVWFvXv34tq1a4iOjsbBgwcFj9+5c2ecPXsWbdq0QZ8+fRAcHIxHjx5h69at6NChg6Cxax7c1ah5cOjt7Y1vv/1W0Nj015ydnXHo0CG0atVK7FRIYDyWT0R1jrm5OcrKylBRUSE3j7pevXowNDSUe29RUZEYKRKptUOHDkFXVxcDBw6UW4+Pj0dVVZWgO2wuLi6YPHkyhg8fjg4dOiAuLg49evRAeno6PvroIzx48ECQuGPGjEFycjLGjx+P5s2bK9yDFfIu8tKlSxESEoIpU6aga9euAIDTp08jMjISQUFBSh89SOI7ceIEQkNDkZWVhZKSEri6uiI4OFjQvhI10tLS8OzZM/Tr1w8FBQXw8vLCqVOn0KZNG0RGRqJjx46C50B1y6vXQ0izsbgnojonKirqb7/X29tbwEw0V2BgIBYsWABDQ8O3dvwVsnkiicPFxQVLly7F4MGD5dbj4uIwZ84cZGVlCRY7JiYGY8eORWVlJdzd3XHkyBEAwJIlS3D8+HEcPnxYkLhmZmb49ddf8e677wry93+bXbt24fvvv5eN93R0dIS/vz9GjRolSj5EqvD06VMkJiaiXbt2cHR0FDsdrcXiXnuwuCci0kL9+vXDvn37YGZm9tZGinWlFwMpj76+Pq5cuQJra2u59Vu3bqF9+/YoLS0VNP6DBw+Qn5+Pjh07yu4GnzlzBiYmJoLd+bexscGhQ4fqdIGxfft2eHh4KJxQIvVia2uLs2fPwsLCQm69uLgYrq6uKhtFV1BQgGvXrgEAHBwc0KRJE8Fjjho1Cr1798ZXX32F58+fo2PHjrh16xakUil27NjBkW0iYXGvPXjnnojqnIyMDNSvX1/W9Gr//v3YsmULnJycMH/+fOjp6Ymcofp7tWBn8a59TE1NkZOTo1DcZ2dnq6SwbNasGZo1awZAfmdPyGZ+CxYsQHBwMKKiolTSIf9/8fnnn6Nbt278AK7mbt26VWuX8j///BP37t0TPP6zZ8/w5ZdfYseOHbI8dHV1MXr0aKxZs0bQCSjHjx/H3LlzAQD79u2DVCpFcXExoqKisHDhQhb3RAL76/kJREQi+fzzz3H9+nUA1U2uRo8eDQMDA+zevRtff/21yNlpnokTJ9Y6z760tBQTJ04UISMS2tChQzFjxgzZSDigurCfOXOm4HORR40ahdWrVwOonnnv5uaGUaNGwcXFBXv27BEsblhYGOLj49G0aVM4OzvD1dVV7q+6gIcp1duBAwdw4MABANX9K2r+fODAAezbtw8LFixQeKAmhMmTJ+P06dM4ePAgiouLUVxcjIMHDyItLQ2ff/65oLGfPHmCRo0aAai+5jNy5EgYGBjgo48+wo0bNwSNTUQ8lk9EdZCpqSkyMjJgZ2eH//znP0hMTER8fDxSUlLw2WefCT7KR9vo6uoiPz8flpaWcuuPHj1Cs2bNUFFRIVJmJJQnT55g0KBBSEtLwzvvvAMAuHv3Lnr16oW9e/fCzMxMsNjNmjVDfHw8OnbsiG3btmHevHnIyspCVFQUNmzYgMzMTEHihoSEvPF1MScI1ODRWfVWc8VEIpEoPKipX78+rK2tERYWho8//ljQPAwNDREfH4/33ntPbv3EiRMYNGiQoNdu2rZti4ULF+Kjjz6CjY0NduzYgf79+yMrKwvu7u549OiRYLHpr/Fni/bgsXwiqnOkUqlsTNXRo0dlH4RatWrFDwZK9PTpU0ilUkilUjx79kxuJFdlZSUOHTqkUPCTZjA1NcWpU6fw22+/ISsrC/r6+nBxcUHv3r0Fj/2mnb3Zs2cLFrcuFO+k2Wp+b9nY2ODs2bNo3LixKHlYWFjUevTe1NQU5ubmgsaeMWMGPD09YWRkBCsrK/Tt2xdA9XH9mqt2pHrr169H06ZNxU6DVIDFPRHVOW5ubli4cCHef/99JCcnY+3atQCA3Nxc/nJSIjMzM0gkEkgkErRt21bhdYlE8tbdTlJfEokEAwYMUMlorle1atUKqampaNSoEeLi4rBjxw4AwOPHjznznTRCbm6u7OsXL16o/P/rf//73wgMDMTWrVtlvS0ePHiA2bNnIygoSNDYX375Jbp27Yo7d+7ggw8+kJ1msLW1xcKFCwWNra0SEhKQkJCAgoIC2QOmGpGRkQCAsWPHipEaiYDFPRHVOeHh4fD09MQvv/yCuXPnwt7eHkD1CK2ePXuKnJ3mSEpKglQqRf/+/bFnzx7ZbioA6OnpwcrKCi1atBAxQ1KmiIgITJ06FQ0bNkRERMQb3+vn5ydYHmLt7JmbmyvMtgeqH3I0bNgQ9vb2mDBhAnx8fATLgbRDVVUVFi1ahHXr1uGPP/7A9evXYWtri6CgIFhbW2PSpEmCxl+7di2ys7PRunVrtG7dGgCQl5eHBg0a4OHDh1i/fr3svRkZGUqP7+bmBjc3N9nJMIlEgo8++kjpcaj6ulFoaCjc3NzQvHnzWn/GkXbhnXsiUhsvXryArq4u6tevL3YqGuX27dto3bo1PxRoOBsbG6SlpcHCwgI2NjZ/+T6JRCL4qK60tDTZzp6RkREA4Ndff4WZmZlgc+hXrlyJRYsW4cMPP0TXrl0BVI/fi4uLQ0BAAHJzc7F161asWrUKU6ZMESSHt+nQoQMOHz6MVq1aiRKflCM0NBRRUVEIDQ3FlClTcPHiRdja2mLnzp0IDw9HamqqoPH/mxNXQlxXiY6OxnfffSdroNe2bVvMnj0b48ePV3osbde8eXMsW7aM/25JhsU9EdVZ6enpuHLlCgDAycmpznS01jRbtmyBkZERPv30U7n13bt3o6ysDN7e3iJlRqQ8I0eOxAcffIAvvvhCbn39+vU4cuQI9uzZg1WrVmHDhg24cOGCSFmSJrC3t8f69evh7u4u18js6tWr6NGjBx4/fix2ioJZsWIFgoKC8NVXX8ke1J08eRJr1qzBwoULERAQIHKGmsXCwgJnzpyBnZ2d2KlQHcHinojqnIKCAowePRrJycmyrt3FxcXo168fduzYgSZNmoiboIZp27Yt1q9fj379+smtJycnY+rUqbh27ZpImZHYTExMcO7cuX/cYTkwMBALFiyAoaEhAgMD3/jeFStW/KNYf8XIyAjnzp2TXfOpkZ2djU6dOqGkpAQ3b96Ei4uL0ruJ6+jovPFkTG0z0Ul96evr4+rVq7CyspIr7i9fvoyuXbuipKRE8ByKi4sRExODmzdvYvbs2WjUqBEyMjLQtGlTtGzZUrC4NjY2CAkJgZeXl9x6VFQU5s+fL9ePgP65OXPmwMjISPBeCqQ+eOeeiOocX19flJSU4NKlS3B0dAQAXL58Gd7e3vDz88P27dtFzlCz5OXl1XpM28rKCnl5eSJkRHWFsp7/Z2Zmory8XPb1XxHyakijRo0QGxursHMYGxsr6zdRWloKY2Njpcfet2+f3J/Ly8uRmZmJqKgoNq3UQE5OTjhx4gSsrKzk1mNiYtC5c2fB458/fx7vv/8+TE1NcevWLUyZMgWNGjXC3r17kZeXh+joaMFi5+fn19obp2fPnsjPzxcsrjZ59QFpVVUVNmzYgKNHj8LFxUXh2qJQD0up7mJxT0R1TlxcHI4ePSor7IHqD0tr1qxReWdvbWBpaYnz58/D2tpabj0rKwsWFhbiJEUaJSkpqdavVSkoKAjTpk1DUlKS7M792bNncejQIaxbtw4A8Ntvv6FPnz5Kjz106FCFtU8++QTt27fHzp07BW+wRqoVHBwMb29v3Lt3D1VVVdi7dy+uXbuG6OhoHDx4UPD4gYGBmDBhApYtWyb3sGrw4MGCd023t7fHrl278H//939y6zt37kSbNm0Eja0tXn9A2qlTJwDAxYsXRciG6hoW90RU51RVVdXaNK9+/foKY17onxszZgz8/PxgbGwsm3OenJwMf39/fPbZZyJnR6QcU6ZMgZOTE1avXo29e/cCANq1a4fk5GTZTuPMmTNVmlP37t0xdepUlcYk4Q0dOhSxsbEIDQ2FoaEhgoOD4erqitjYWHzwwQeCxz979qxcR/waLVu2xIMHDwSNHRISgtGjR+P48eOyO/cpKSlISEjArl27BI2tLcR6QErqgcU9EdU5/fv3h7+/P7Zv3y4bxXbv3j0EBATA3d1d5Ow0z4IFC3Dr1i24u7ujXr3qXwtVVVXw8vLC4sWLRc6ONM2LFy+watUqJCUl1TqXWYjRXDXeffddwbrx/7eeP3+OiIgIQe8/k3h69eqF3377TZTYDRo0wNOnTxXWr1+/LnjPmpEjR+L06dNYuXIlfvnlFwCAo6Mjzpw5o5IrCdpm4sSJ+P777xWuE5WWlsLX11c25560BxvqEVGdc+fOHXh4eODSpUuykVB5eXlwdnbGgQMH8M4774icoWa6fv06srKyoK+vD2dnZ4X7oqR9lNVQ71Wenp44cuQIPvnkEzRt2lThnr0Qo7le9+LFC7x8+VJuzcTERLB45ubmcv+cUqkUz549g4GBAX766Sd4eHgIFpvEk5aWJjfxpUuXLiqJO3nyZBQWFmLXrl1o1KgRzp8/D11dXQwbNgy9e/dGeHi4SvIg4enq6iI/Px+WlpZy648ePUKzZs1QUVEhUmYkFhb3RFQnSaVSJCQkyD4YOTo64v333xc5K8328uVL5Obmws7OTraDT9rt1U7fymJqaopDhw6pfAe9rKwMX3/9NXbt2oXCwkKF14XsWP/jjz/KFfc6Ojpo0qQJunXrBnNzc8Hikjju3r2LMWPGICUlRW7iS8+ePbFjxw7BH1A/efIEn3zyCdLS0vDs2TO0aNECDx48QPfu3XH48GEYGhoKGr+qqgrZ2dm1nsypufpF/8zTp08hlUphbm6OGzduyJ3IqKysRGxsLL755hvcv39fxCxJDCzuiahOSkhIQEJCQq0fDnjMTLnKysrg6+uLqKgoANU7+La2tvD19UXLli3xzTffiJwhCeVtD3ROnjyJf/3rX2jQoIHSYjo5OWHHjh1wcXFR2t/z75g+fTqSkpKwYMECjB8/HmvWrMG9e/ewfv16LF26FJ6enirNhzTXoEGDUFxcjKioKLRr1w4AcO3aNfj4+MDExARxcXEqySMlJQVZWVkoKSmBq6urSh6Q//777xg7dixu376tMG1DIpFw7KOSvG28pkQiQUhICObOnavCrKguYHFPRHVOSEgIQkND4ebmhubNmyv8Ant9rBT9M/7+/khJSUF4eDgGDRqE8+fPw9bWFvv378f8+fPfOLqM1JOYD3QOHz6MiIgIrFu3TqVXP1q3bo3o6Gj07dsXJiYmyMjIgL29PbZu3Yrt27fj0KFDgsXesmULjIyM8Omnn8qt7969G2VlZfD29hYsNqmevr4+Tp06pXDHPD09Hb169UJZWZngOYj1gLxTp05o27YtQkJCav39bWpqKlhsbZKcnAypVIr+/ftjz549snGeAKCnpwcrKytZzyLSLjx3SUR1zrp16/Djjz9i/PjxYqeiFX755Rfs3LkT3bt3l/sg1r59e9y8eVPEzEgo3377LbKysnDs2DEMGjRItv7+++9j/vz5ghb3bm5uePHiBWxtbWFgYKAwGaOoqEiQuEVFRbLrBSYmJrI47733HqZNmyZIzBpLliyptXu5paUlpk6dyuJew7Rq1Qrl5eUK65WVlSopuN72gFxIN27cQExMDOzt7VUWUxvVjOzMzc1F69atVfrfmOo2FvdEVOe8fPlSNpqKhPfw4UOFZjxAdbddfmDQTGI+0BkzZgzu3buHxYsX19pQTyi2trayD8IODg7YtWsXunbtitjYWNm9aKHk5eXBxsZGYd3Kygp5eXmCxibV++677+Dr64s1a9bAzc0NQHVzPX9/fyxfvlzw+GI+IO/WrRuys7NZ3Avo/Pnz6NChA3R0dPDkyRNcuHDhL9+r6utPJD4W90RU50yePBnbtm1DUFCQ2KloBTc3N/z666/w9fUFAFmxtWnTJvTo0UPM1EggYj7QOXXqFFJTU9GxY0dB47zOx8cHWVlZ6NOnD7755hsMGTIEq1evRnl5OVasWCFobEtLS5w/fx7W1tZy61lZWbCwsBA0NqnG6xMRSktL0a1bN1kvi4qKCtSrVw8TJ07EsGHDBM1FzAfkvr6+mDlzJh48eABnZ2eFkzksNv+5Tp064cGDB7C0tESnTp0gkUgU+hsA7HGgrVjcE1GdEBgYKPu6qqoKGzZswNGjR+Hi4qLw4UDoD+LaZvHixfjwww9x+fJlVFRU4Pvvv8fly5dx6tQpJCcni50eCUDMBzoODg54/vy5oDFqExAQIPv6/fffx9WrV5Geng57e3vBC44xY8bAz88PxsbGsm7hycnJ8Pf3x2effSZobFKNujReTswH5CNHjgRQPX+9Rk3xyWJTOXJzc2Xd8XNzc0XOhuoaNtQjojqhX79+f+t9EokEiYmJAmejfW7evImlS5fKdVaeM2cOnJ2dxU6NBHDy5El8+OGHGDduHH788Ud8/vnncg90hJzHfeTIEYSEhGDRokW17uwJOW9eLC9fvsT48eOxe/du2U5uVVUVvLy8sG7dOujp6YmcIam71x+QR0VFwcXFReUPyG/fvv3G11XZRJNIG7G4JyIi0kI5OTlYsmSJyh/o6OjoAIDC8X8hdvYiIiIwdepUNGzYEBEREW98r5+fn9Li/pXr168jKysL+vr6cHZ2ZqGjBV68eIGXL1/KrQnxAIsPyLVT69at0bdvX/Tp0wd9+/aFnZ2d2CmRyFjcExFpoadPn/7t92riTqo2Ky8vx+eff46goKBam7wJ7W1XPWq6QCuDjY0N0tLSYGFh8cZ/VolEgpycHKXFJe1WWlqKOXPmYNeuXSgsLFR4XZOPpkdHR7/xdS8vLxVloh1++uknHD9+HMeOHUN2djZatmyJPn36yIr9Nm3aiJ0iqRiLeyIiLaSjo/PWxmm8I6m5TE1Nce7cOVGKe20RGBiIBQsWwNDQUO7IdG3YR0SzTJ8+HUlJSViwYAHGjx+PNWvW4N69e1i/fj2WLl0KT09PsVMUjLm5udyfy8vLUVZWBj09PRgYGAg26pKA/Px8JCcn4+DBg9i5cyeqqqr4+1sLsaEeEZEWSkpKEjsFEtGwYcPwyy+/yDWZE9L58+f/9nuV2dzubUV1DYlEgrCwMKXFBYDMzEzZrPPMzMw3xibNEhsbi+joaPTt2xc+Pj7o1asX7O3tYWVlhZ9//lmji/vHjx8rrN24cQPTpk3D7NmzRchI85WVleHkyZM4duwYkpKSkJmZiQ4dOqBv375ip0Yi4M49ERHhxIkTWL9+PW7evImYmBi0bNkSW7duhY2NDd577z2x0yMlW7hwIcLCwuDu7o4uXbrA0NBQ7nVl3z+vOSlScxrkTZS50/T6PeSMjAxUVFSgXbt2AKrvwOvq6qJLly514h7y3bt30aJFC1lfAlJPRkZGuHz5Mlq3bo133nkHe/fuRdeuXZGbmwtnZ2eUlJSInaLKpaWlYdy4cbh69arYqWiUnj17IjMzE46OjrK7971791Y4QUHagzv3RERabs+ePRg/fjw8PT2RmZmJP//8EwDw5MkTLF68GIcOHRI5Q1K2zZs3w8zMDOnp6UhPT5d7TSKRKL24f3VcU2ZmJmbNmoXZs2fLxu6lpqYiLCwMy5YtU2rcV0+orFixAsbGxoiKipJ98H38+LFsZ7UucHJywrlz52Brayt2KvQP2NraIjc3F61bt4aDgwN27dqFrl27IjY2FmZmZmKnJ4p69erh/v37Yqehca5evQpDQ0M4ODjAwcEBjo6OLOy1HHfuiYi0XOfOnREQEAAvLy8YGxsjKysLtra2yMzMxIcffogHDx6InSIJqOZjgKqOh3ft2hXz58/H4MGD5dYPHTqEoKAghYcNytKyZUscOXIE7du3l1u/ePEiBgwYUCcKj1e//0h9rVy5Erq6uvDz88PRo0cxZMgQSKVSlJeXY8WKFfD39xc7RcEcOHBA7s9SqRT5+flYvXo1WrVqhcOHD4uUmWaSSqW4cOECjh07huTkZBw/fhx6enro06cP+vXrhylTpoidIqkYi3siIi1nYGCAy5cvw9raWq64yMnJgZOTE168eCF2iiSAzZs3Y+XKlbhx4wYAoE2bNpgxYwYmT54saFx9fX1kZGTA0dFRbv3KlStwdXXF8+fPBYlrbGyM2NhYhXuoSUlJ8PDwwLNnzwSJ+99gca+Zbt++jfT0dNjb2yu1p0Rd9PqVEolEgiZNmqB///4ICwtD8+bNRcpM80mlUqSnp2P16tX4+eef2VBPS/FYPhGRlmvWrBmys7NhbW0tt37y5EkWGRoqODgYK1asgK+vr9zR+ICAAOTl5SE0NFSw2I6OjliyZAk2bdoEPT09AMDLly+xZMkShYJfmYYPHw4fHx+EhYWha9euAIDTp09j9uzZGDFihGBxiaysrGBlZSV2GipRVVUldgpaJSMjA8eOHcOxY8dw8uRJPHv2DM7OzvD19VXqWFFSH9y5JyLSckuWLMFPP/2EyMhIfPDBBzh06BBu376NgIAABAUFwdfXV+wUScmaNGmCiIgIjBkzRm59+/bt8PX1xaNHjwSLfebMGdkx5ZpdzPPnz0MikSA2NlZWeCtbWVkZZs2ahcjISFkX+3r16mHSpEn47rvvFJoKioE79+orIiICU6dORcOGDREREfHG9yq7pwVpr3r16qFz586y2fa9e/eGqamp2GmRiFjcExFpOalUisWLF2PJkiUoKysDADRo0ACzZs3CggULRM6OhGBmZoazZ8+iTZs2cuvXr19H165dUVxcLGj80tJS/Pzzz7LO2Y6Ojhg7dqxKCuzS0lLcvHkTAGBnZ1cnivoaJiYmbKinpmxsbJCWlgYLCwvY2Nj85fskEglycnJUmJlqSaVSxMTEICkpCQUFBQo7+Xv37hUpM8309OlTmJiYvPV927dvh4eHR536eUfCYHFPREQAqo9GZ2dno6SkBE5OTjAyMhI7JRKIr68v6tevjxUrVsitz5o1C8+fP8eaNWtEyky7ceee1J2/vz/Wr1+Pfv36oWnTpgqNOrds2SJSZtqNDw61B4t7IiIiLePr64vo6Gi0atUK3bt3B1B9/zwvLw9eXl6oX7++7L2vPwBQlsuXLyMvLw8vX76UW/fw8BAkXl2QnZ2Nmzdvonfv3tDX14dUKpUrfu7cuYMWLVpAV1dXxCzpfxEYGPi33ieRSBAWFiZwNuJp1KgRfvrpJ4VpGCQuPjjUHmyoR0REpGUuXrwIV1dXAJAdUW/cuDEaN26Mixcvyt4nxHi8nJwcDB8+HBcuXIBEIlEYxaeJ3Z0LCwsxevRoJCYmQiKR4MaNG7C1tcWkSZNgbm4uK/ZatWolcqb0v8rMzJT7c0ZGBioqKtCuXTsA1VdedHV10aVLFzHSUxlTU1MWkEQiYnFPRESkZZKSkkSL7e/vDxsbGyQkJMDGxgZnzpxBYWEhZs6cieXLl4uWl5ACAgJQr1495OXlyU0EGD16NAIDAzV6J1dbvPo9tWLFChgbGyMqKgrm5uYAgMePH8PHxwe9evUSK0WVmD9/PkJCQhAZGQl9fX2x0yHSOjyWT0RERCrTuHFjJCYmwsXFBaampjhz5gzatWuHxMREzJw5U2EHVBM0a9YM8fHx6Nixo9zx2JycHLi4uKCkpETsFEmJWrZsiSNHjqB9+/Zy6xcvXsSAAQNw//59kTIT3vPnzzF8+HCkpKTA2tpa7ooPUH2igVSPx/K1B3fuiYiISGUqKythbGwMoLrQv3//Ptq1awcrKytcu3ZN5OyEUVpaCgMDA4X1oqIiNGjQQISMSEhPnz7Fw4cPFdYfPnyIZ8+eiZCR6nh7eyM9PR3jxo2rtaEeEQmLxT0RERGpTIcOHZCVlQUbGxt069YNy5Ytg56eHjZs2KCxu0q9evVCdHS0bLSkRCJBVVUVli1bhn79+omcHSnb8OHD4ePjg7CwMHTt2hVAdcPK2bNnY8SIESJnJ6xff/0V8fHxeO+998ROReNVVlYiJSUFLi4uMDMze+N7raysFE5RkGbisXwiIiJSmfj4eJSWlmLEiBHIzs7Gxx9/jOvXr8PCwgI7d+5E//79xU5R6S5evAh3d3e4uroiMTERHh4euHTpEoqKipCSkgI7OzuxUyQlKisrw6xZsxAZGYny8nIAQL169TBp0iR89913Gj1r3MHBAbt27YKLi4vYqWiFhg0b4sqVK7CxsRE7FaojWNwTERGRqIqKimBubq7RR3ifPHmC1atXIysrCyUlJXB1dcX06dPRvHlzsVMjgZSWlsqmUdjZ2Wl0UV/j119/xapVq7Bu3TpYW1uLnY7Gc3Nzw3/+8x+4u7uLnQrVESzuiYiISOXeNvOdiNSPubk5ysrKUFFRAQMDA4Wj4EVFRSJlppni4uLw7bffYsGCBejSpYvCAyQTExORMiOxsLgnIiIilSksLMSoUaOQlJQkN/N94sSJcjPfNU1xcTHOnDmDgoICVFVVyb3m5eUlUlZEyhUVFfXG1729vVWUiXbQ0dGRff3qw9Gah6WVlZVipEUiYnFPREREKuPl5YWCggJs2rQJjo6OsvFM8fHxCAwMxKVLl8ROUeliY2Ph6emJkpISmJiYyH0Il0gk3M0kov9JcnLyG1/v06ePijKhuoLFPREREamMNs58b9u2LQYPHozFixfXOhKPSNMUFBTUekqFjfaIhMVReERERKQy2jjz/d69e/Dz82NhTxovPT0d3t7euHLlCl7fP+QxcWEUFxdj8+bNuHLlCgCgffv2mDhxIkxNTUXOjMSg8/a3EBERESlHzcz3Gtow833gwIFIS0sTOw0iwU2cOBFt27bFqVOnkJOTg9zcXNlfOTk5YqencdLS0mBnZ4eVK1eiqKgIRUVFWLFiBezs7JCRkSF2eiQCHssnIiIilbl06RL69++v8TPfDxw4IPv64cOHCA0NhY+PD5ydnRU6iHt4eKg6PSJBGBsbIzMzE/b29mKnohV69eoFe3t7bNy4EfXqVR/IrqiowOTJk5GTk4Pjx4+LnCGpGot7IiIiUony8nIMGjQIS5YswW+//abRM99f7WL9JjyqTJpk2LBhGD9+PEaOHCl2KlpBX18fmZmZcHBwkFu/fPky3NzcUFZWJlJmJBbeuSciIiKVqF+/Ps6fPw9zc3PMnTtX7HQE9XojMSJtsGnTJnh7e+PixYvo0KEDT6kIzMTEBHl5eQrF/Z07d2BsbCxSViQmFvdERESkMuPGjcPmzZuxdOlSsVMhIiVLTU1FSkoKDh8+rPAaT6ko3+jRozFp0iQsX74cPXv2BACkpKRg9uzZGDNmjMjZkRhY3BMREZHKVFRUIDIyEkePHkWXLl1gaGgo9/qKFStEykw4fn5+sLe3h5+fn9z66tWrkZ2djfDwcHESI1IyX19fjBs3DkFBQWjatKnY6Wi85cuXQyKRwMvLCxUVFQCqT0hNmzaND1C1FO/cExERkcq8qSO+RCJBYmKiCrNRjZYtW+LAgQPo0qWL3HpGRgY8PDxw9+5dkTIjUi5jY2OcO3dOYxpjqouysjLcvHkTAGBnZ8exm1qMO/dERESkMklJSWKnoHKFhYW1zpw2MTHBo0ePRMiISBgjRoxAUlISi3sVMzAwgLOzs9hpUB3A4p6IiIhIQPb29oiLi8NXX30lt3748GHY2tqKlBWR8rVt2xbffvstTp48WevYx9evptA/8+LFC6xatQpJSUkoKChQaOTJWffah8fyiYiIiAQUGRmJr776CrNnz0b//v0BAAkJCQgLC0N4eDimTJkicoZEymFjY/OXr0kkEuTk5KgwG83n6emJI0eO4JNPPkHTpk0hkUjkXp83b55ImZFYWNwTERERCWzt2rVYtGgR7t+/DwCwtrbG/Pnz4eXlJXJmRKSuTE1NcejQIbz77rtip0J1BIt7IiIiIhV5+PAh9PX1YWRkJHYqREoRGBiIBQsWwNDQEIGBgX/5PolEgrCwMBVmpvmcnJywY8cOuLi4iJ0K1RG8c09ERESkIk2aNBE7BSKlyszMRHl5uezrv/L6kXH658LCwjBnzhysW7cOVlZWYqdDdQB37omIiIgEFhMTg127diEvLw8vX76Ue41Nr4jof/Hw4UOMGjUKx48fh4GBgUIDw6KiIpEyI7Fw556IiIhIQBEREZg7dy4mTJiA/fv3w8fHBzdv3sTZs2cxffp0sdMjIjU1ZswY3Lt3D4sXL661oR5pH+7cExEREQnIwcEB8+bNw5gxY2BsbIysrCzY2toiODgYRUVFWL16tdgpEpEaMjAwQGpqKjp27Ch2KlRH6IidABEREZEmy8vLQ8+ePQEA+vr6ePbsGQBg/Pjx2L59u5ipEZEac3BwwPPnz8VOg+oQFvdEREREAmrWrJns7mvr1q3x+++/AwByc3PBA5RE9L9aunQpZs6ciWPHjqGwsBBPnz6V+4u0D+/cExEREQmof//+OHDgADp37gwfHx8EBAQgJiYGaWlpGDFihNjpEZGaGjRoEADA3d1dbl0qlUIikaCyslKMtEhEvHNPREREJKCqqipUVVWhXr3qPZUdO3bg1KlTaNOmDT7//HPo6emJnCERqaPk5OQ3vt6nTx8VZUJ1BYt7IiIiIiIiIjXHY/lEREREAnv8+DE2b96MK1euAACcnJzg4+ODRo0aiZwZEamr48ePv/H13r17qygTqiu4c09EREQkoOPHj8PDwwMmJiZwc3MDAKSnp6O4uBixsbH8AE5E/xMdHcXe6K/Ouuede+3D4p6IiIhIQM7OzujRowfWrl0LXV1dANUfur/88kucOnUKFy5cEDlDIlJHT548kftzeXk5MjMzERQUhEWLFik02iPNx+KeiIiISED6+vo4d+4c2rVrJ7d+7do1dOrUiXOqiUipkpOTERgYiPT0dLFTIRXjnHsiIiIiAbm6usru2r/qypUr6NixowgZEZEma9q0Ka5duyZ2GiQCNtQjIiIiEpCfnx/8/f2RnZ2N7t27AwB+//13rFmzBkuXLsX58+dl73VxcRErTSJSM6/+7ACq59vn5+dj6dKl6NSpkzhJkah4LJ+IiIhIQLU1vXqVRCKBVCqFRCJhAywi+tt0dHRkPz9e1b17d0RGRsLBwUGkzEgs3LknIiIiElBubq7YKRCRBnr9Z4uOjg6aNGmChg0bipQRiY3FPREREZGArKysAACXL19GXl4eXr58KXtNIpFgyJAhYqVGRGosOTkZo0ePRoMGDeTWX758iR07dsDLy0ukzEgsPJZPREREJKCcnBwMHz4cFy5ckDtCWzOPmkfxieh/oauri/z8fFhaWsqtFxYWwtLSkj9btBC75RMREREJyN/fHzY2NigoKICBgQEuXryI48ePw83NDceOHRM7PSJSUzW9Ol539+5dmJqaipARiY3H8omIiIgElJqaisTERDRu3Bg6OjrQ1dXFe++9hyVLlsDPzw+ZmZlip0hEaqRz586QSCSQSCRwd3dHvXr/v6SrrKxEbm4uBg0aJGKGJBYW90REREQCqqyshLGxMQCgcePGuH//Ptq1awcrKyvOoiai/9qwYcMAAOfOncPAgQNhZGQke01PTw/W1tYYOXKkSNmRmFjcExEREQmoQ4cOyMrKgo2NDbp164Zly5ZBT08PGzZsgK2trdjpEZGamTdvHgDA2toao0ePfmt3/O3bt8PDwwOGhoaqSI9ExIZ6RERERAKKj49HaWkpRowYgezsbHz88ce4fv06LCwssHPnTvTv31/sFIlIg5mYmODcuXN8mKgFWNwTERERqVhRURHMzc1rbYZFRKRMxsbGyMrKYnGvBXgsn4iIiEjFGjVqJHYKRESkYTgKj4iIiIiIiEjNsbgnIiIiIiIiUnMs7omIiIiIiIjUHIt7IiIiIiIiDWVlZYX69euLnQapALvlExEREREREak5dssnIiIiIiJSA//NCM2ioiKBs6G6hsU9ERERERGRGggPD5d9XVhYiIULF2LgwIHo0aMHACA1NRXx8fEICgoSKUMSE4/lExERERERqZmRI0eiX79++Oqrr+TWV69ejaNHj+KXX34RJzESDYt7IiIiIiIiNWNkZIRz587B3t5ebj07OxudOnVCSUmJSJmRWNgtn4iIiIiISM1YWFhg//79Cuv79++HhYWFCBmR2HjnnoiIiIiISM2EhIRg8uTJOHbsGLp16wYAOH36NOLi4rBx40aRsyMx8Fg+ERERERGRGjp9+jQiIiJw5coVAICjoyP8/PxkxT5pFxb3RERERERERGqOx/KJiIiIiIjUwNOnT2FiYiL7+k1q3kfagzv3REREREREakBXVxf5+fmwtLSEjo4OJBKJwnukUikkEgkqKytFyJDExJ17IiIiIiIiNZCYmIhGjRoBAJKSkkTOhuoa7twTERERERERqTnu3BMREREREamB8+fP/+33uri4CJgJ1UXcuSciIiIiIlIDNffs31bC8c69duLOPRERERERkRrIzc0VOwWqw7hzT0RERERERKTmuHNPRERERESkhm7evInw8HBcuXIFAODk5AR/f3/Y2dmJnBmJQUfsBIiIiIiIiOi/Ex8fDycnJ5w5cwYuLi5wcXHB6dOn0b59e/z2229ip0ci4LF8IiIiIiIiNdO5c2cMHDgQS5culVv/5ptvcOTIEWRkZIiUGYmFxT0REREREZGaadiwIS5cuIA2bdrIrV+/fh0uLi548eKFSJmRWHgsn4iIiIiISM00adIE586dU1g/d+4cLC0tVZ8QiY4N9YiIiIiIiNTMlClTMHXqVOTk5KBnz54AgJSUFCxduhQzZ84UOTsSA4/lExERERERqRmpVIrw8HCEhYXh/v37AICWLVti1qxZ8PPzg0QiETlDUjUW90RERERERGrm+fPnkEqlMDAwwLNnz5Cbm4uEhAQ4OTlh4MCBYqdHIuCdeyIiIiIiIjUzdOhQREdHAwAqKysxYMAArFixAsOGDcPatWtFzo7EwOKeiIiIiIhIzWRkZKBXr14AgJiYGDRt2hS3b99GdHQ0IiIiRM6OxMDinoiIiIiISM2UlZXB2NgYAHDkyBGMGDECOjo66N69O27fvi1ydiQGFvdERERERERqxt7eHr/88gvu3LmD+Ph4DBgwAABQUFAAExMTkbMjMbC4JyIiIiIiUjPBwcGYNWsWrK2t0a1bN/To0QNA9S5+586dRc6OxMBu+URERERERGrowYMHyM/PR8eOHaGjU71ve+bMGZiYmMDBwUHk7EjVWNwTERERERERqTkeyyciIiIiIiJScyzuiYiIiIiIiNQci3siIiIiIiIiNcfinoiIiIiIiEjNsbgnIiIiIiIiUnMs7omIiIiIiIjUHIt7IiIiIiIiIjX3/wAd/wwuzUlyIgAAAABJRU5ErkJggg==\n"
          },
          "metadata": {}
        }
      ],
      "source": [
        "#Check the linearality of predictors in demographic\n",
        "import seaborn as sns\n",
        "import matplotlib.pyplot as plt\n",
        "\n",
        "# Get numerical features\n",
        "numerical_features = demographic_train.select_dtypes(include=['int64', 'float64']).columns.tolist()\n",
        "\n",
        "# Compute the correlation matrix\n",
        "corr = demographic_train[numerical_features].corr()\n",
        "\n",
        "# Generate a mask for the upper triangle\n",
        "mask = np.triu(np.ones_like(corr, dtype=bool))\n",
        "\n",
        "# Set up the matplotlib figure\n",
        "f, ax = plt.subplots(figsize=(11, 9))\n",
        "\n",
        "# Generate a custom diverging colormap\n",
        "cmap = sns.diverging_palette(230, 20, as_cmap=True)\n",
        "\n",
        "# Draw the heatmap with the mask and correct aspect ratio\n",
        "sns.heatmap(corr, mask=mask, cmap=cmap, vmax=.3, center=0,\n",
        "            square=True, linewidths=.5, cbar_kws={\"shrink\": .5})\n",
        "plt.savefig('correlation graph.png')\n",
        "plt.show()"
      ]
    },
    {
      "cell_type": "code",
      "execution_count": 7,
      "id": "5dd6d3f7-0dfd-4181-a6c1-ff4235598d35",
      "metadata": {
        "editable": true,
        "tags": [],
        "id": "5dd6d3f7-0dfd-4181-a6c1-ff4235598d35"
      },
      "outputs": [],
      "source": [
        "\n",
        "def demographic_fill_na(df):\n",
        "    # Weight and bmi and height are highly related, remove weight.\n",
        "    df.drop('weight', axis=1, inplace=True)\n",
        "\n",
        "    # Fill the null value in ethnicity column with \"Other/Unknown\"\n",
        "    df['ethnicity'] = df['ethnicity'].fillna('Other/Unknown')\n",
        "\n",
        "    #Fill the null value of gender with equal M and F\n",
        "    # Define the choices and probabilities\n",
        "    choices = ['M', 'F']\n",
        "    probabilities = [0.5, 0.5]\n",
        "\n",
        "    # Use np.random.choice to fill each missing value\n",
        "    df.loc[df['gender'].isnull(), 'gender'] = np.random.choice(choices, size=df['gender'].isnull().sum(), p=probabilities)\n",
        "\n",
        "    # Fill the null value in \"hospital_admit_source\" column with \"Unknown\"\n",
        "    df['hospital_admit_source'] = df['hospital_admit_source'].fillna('Unknown')\n",
        "\n",
        "    # Fill the null value in \"icu_admit_source\" column with \"Floor\"\n",
        "    df['icu_admit_source'] = df['icu_admit_source'].fillna('Floor')\n",
        "\n",
        "    # Fill the null value in \"bodysystem_diagnosis_admit\" column with \"Unknown\"\n",
        "    df['bodysystem_diagnosis_admit'] = df['bodysystem_diagnosis_admit'].fillna('Unknown')\n",
        "    return df\n",
        "\n",
        "# remove unit of measure in labs and vitals, the unit of measure shouldn't have any predict power\n",
        "def labs_process(labs):\n",
        "    #remove unit of measure\n",
        "    labs.drop('Unit of Measure', axis=1, inplace=True)\n",
        "    #pivot table to get unique patient_id\n",
        "    labs_pivot = labs.pivot_table(\n",
        "        values=['Min Value', 'Max Value'],\n",
        "        index='patient_id',\n",
        "        columns=['Lab', 'Time of Measure (First Day or First Hour of Stay)']\n",
        "    )\n",
        "    print(labs_pivot.columns)\n",
        "    labs_pivot.reset_index(inplace=True)\n",
        "    print(labs_pivot.columns)\n",
        "    labs_pivot.columns = ['patient_id' if col[0] == 'patient_id' else '_'.join(str(col).strip() for col in col) for col in labs_pivot.columns]\n",
        "    return labs_pivot\n",
        "\n",
        "# It's the very similar function as labs_process\n",
        "def vitals_process(vitals):\n",
        "    #remove unit of measure\n",
        "    vitals.drop('Unit of Measure', axis=1, inplace=True)\n",
        "    #pivot table to get unique patient_id\n",
        "    vitals_pivot = vitals.pivot_table(\n",
        "        values=['Min Value', 'Max Value'],\n",
        "        index='patient_id',\n",
        "        columns=['Vital', 'Time of Measure (First Day or First Hour of Stay)']\n",
        "    )\n",
        "    vitals_pivot.reset_index(inplace=True)\n",
        "    print(vitals_pivot.columns)\n",
        "    vitals_pivot.columns = ['patient_id' if col[0] == 'patient_id' else '_'.join(str(col).strip() for col in col) for col in vitals_pivot.columns]\n",
        "    return vitals_pivot\n"
      ]
    },
    "tags": []
   },
   "outputs": [],
   "source": [
    "\n",
    "from sklearn.model_selection import GridSearchCV\n",
    "\n",
    "# Helper function to fit the model with error handling\n",
    "def fit_model(pipeline_dict, X_train, y_train):\n",
    "    try:\n",
    "        grid_search = GridSearchCV(pipeline_dict['pipeline'], pipeline_dict.get('params_grid', {}),\n",
    "                                   cv=5, scoring=scoring, refit='f1_score')\n",
    "        grid_search.fit(X_train, y_train)\n",
    "        return grid_search\n",
    "    except Exception as e:\n",
    "        error_message = f\"An error occurred while fitting the model {pipeline_dict['name']}: {e}\"\n",
    "        print(error_message)\n",
    "        wandb.log({\"error\": error_message}) # Logging the error to W&B\n",
    "        return None\n",
    "\n",
    "# Helper function to evaluate the model with error handling\n",
    "def evaluate_model(grid_search, X_val, y_val, model_name, fraction):\n",
    "    if grid_search is None:\n",
    "        error_message = f\"Skipping evaluation for {model_name} due to an error during fitting.\"\n",
    "        print(error_message)\n",
    "        wandb.log({\"error\": error_message}) # Logging the error to W&B\n",
    "        return\n",
    "\n",
    "    try:\n",
    "        y_pred = grid_search.predict(X_val)\n",
    "        y_prob = grid_search.predict_proba(X_val)[:, 1]\n",
    "        cm = confusion_matrix(y_val, y_pred)\n",
    "        fpr, tpr, _ = roc_curve(y_val, y_prob)\n",
    "        roc_auc = auc(fpr, tpr)\n",
    "        log_results(grid_search, cm, fpr, tpr, roc_auc, model_name, fraction)\n",
    "    except Exception as e:\n",
    "        error_message = f\"An error occurred while evaluating the model {model_name}: {e}\"\n",
    "        print(error_message)\n",
    "        wandb.log({\"error\": error_message}) # Logging the error to W&B\n",
    "\n",
    "def log_results(grid_search, cm, fpr, tpr, roc_auc, model_name, fraction):\n",
    "    \"\"\"Log results to W&B, including confusion matrix, ROC curve, and feature importances.\"\"\"\n",
    "    # Plot confusion matrix\n",
    "    plt.figure(figsize=(10, 7))\n",
    "    sns.heatmap(cm, annot=True, cmap='Blues')\n",
    "    plt.xlabel('Predicted')\n",
    "    plt.ylabel('Actual')\n",
    "    plt.title(f\"Confusion Matrix for {model_name} with fraction {fraction}\")\n",
    "    confusion_matrix_image = plt.gcf()\n",
    "    plt.close()\n",
    "\n",
    "    # Plot ROC curve\n",
    "    plt.figure(figsize=(10, 7))\n",
    "    plt.plot(fpr, tpr, lw=2, label=f'ROC curve (area = {roc_auc:.2f})')\n",
    "    plt.plot([0, 1], [0, 1], lw=2, linestyle='--')\n",
    "    plt.xlabel('False Positive Rate')\n",
    "    plt.ylabel('True Positive Rate')\n",
    "    plt.title(f'ROC Curve for {model_name} with fraction {fraction}')\n",
    "    plt.legend(loc=\"lower right\")\n",
    "    roc_curve_image = plt.gcf()\n",
    "    plt.close()\n",
    "\n",
    "    # Log the results\n",
    "    wandb.log({\n",
    "        \"model_name\": model_name,\n",
    "        \"best_params\": grid_search.best_params_,\n",
    "        \"best_score\": grid_search.best_score_,\n",
    "        \"confusion_matrix\": wandb.Image(confusion_matrix_image),\n",
    "        \"roc_curve\": wandb.Image(roc_curve_image),\n",
    "        \"precision\": grid_search.cv_results_['mean_test_precision'].mean(),\n",
    "        \"recall\": grid_search.cv_results_['mean_test_recall'].mean(),\n",
    "        \"f1_score\": grid_search.cv_results_['mean_test_f1_score'].mean(),\n",
    "        \"fraction\": fraction\n",
    "    })\n",
    "\n",
    "\n",
    "def train_and_evaluate(pipelines, fractions, train_data):\n",
    "    # Initialize W&B\n",
    "    wandb.init(project=\"EHR_record\")\n",
    "\n",
    "    # Loop over the pipelines and fractions\n",
    "    for pipeline_dict in pipelines:\n",
    "        for fraction in fractions:\n",
    "            print(f\"Training {pipeline_dict['name']} with fraction {fraction}\")\n",
    "            X_sampled, y_sampled = sample_data(train_data, fraction)\n",
    "            X_train, X_val, y_train, y_val = train_test_split(X_sampled, y_sampled, test_size=0.2)\n",
    "\n",
    "            # Fit the model\n",
    "            grid_search = fit_model(pipeline_dict, X_train, y_train)\n",
    "\n",
    "            # Evaluate the model\n",
    "            evaluate_model(grid_search, X_val, y_val, pipeline_dict['name'], fraction)\n",
    "\n"
   ]
  },
  {
   "cell_type": "code",
   "execution_count": 103,
   "id": "d01f1d77-70ac-421e-a279-1313f2f43bb9",
   "metadata": {
    "colab": {
     "base_uri": "https://localhost:8080/",
     "height": 1000
    {
      "cell_type": "code",
      "execution_count": 8,
      "id": "fbb745a3-ec65-41ac-9650-9c78b4f6cbc0",
      "metadata": {
        "editable": true,
        "id": "fbb745a3-ec65-41ac-9650-9c78b4f6cbc0",
        "tags": []
      },
      "outputs": [],
      "source": [
        "# Define merge dataset function\n",
        "def merge_datasets(df1, df2, df3, key):\n",
        "\n",
        "    merged_df = pd.merge(df1, df2, on=key, how='inner')\n",
        "    merged_df = pd.merge(merged_df, df3, on=key, how='inner')\n",
        "    return merged_df"
      ]
    },
    {
      "cell_type": "code",
      "execution_count": 9,
      "id": "647c3936-7d2a-48aa-82f5-368d0d42059f",
      "metadata": {
        "editable": true,
        "id": "647c3936-7d2a-48aa-82f5-368d0d42059f",
        "tags": []
      },
      "outputs": [],
      "source": [
        "train = merge_datasets(demographic_train,vitals_train,labs_train,'patient_id')\n",
        "#test = merge_datasets(demographic_test,vitals_test,labs_test,'patient_id')\n",
        "y_train = train['hospital_death']\n",
        "X_train = train.drop('hospital_death', axis=1)\n"
      ]
    },
    {
      "cell_type": "code",
      "execution_count": null,
      "id": "78406951-6013-41d4-beea-8e8099c80ef5",
      "metadata": {
        "editable": true,
        "tags": [],
        "id": "78406951-6013-41d4-beea-8e8099c80ef5",
        "outputId": "9759c97a-3974-4683-91db-67c3df80f55b"
      },
      "outputs": [
        {
          "data": {
            "text/plain": [
              "(61598, 112)"
            ]
          },
          "execution_count": 98,
          "metadata": {},
          "output_type": "execute_result"
        }
      ],
      "source": [
        "X_train.shape"
      ]
    },
    {
      "cell_type": "markdown",
      "id": "866461eb-1a56-4ddc-b38c-50df88bc1329",
      "metadata": {
        "editable": true,
        "id": "866461eb-1a56-4ddc-b38c-50df88bc1329",
        "tags": []
      },
      "source": [
        "## 2. Data cleaning"
      ]
    },
    {
      "cell_type": "code",
      "execution_count": 10,
      "id": "39cf26de-9dd9-4bc6-a24c-0d8cdeccfc83",
      "metadata": {
        "id": "39cf26de-9dd9-4bc6-a24c-0d8cdeccfc83",
        "tags": []
      },
      "outputs": [],
      "source": [
        "from sklearn.impute import SimpleImputer\n",
        "from sklearn.pipeline import Pipeline, make_pipeline\n",
        "from sklearn.compose import ColumnTransformer\n",
        "from sklearn.preprocessing import StandardScaler\n",
        "from sklearn.preprocessing import OneHotEncoder"
      ]
    },
    {
      "cell_type": "markdown",
      "id": "08cacae8-f3c9-45b8-9261-fc1c07e9255a",
      "metadata": {
        "editable": true,
        "id": "08cacae8-f3c9-45b8-9261-fc1c07e9255a",
        "tags": []
      },
      "source": [
        "3. Fit on models"
      ]
    },
    {
      "cell_type": "code",
      "execution_count": 11,
      "id": "jddkoC_Pe-xr",
      "metadata": {
        "colab": {
          "base_uri": "https://localhost:8080/"
        },
        "editable": true,
        "id": "jddkoC_Pe-xr",
        "outputId": "80ccea59-24ff-492b-be41-85a11ef2b9d3",
        "tags": []
      },
      "outputs": [
        {
          "output_type": "stream",
          "name": "stdout",
          "text": [
            "Collecting wandb\n",
            "  Downloading wandb-0.15.8-py3-none-any.whl (2.1 MB)\n",
            "\u001b[2K     \u001b[90m━━━━━━━━━━━━━━━━━━━━━━━━━━━━━━━━━━━━━━━━\u001b[0m \u001b[32m2.1/2.1 MB\u001b[0m \u001b[31m10.2 MB/s\u001b[0m eta \u001b[36m0:00:00\u001b[0m\n",
            "\u001b[?25hRequirement already satisfied: Click!=8.0.0,>=7.1 in /usr/local/lib/python3.10/dist-packages (from wandb) (8.1.6)\n",
            "Collecting GitPython!=3.1.29,>=1.0.0 (from wandb)\n",
            "  Downloading GitPython-3.1.32-py3-none-any.whl (188 kB)\n",
            "\u001b[2K     \u001b[90m━━━━━━━━━━━━━━━━━━━━━━━━━━━━━━━━━━━━━━\u001b[0m \u001b[32m188.5/188.5 kB\u001b[0m \u001b[31m17.2 MB/s\u001b[0m eta \u001b[36m0:00:00\u001b[0m\n",
            "\u001b[?25hRequirement already satisfied: requests<3,>=2.0.0 in /usr/local/lib/python3.10/dist-packages (from wandb) (2.31.0)\n",
            "Requirement already satisfied: psutil>=5.0.0 in /usr/local/lib/python3.10/dist-packages (from wandb) (5.9.5)\n",
            "Collecting sentry-sdk>=1.0.0 (from wandb)\n",
            "  Downloading sentry_sdk-1.29.2-py2.py3-none-any.whl (215 kB)\n",
            "\u001b[2K     \u001b[90m━━━━━━━━━━━━━━━━━━━━━━━━━━━━━━━━━━━━━━\u001b[0m \u001b[32m215.6/215.6 kB\u001b[0m \u001b[31m11.0 MB/s\u001b[0m eta \u001b[36m0:00:00\u001b[0m\n",
            "\u001b[?25hCollecting docker-pycreds>=0.4.0 (from wandb)\n",
            "  Downloading docker_pycreds-0.4.0-py2.py3-none-any.whl (9.0 kB)\n",
            "Requirement already satisfied: PyYAML in /usr/local/lib/python3.10/dist-packages (from wandb) (6.0.1)\n",
            "Collecting pathtools (from wandb)\n",
            "  Downloading pathtools-0.1.2.tar.gz (11 kB)\n",
            "  Preparing metadata (setup.py) ... \u001b[?25l\u001b[?25hdone\n",
            "Collecting setproctitle (from wandb)\n",
            "  Downloading setproctitle-1.3.2-cp310-cp310-manylinux_2_5_x86_64.manylinux1_x86_64.manylinux_2_17_x86_64.manylinux2014_x86_64.whl (30 kB)\n",
            "Requirement already satisfied: setuptools in /usr/local/lib/python3.10/dist-packages (from wandb) (67.7.2)\n",
            "Requirement already satisfied: appdirs>=1.4.3 in /usr/local/lib/python3.10/dist-packages (from wandb) (1.4.4)\n",
            "Requirement already satisfied: protobuf!=4.21.0,<5,>=3.19.0 in /usr/local/lib/python3.10/dist-packages (from wandb) (3.20.3)\n",
            "Requirement already satisfied: six>=1.4.0 in /usr/local/lib/python3.10/dist-packages (from docker-pycreds>=0.4.0->wandb) (1.16.0)\n",
            "Collecting gitdb<5,>=4.0.1 (from GitPython!=3.1.29,>=1.0.0->wandb)\n",
            "  Downloading gitdb-4.0.10-py3-none-any.whl (62 kB)\n",
            "\u001b[2K     \u001b[90m━━━━━━━━━━━━━━━━━━━━━━━━━━━━━━━━━━━━━━━━\u001b[0m \u001b[32m62.7/62.7 kB\u001b[0m \u001b[31m7.4 MB/s\u001b[0m eta \u001b[36m0:00:00\u001b[0m\n",
            "\u001b[?25hRequirement already satisfied: charset-normalizer<4,>=2 in /usr/local/lib/python3.10/dist-packages (from requests<3,>=2.0.0->wandb) (3.2.0)\n",
            "Requirement already satisfied: idna<4,>=2.5 in /usr/local/lib/python3.10/dist-packages (from requests<3,>=2.0.0->wandb) (3.4)\n",
            "Requirement already satisfied: urllib3<3,>=1.21.1 in /usr/local/lib/python3.10/dist-packages (from requests<3,>=2.0.0->wandb) (2.0.4)\n",
            "Requirement already satisfied: certifi>=2017.4.17 in /usr/local/lib/python3.10/dist-packages (from requests<3,>=2.0.0->wandb) (2023.7.22)\n",
            "Collecting smmap<6,>=3.0.1 (from gitdb<5,>=4.0.1->GitPython!=3.1.29,>=1.0.0->wandb)\n",
            "  Downloading smmap-5.0.0-py3-none-any.whl (24 kB)\n",
            "Building wheels for collected packages: pathtools\n",
            "  Building wheel for pathtools (setup.py) ... \u001b[?25l\u001b[?25hdone\n",
            "  Created wheel for pathtools: filename=pathtools-0.1.2-py3-none-any.whl size=8791 sha256=822e33c13882d14650b22d47f1c8adb3bf894be9dc9e30014431c374c5c73df2\n",
            "  Stored in directory: /root/.cache/pip/wheels/e7/f3/22/152153d6eb222ee7a56ff8617d80ee5207207a8c00a7aab794\n",
            "Successfully built pathtools\n",
            "Installing collected packages: pathtools, smmap, setproctitle, sentry-sdk, docker-pycreds, gitdb, GitPython, wandb\n",
            "Successfully installed GitPython-3.1.32 docker-pycreds-0.4.0 gitdb-4.0.10 pathtools-0.1.2 sentry-sdk-1.29.2 setproctitle-1.3.2 smmap-5.0.0 wandb-0.15.8\n"
          ]
        }
      ],
      "source": [
        "%pip install wandb"
      ]
    },
    {
      "cell_type": "code",
      "execution_count": 12,
      "id": "ee5179ec-5f87-4a7d-826b-57e5ee2cd78b",
      "metadata": {
        "id": "ee5179ec-5f87-4a7d-826b-57e5ee2cd78b"
      },
      "outputs": [],
      "source": [
        "import wandb\n",
        "from sklearn.linear_model import LogisticRegression\n",
        "from sklearn.ensemble import RandomForestClassifier\n",
        "from sklearn.ensemble import GradientBoostingClassifier\n",
        "\n",
        "from sklearn.model_selection import cross_val_score, cross_validate\n",
        "from sklearn.metrics import classification_report\n",
        "\n",
        "import seaborn as sns\n",
        "import matplotlib.pyplot as plt"
      ]
    },
    {
      "cell_type": "code",
      "source": [
        "#sample data function to reduce calculation, RAM overflow\n",
        "def sample_data(df, fraction, target_col='hospital_death'):\n",
        "    # Group by the target column and sample fraction from each group\n",
        "    sampled_df = df.groupby(target_col).apply(lambda x: x.sample(frac=fraction, random_state=42)).reset_index(drop=True)\n",
        "    sampled_X = sampled_df.drop('hospital_death', axis=1)\n",
        "    sampled_y = sampled_df['hospital_death']\n",
        "    return sampled_X, sampled_y\n"
      ],
      "metadata": {
        "id": "UVBAuv5bvVDa"
      },
      "id": "UVBAuv5bvVDa",
      "execution_count": 30,
      "outputs": []
    },
    {
      "cell_type": "code",
      "execution_count": 14,
      "id": "89d0e66a-843b-4fc1-88c0-e03e516ecb41",
      "metadata": {
        "editable": true,
        "id": "89d0e66a-843b-4fc1-88c0-e03e516ecb41",
        "tags": []
      },
      "outputs": [],
      "source": [
        "from sklearn.model_selection import RandomizedSearchCV\n",
        "\n",
        "# Logistic Regressy hyperparamerters\n",
        "logistic_params = {\n",
        "    'classifier__max_iter': [1000, 5000, 10000]\n",
        "}\n",
        "\n",
        "\n",
        "# Random Forest hyperparameters\n",
        "rf_params = {\n",
        "    'classifier__n_estimators': [100, 200, 300],\n",
        "    'classifier__max_depth': [10, 20, 30],\n",
        "    'classifier__min_samples_split': [2, 5, 10],\n",
        "    'classifier__min_samples_leaf': [1, 2, 4]\n",
        "}\n",
        "\n",
        "# Gradient Boosting hyperparameters\n",
        "gb_params = {\n",
        "    'classifier__n_estimators': [100, 200, 300],\n",
        "    'classifier__learning_rate': [0.01, 0.05, 0.1],\n",
        "    'classifier__max_depth': [3, 5, 7]\n",
        "}\n",
        "\n",
        "\n",
        "\n",
        "# Define the fractions to try\n",
        "fractions = [0.1, 0.2, 0.3]\n",
        "\n",
        "# Define scoring dictionary\n",
        "scoring = {\n",
        "    'precision': 'precision',\n",
        "    'recall': 'recall',\n",
        "    'f1_score': 'f1'\n",
        "}"
      ]
    },
    {
      "cell_type": "code",
      "execution_count": 15,
      "id": "f82f0970-9b29-41d6-a863-5a9f345af16e",
      "metadata": {
        "editable": true,
        "id": "f82f0970-9b29-41d6-a863-5a9f345af16e",
        "tags": []
      },
      "outputs": [],
      "source": [
        "# Get numerical features\n",
        "numerical_features = X_train.select_dtypes(include=['int64', 'float64']).columns.tolist()\n",
        "\n",
        "# Get categorical features\n",
        "categorical_features = X_train.select_dtypes(include=['object']).columns.tolist()\n",
        "\n",
        "\n",
        "# Define the preprocessing steps with all pipeline\n",
        "numerical_transformer = Pipeline(steps=[\n",
        "    ('imputer', SimpleImputer(strategy='mean')),\n",
        "    ('scaler', StandardScaler())\n",
        "])\n",
        "categorical_transformer = Pipeline(steps=[\n",
        "    ('imputer', SimpleImputer(strategy='most_frequent')),\n",
        "    ('onehot', OneHotEncoder(handle_unknown='ignore'))\n",
        "])\n",
        "\n",
        "# Combine numerical and categorical preprocessing\n",
        "preprocessor = ColumnTransformer(\n",
        "    transformers=[\n",
        "        ('num', numerical_transformer, numerical_features),\n",
        "        ('cat', categorical_transformer, categorical_features)\n",
        "    ])\n",
        "\n",
        "# Define the pipelines to try\n",
        "pipelines = [\n",
        "    {\"name\": \"Logistic Regression\", \"pipeline\": Pipeline([('preprocessor', preprocessor),\n",
        "                                                          ('classifier', LogisticRegression(class_weight='balanced'))]),\n",
        "                                                            \"params_grid\": logistic_params},\n",
        "   {\"name\": \"Random Forest\", \"pipeline\": Pipeline([('preprocessor', preprocessor),\n",
        "                                                   ('classifier', RandomForestClassifier())]),\n",
        "                                                    \"params_grid\": rf_params},\n",
        "\n",
        "    {\"name\": \"Gradient Boost\", \"pipeline\": Pipeline([('preprocessor', preprocessor),\n",
        "                                                     ('classifier', GradientBoostingClassifier())]),\n",
        "                                                     \"params_grid\": gb_params},\n",
        "\n",
        "]\n"
      ]
    },
    {
      "cell_type": "code",
      "execution_count": 16,
      "id": "add66de6-8f74-4674-aada-54c2c990ecd5",
      "metadata": {
        "editable": true,
        "id": "add66de6-8f74-4674-aada-54c2c990ecd5",
        "tags": []
      },
      "outputs": [],
      "source": [
        "from sklearn.model_selection import train_test_split\n",
        "from sklearn.metrics import confusion_matrix\n",
        "import seaborn as sns\n",
        "from sklearn.metrics import roc_curve, auc\n"
      ]
    },
    {
      "cell_type": "code",
      "execution_count": 34,
      "id": "aa98153a-abbd-4be5-b33a-0827f11fa83f",
      "metadata": {
        "editable": true,
        "id": "aa98153a-abbd-4be5-b33a-0827f11fa83f",
        "tags": []
      },
      "outputs": [],
      "source": [
        "\n",
        "from sklearn.model_selection import GridSearchCV\n",
        "\n",
        "# Helper function to fit the model with error handling\n",
        "def fit_model(pipeline_dict, X_train, y_train):\n",
        "    try:\n",
        "        grid_search = GridSearchCV(pipeline_dict['pipeline'], pipeline_dict.get('params_grid', {}),\n",
        "                                   cv=5, scoring=scoring, refit='f1_score')\n",
        "        grid_search.fit(X_train, y_train)\n",
        "        return grid_search\n",
        "    except Exception as e:\n",
        "        error_message = f\"An error occurred while fitting the model {pipeline_dict['name']}: {e}\"\n",
        "        print(error_message)\n",
        "        wandb.log({\"error\": error_message}) # Logging the error to W&B\n",
        "        return None\n",
        "\n",
        "# Helper function to evaluate the model with error handling\n",
        "def evaluate_model(grid_search, X_val, y_val, model_name, fraction):\n",
        "    if grid_search is None:\n",
        "        error_message = f\"Skipping evaluation for {model_name} due to an error during fitting.\"\n",
        "        print(error_message)\n",
        "        wandb.log({\"error\": error_message}) # Logging the error to W&B\n",
        "        return\n",
        "\n",
        "    try:\n",
        "        y_pred = grid_search.predict(X_val)\n",
        "        y_prob = grid_search.predict_proba(X_val)[:, 1]\n",
        "        cm = confusion_matrix(y_val, y_pred)\n",
        "        fpr, tpr, _ = roc_curve(y_val, y_prob)\n",
        "        roc_auc = auc(fpr, tpr)\n",
        "        log_results(grid_search, cm, fpr, tpr, roc_auc, model_name, fraction)\n",
        "    except Exception as e:\n",
        "        error_message = f\"An error occurred while evaluating the model {model_name}: {e}\"\n",
        "        print(error_message)\n",
        "        wandb.log({\"error\": error_message}) # Logging the error to W&B\n",
        "\n",
        "def log_results(grid_search, cm, fpr, tpr, roc_auc, model_name, fraction):\n",
        "    \"\"\"Log results to W&B, including confusion matrix, ROC curve, and feature importances.\"\"\"\n",
        "    # Plot confusion matrix\n",
        "    plt.figure(figsize=(10, 7))\n",
        "    sns.heatmap(cm, annot=True, cmap='Blues')\n",
        "    plt.xlabel('Predicted')\n",
        "    plt.ylabel('Actual')\n",
        "    plt.title(f\"Confusion Matrix for {model_name} with fraction {fraction}\")\n",
        "    confusion_matrix_image = plt.gcf()\n",
        "    plt.close()\n",
        "\n",
        "    # Plot ROC curve\n",
        "    plt.figure(figsize=(10, 7))\n",
        "    plt.plot(fpr, tpr, lw=2, label=f'ROC curve (area = {roc_auc:.2f})')\n",
        "    plt.plot([0, 1], [0, 1], lw=2, linestyle='--')\n",
        "    plt.xlabel('False Positive Rate')\n",
        "    plt.ylabel('True Positive Rate')\n",
        "    plt.title(f'ROC Curve for {model_name} with fraction {fraction}')\n",
        "    plt.legend(loc=\"lower right\")\n",
        "    roc_curve_image = plt.gcf()\n",
        "    plt.close()\n",
        "\n",
        "    # Log the results\n",
        "    wandb.log({\n",
        "        \"model_name\": model_name,\n",
        "        \"best_params\": grid_search.best_params_,\n",
        "        \"best_score\": grid_search.best_score_,\n",
        "        \"confusion_matrix\": wandb.Image(confusion_matrix_image),\n",
        "        \"roc_curve\": wandb.Image(roc_curve_image),\n",
        "        \"precision\": grid_search.cv_results_['mean_test_precision'].mean(),\n",
        "        \"recall\": grid_search.cv_results_['mean_test_recall'].mean(),\n",
        "        \"f1_score\": grid_search.cv_results_['mean_test_f1_score'].mean(),\n",
        "        \"fraction\": fraction\n",
        "    })\n",
        "\n",
        "\n",
        "def train_and_evaluate(pipelines, fractions, train_data):\n",
        "    # Initialize W&B\n",
        "    wandb.init(project=\"EHR_record2\")\n",
        "\n",
        "    # Loop over the pipelines and fractions\n",
        "    for pipeline_dict in pipelines:\n",
        "        for fraction in fractions:\n",
        "            print(f\"Training {pipeline_dict['name']} with fraction {fraction}\")\n",
        "            X_sampled, y_sampled = sample_data(train_data, fraction)\n",
        "            X_train, X_val, y_train, y_val = train_test_split(X_sampled, y_sampled, stratify=y_sampled, test_size=0.2)\n",
        "\n",
        "            # Fit the model\n",
        "            grid_search = fit_model(pipeline_dict, X_train, y_train)\n",
        "\n",
        "            # Evaluate the model\n",
        "            evaluate_model(grid_search, X_val, y_val, pipeline_dict['name'], fraction)\n",
        "\n"
      ]
    },
    {
      "cell_type": "code",
      "execution_count": null,
      "id": "d01f1d77-70ac-421e-a279-1313f2f43bb9",
      "metadata": {
        "colab": {
          "base_uri": "https://localhost:8080/",
          "height": 285,
          "referenced_widgets": [
            "d0449730d81d45de8f9e160d0581dcba",
            "2a2b16ecccd8486fafd17de564ffcd5a",
            "6058fd9f83104d8d9f2e484e464ae34b",
            "7deb3e5694fb4990998dcb67c4e179c7",
            "2587687098784c1ebfd65e7796bf4558",
            "223639be58324dc493e1d766987acf07",
            "f234e0c23ada4e9686b89f9047e70015",
            "b18e1b41904f45ebae90448b6b3539a8"
          ]
        },
        "editable": true,
        "id": "d01f1d77-70ac-421e-a279-1313f2f43bb9",
        "outputId": "e5cba393-ff5d-4118-da1f-3fcca4a0ae98",
        "tags": []
      },
      "outputs": [
        {
          "output_type": "display_data",
          "data": {
            "text/plain": [
              "<IPython.core.display.HTML object>"
            ],
            "text/html": [
              "Finishing last run (ID:ebgfwxj2) before initializing another..."
            ]
          },
          "metadata": {}
        },
        {
          "output_type": "display_data",
          "data": {
            "text/plain": [
              "<IPython.core.display.HTML object>"
            ],
            "text/html": [
              "Waiting for W&B process to finish... <strong style=\"color:green\">(success).</strong>"
            ]
          },
          "metadata": {}
        },
        {
          "output_type": "display_data",
          "data": {
            "text/plain": [
              "VBox(children=(Label(value='0.001 MB of 0.009 MB uploaded (0.000 MB deduped)\\r'), FloatProgress(value=0.124041…"
            ],
            "application/vnd.jupyter.widget-view+json": {
              "version_major": 2,
              "version_minor": 0,
              "model_id": "d0449730d81d45de8f9e160d0581dcba"
            }
          },
          "metadata": {}
        },
        {
          "output_type": "display_data",
          "data": {
            "text/plain": [
              "<IPython.core.display.HTML object>"
            ],
            "text/html": [
              " View run <strong style=\"color:#cdcd00\">comic-violet-7</strong> at: <a href='https://wandb.ai/xin0558/EHR_record2/runs/ebgfwxj2' target=\"_blank\">https://wandb.ai/xin0558/EHR_record2/runs/ebgfwxj2</a><br/>Synced 5 W&B file(s), 0 media file(s), 0 artifact file(s) and 0 other file(s)"
            ]
          },
          "metadata": {}
        },
        {
          "output_type": "display_data",
          "data": {
            "text/plain": [
              "<IPython.core.display.HTML object>"
            ],
            "text/html": [
              "Find logs at: <code>./wandb/run-20230813_164517-ebgfwxj2/logs</code>"
            ]
          },
          "metadata": {}
        },
        {
          "output_type": "display_data",
          "data": {
            "text/plain": [
              "<IPython.core.display.HTML object>"
            ],
            "text/html": [
              "Successfully finished last run (ID:ebgfwxj2). Initializing new run:<br/>"
            ]
          },
          "metadata": {}
        },
        {
          "output_type": "display_data",
          "data": {
            "text/plain": [
              "<IPython.core.display.HTML object>"
            ],
            "text/html": [
              "Tracking run with wandb version 0.15.8"
            ]
          },
          "metadata": {}
        },
        {
          "output_type": "display_data",
          "data": {
            "text/plain": [
              "<IPython.core.display.HTML object>"
            ],
            "text/html": [
              "Run data is saved locally in <code>/content/wandb/run-20230813_164959-4bdjky3k</code>"
            ]
          },
          "metadata": {}
        },
        {
          "output_type": "display_data",
          "data": {
            "text/plain": [
              "<IPython.core.display.HTML object>"
            ],
            "text/html": [
              "Syncing run <strong><a href='https://wandb.ai/xin0558/EHR_record2/runs/4bdjky3k' target=\"_blank\">fresh-leaf-8</a></strong> to <a href='https://wandb.ai/xin0558/EHR_record2' target=\"_blank\">Weights & Biases</a> (<a href='https://wandb.me/run' target=\"_blank\">docs</a>)<br/>"
            ]
          },
          "metadata": {}
        },
        {
          "output_type": "display_data",
          "data": {
            "text/plain": [
              "<IPython.core.display.HTML object>"
            ],
            "text/html": [
              " View project at <a href='https://wandb.ai/xin0558/EHR_record2' target=\"_blank\">https://wandb.ai/xin0558/EHR_record2</a>"
            ]
          },
          "metadata": {}
        },
        {
          "output_type": "display_data",
          "data": {
            "text/plain": [
              "<IPython.core.display.HTML object>"
            ],
            "text/html": [
              " View run at <a href='https://wandb.ai/xin0558/EHR_record2/runs/4bdjky3k' target=\"_blank\">https://wandb.ai/xin0558/EHR_record2/runs/4bdjky3k</a>"
            ]
          },
          "metadata": {}
        },
        {
          "output_type": "stream",
          "name": "stdout",
          "text": [
            "Training Logistic Regression with fraction 0.1\n"
          ]
        }
      ],
      "source": [
        "\n",
        "#Train and evaluate model\n",
        "train_and_evaluate(pipelines, fractions, train)"
      ]
    },
    {
     "name": "stdout",
     "output_type": "stream",
     "text": [
      "Training Logistic Regression with fraction 0.1\n",
      "Training Logistic Regression with fraction 0.2\n",
      "Training Logistic Regression with fraction 0.3\n",
      "Training Random Forest with fraction 0.1\n",
      "Training Random Forest with fraction 0.2\n",
      "Training Random Forest with fraction 0.3\n",
      "Training Gradient Boost with fraction 0.1\n",
      "Training Gradient Boost with fraction 0.2\n",
      "Training Gradient Boost with fraction 0.3\n"
     ]
      "cell_type": "code",
      "execution_count": null,
      "id": "nsrBuGhqhoYL",
      "metadata": {
        "editable": true,
        "id": "nsrBuGhqhoYL",
        "tags": []
      },
      "outputs": [],
      "source": []
    }
  ],
  "metadata": {
    "colab": {
      "machine_shape": "hm",
      "provenance": []
    },
    "kernelspec": {
      "display_name": "data",
      "language": "python",
      "name": "data"
    },
    "language_info": {
      "codemirror_mode": {
        "name": "ipython",
        "version": 3
      },
      "file_extension": ".py",
      "mimetype": "text/x-python",
      "name": "python",
      "nbconvert_exporter": "python",
      "pygments_lexer": "ipython3",
      "version": "3.11.4"
    },
    "toc-autonumbering": true,
    "widgets": {
      "application/vnd.jupyter.widget-state+json": {
        "d0449730d81d45de8f9e160d0581dcba": {
          "model_module": "@jupyter-widgets/controls",
          "model_name": "VBoxModel",
          "model_module_version": "1.5.0",
          "state": {
            "_dom_classes": [],
            "_model_module": "@jupyter-widgets/controls",
            "_model_module_version": "1.5.0",
            "_model_name": "VBoxModel",
            "_view_count": null,
            "_view_module": "@jupyter-widgets/controls",
            "_view_module_version": "1.5.0",
            "_view_name": "VBoxView",
            "box_style": "",
            "children": [
              "IPY_MODEL_2a2b16ecccd8486fafd17de564ffcd5a",
              "IPY_MODEL_6058fd9f83104d8d9f2e484e464ae34b"
            ],
            "layout": "IPY_MODEL_7deb3e5694fb4990998dcb67c4e179c7"
          }
        },
        "2a2b16ecccd8486fafd17de564ffcd5a": {
          "model_module": "@jupyter-widgets/controls",
          "model_name": "LabelModel",
          "model_module_version": "1.5.0",
          "state": {
            "_dom_classes": [],
            "_model_module": "@jupyter-widgets/controls",
            "_model_module_version": "1.5.0",
            "_model_name": "LabelModel",
            "_view_count": null,
            "_view_module": "@jupyter-widgets/controls",
            "_view_module_version": "1.5.0",
            "_view_name": "LabelView",
            "description": "",
            "description_tooltip": null,
            "layout": "IPY_MODEL_2587687098784c1ebfd65e7796bf4558",
            "placeholder": "​",
            "style": "IPY_MODEL_223639be58324dc493e1d766987acf07",
            "value": "0.001 MB of 0.009 MB uploaded (0.000 MB deduped)\r"
          }
        },
        "6058fd9f83104d8d9f2e484e464ae34b": {
          "model_module": "@jupyter-widgets/controls",
          "model_name": "FloatProgressModel",
          "model_module_version": "1.5.0",
          "state": {
            "_dom_classes": [],
            "_model_module": "@jupyter-widgets/controls",
            "_model_module_version": "1.5.0",
            "_model_name": "FloatProgressModel",
            "_view_count": null,
            "_view_module": "@jupyter-widgets/controls",
            "_view_module_version": "1.5.0",
            "_view_name": "ProgressView",
            "bar_style": "",
            "description": "",
            "description_tooltip": null,
            "layout": "IPY_MODEL_f234e0c23ada4e9686b89f9047e70015",
            "max": 1,
            "min": 0,
            "orientation": "horizontal",
            "style": "IPY_MODEL_b18e1b41904f45ebae90448b6b3539a8",
            "value": 0.12404117884537748
          }
        },
        "7deb3e5694fb4990998dcb67c4e179c7": {
          "model_module": "@jupyter-widgets/base",
          "model_name": "LayoutModel",
          "model_module_version": "1.2.0",
          "state": {
            "_model_module": "@jupyter-widgets/base",
            "_model_module_version": "1.2.0",
            "_model_name": "LayoutModel",
            "_view_count": null,
            "_view_module": "@jupyter-widgets/base",
            "_view_module_version": "1.2.0",
            "_view_name": "LayoutView",
            "align_content": null,
            "align_items": null,
            "align_self": null,
            "border": null,
            "bottom": null,
            "display": null,
            "flex": null,
            "flex_flow": null,
            "grid_area": null,
            "grid_auto_columns": null,
            "grid_auto_flow": null,
            "grid_auto_rows": null,
            "grid_column": null,
            "grid_gap": null,
            "grid_row": null,
            "grid_template_areas": null,
            "grid_template_columns": null,
            "grid_template_rows": null,
            "height": null,
            "justify_content": null,
            "justify_items": null,
            "left": null,
            "margin": null,
            "max_height": null,
            "max_width": null,
            "min_height": null,
            "min_width": null,
            "object_fit": null,
            "object_position": null,
            "order": null,
            "overflow": null,
            "overflow_x": null,
            "overflow_y": null,
            "padding": null,
            "right": null,
            "top": null,
            "visibility": null,
            "width": null
          }
        },
        "2587687098784c1ebfd65e7796bf4558": {
          "model_module": "@jupyter-widgets/base",
          "model_name": "LayoutModel",
          "model_module_version": "1.2.0",
          "state": {
            "_model_module": "@jupyter-widgets/base",
            "_model_module_version": "1.2.0",
            "_model_name": "LayoutModel",
            "_view_count": null,
            "_view_module": "@jupyter-widgets/base",
            "_view_module_version": "1.2.0",
            "_view_name": "LayoutView",
            "align_content": null,
            "align_items": null,
            "align_self": null,
            "border": null,
            "bottom": null,
            "display": null,
            "flex": null,
            "flex_flow": null,
            "grid_area": null,
            "grid_auto_columns": null,
            "grid_auto_flow": null,
            "grid_auto_rows": null,
            "grid_column": null,
            "grid_gap": null,
            "grid_row": null,
            "grid_template_areas": null,
            "grid_template_columns": null,
            "grid_template_rows": null,
            "height": null,
            "justify_content": null,
            "justify_items": null,
            "left": null,
            "margin": null,
            "max_height": null,
            "max_width": null,
            "min_height": null,
            "min_width": null,
            "object_fit": null,
            "object_position": null,
            "order": null,
            "overflow": null,
            "overflow_x": null,
            "overflow_y": null,
            "padding": null,
            "right": null,
            "top": null,
            "visibility": null,
            "width": null
          }
        },
        "223639be58324dc493e1d766987acf07": {
          "model_module": "@jupyter-widgets/controls",
          "model_name": "DescriptionStyleModel",
          "model_module_version": "1.5.0",
          "state": {
            "_model_module": "@jupyter-widgets/controls",
            "_model_module_version": "1.5.0",
            "_model_name": "DescriptionStyleModel",
            "_view_count": null,
            "_view_module": "@jupyter-widgets/base",
            "_view_module_version": "1.2.0",
            "_view_name": "StyleView",
            "description_width": ""
          }
        },
        "f234e0c23ada4e9686b89f9047e70015": {
          "model_module": "@jupyter-widgets/base",
          "model_name": "LayoutModel",
          "model_module_version": "1.2.0",
          "state": {
            "_model_module": "@jupyter-widgets/base",
            "_model_module_version": "1.2.0",
            "_model_name": "LayoutModel",
            "_view_count": null,
            "_view_module": "@jupyter-widgets/base",
            "_view_module_version": "1.2.0",
            "_view_name": "LayoutView",
            "align_content": null,
            "align_items": null,
            "align_self": null,
            "border": null,
            "bottom": null,
            "display": null,
            "flex": null,
            "flex_flow": null,
            "grid_area": null,
            "grid_auto_columns": null,
            "grid_auto_flow": null,
            "grid_auto_rows": null,
            "grid_column": null,
            "grid_gap": null,
            "grid_row": null,
            "grid_template_areas": null,
            "grid_template_columns": null,
            "grid_template_rows": null,
            "height": null,
            "justify_content": null,
            "justify_items": null,
            "left": null,
            "margin": null,
            "max_height": null,
            "max_width": null,
            "min_height": null,
            "min_width": null,
            "object_fit": null,
            "object_position": null,
            "order": null,
            "overflow": null,
            "overflow_x": null,
            "overflow_y": null,
            "padding": null,
            "right": null,
            "top": null,
            "visibility": null,
            "width": null
          }
        },
        "b18e1b41904f45ebae90448b6b3539a8": {
          "model_module": "@jupyter-widgets/controls",
          "model_name": "ProgressStyleModel",
          "model_module_version": "1.5.0",
          "state": {
            "_model_module": "@jupyter-widgets/controls",
            "_model_module_version": "1.5.0",
            "_model_name": "ProgressStyleModel",
            "_view_count": null,
            "_view_module": "@jupyter-widgets/base",
            "_view_module_version": "1.2.0",
            "_view_name": "StyleView",
            "bar_color": null,
            "description_width": ""
          }
        }
      }
    }
  },
  "nbformat": 4,
  "nbformat_minor": 5
}